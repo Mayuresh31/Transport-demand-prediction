{
  "nbformat": 4,
  "nbformat_minor": 0,
  "metadata": {
    "colab": {
      "provenance": [],
      "collapsed_sections": [
        "g-3VqNDu0Vln",
        "5ptOFRMl24fN",
        "k9tPmTMJ4lDy",
        "bfgTzN5lAsP9",
        "b8FyPEm7_AeD",
        "cQPQVETiCBcQ",
        "GWRzbGUKvQqt",
        "qJe8Nk8hPzMB",
        "hxU8mGM4Lvs7",
        "Lg9wEkL-N8qJ",
        "afeQTJppQZXS",
        "nJ_GD0qR6MHz"
      ],
      "include_colab_link": true
    },
    "kernelspec": {
      "display_name": "Python 3",
      "language": "python",
      "name": "python3"
    },
    "language_info": {
      "codemirror_mode": {
        "name": "ipython",
        "version": 3
      },
      "file_extension": ".py",
      "mimetype": "text/x-python",
      "name": "python",
      "nbconvert_exporter": "python",
      "pygments_lexer": "ipython3",
      "version": "3.6.6"
    }
  },
  "cells": [
    {
      "cell_type": "markdown",
      "metadata": {
        "id": "view-in-github",
        "colab_type": "text"
      },
      "source": [
        "<a href=\"https://colab.research.google.com/github/Mayuresh31/Transport-demand-prediction/blob/main/TRANSPORT_DEMAND_PREDICTION_Capstone_Project_.ipynb\" target=\"_parent\"><img src=\"https://colab.research.google.com/assets/colab-badge.svg\" alt=\"Open In Colab\"/></a>"
      ]
    },
    {
      "cell_type": "markdown",
      "source": [
        " #  **PROJECT NAME** : **TRANSPORT DEMAND PREDICTION**"
      ],
      "metadata": {
        "id": "qrAjgCRixCrs"
      }
    },
    {
      "cell_type": "markdown",
      "source": [
        "\n",
        "\n",
        " **PROJECT TYPE** : **REGRESSION CAPSTONE PROJECT**\n",
        " \n",
        " **CONTRIBUTION** : **TEAM**\n",
        " \n",
        " **TEAM MEMBERS 1)** : **MAYURESH KUMBHAR**\n",
        "\n",
        " **TEAM MEMBERS 2)** : **AMOL THAKARE**\n",
        "\n",
        "\n"
      ],
      "metadata": {
        "id": "RjQnNagDtfOo"
      }
    },
    {
      "cell_type": "markdown",
      "source": [
        "#  **PROJECT SUMMERY**"
      ],
      "metadata": {
        "id": "BXOl28ylzguk"
      }
    },
    {
      "cell_type": "markdown",
      "metadata": {
        "id": "Y06xIdG26kRF"
      },
      "source": [
        "\n",
        "\n",
        "### This challenge asks you to build a model that predicts the number of seats that Mobiticket can expect to sell for each ride, i.e. for a specific route on a specific date and time. There are 14 routes in this dataset. All of the routes end in Nairobi and originate in towns to the North-West of Nairobi towards Lake Victoria.\n",
        "\n",
        "\n",
        "### The towns from which these routes originate are:\n",
        "\n",
        "* Awendo\n",
        "* Homa Bay\n",
        "* Kehancha\n",
        "* Kendu Bay\n",
        "* Keroka\n",
        "* Keumbu\n",
        "* Kijauri\n",
        "* Kisii\n",
        "* Mbita\n",
        "* Migori\n",
        "* Ndhiwa\n",
        "* Nyachenge\n",
        "* Oyugis\n",
        "* Rodi\n",
        "* Rongo\n",
        "* Sirare\n",
        "* Sori\n",
        "\n",
        "### The routes from these 14 origins to the first stop in the outskirts of Nairobi takes approximately 8 to 9 hours from time of departure. From the first stop in the outskirts of Nairobi into the main bus terminal, where most passengers get off, in Central Business District, takes another 2 to 3 hours depending on traffic.\n",
        "\n",
        "### The three stops that all these routes make in Nairobi (in order) are:\n",
        "\n",
        "1. Kawangware: the first stop in the outskirts of Nairobi\n",
        "2. Westlands\n",
        "3. Afya Centre: the main bus terminal where most passengers disembark\n",
        "\n",
        "### All of these points are mapped [here](https://www.google.com/maps/d/viewer?mid=1Ef2pFdP8keVHHid8bwju2raoRvjOGagN&ll=-0.8281897101491997%2C35.51706279999996&z=8).\n",
        "\n",
        "### Passengers of these bus (or shuttle) rides are affected by Nairobi traffic not only during their ride into the city, but from there they must continue their journey to their final destination in Nairobi wherever that may be. Traffic can act as a deterrent for those who have the option to avoid buses that arrive in Nairobi during peak traffic hours. On the other hand, traffic may be an indication for people’s movement patterns, reflecting business hours, cultural events, political events, and holidays."
      ]
    },
    {
      "cell_type": "markdown",
      "metadata": {
        "id": "AlLxAtlziMbP"
      },
      "source": [
        "## <b> Data Description </b>\n",
        "\n",
        "### <b>Nairobi Transport Data.csv (zipped)</b> is the dataset of tickets purchased from Mobiticket for the 14 routes from “up country” into Nairobi between 17 October 2017 and 20 April 2018. This dataset includes the variables: ride_id, seat_number, payment_method, payment_receipt, travel_date, travel_time, travel_from, travel_to, car_type, max_capacity.\n",
        "\n",
        "\n",
        "### Uber Movement traffic data can be accessed [here](https://movement.uber.com). Data is available for Nairobi through June 2018. Uber Movement provided historic hourly travel time between any two points in Nairobi. Any tables that are extracted from the Uber Movement platform can be used in your model.\n",
        "\n",
        "### Variables description:\n",
        "\n",
        "* #### ride_id: unique ID of a vehicle on a specific route on a specific day and time.\n",
        "* #### seat_number: seat assigned to ticket\n",
        "* #### payment_method: method used by customer to purchase ticket from Mobiticket (cash or Mpesa)\n",
        "* #### payment_receipt: unique id number for ticket purchased from Mobiticket\n",
        "* #### travel_date: date of ride departure. (MM/DD/YYYY)\n",
        "* #### travel_time: scheduled departure time of ride. Rides generally depart on time. (hh:mm)\n",
        "* #### travel_from: town from which ride originated\n",
        "* #### travel_to: destination of ride. All rides are to Nairobi.\n",
        "* #### car_type: vehicle type (shuttle or bus)\n",
        "* #### max_capacity: number of seats on the vehicle"
      ]
    },
    {
      "cell_type": "markdown",
      "source": [
        "#  **GitHub Link**"
      ],
      "metadata": {
        "id": "aRvqnu0Cz1_y"
      }
    },
    {
      "cell_type": "markdown",
      "source": [
        "https://github.com/Mayuresh31/Transport-demand-prediction.git"
      ],
      "metadata": {
        "id": "2ZGuCDwj0FmC"
      }
    },
    {
      "cell_type": "markdown",
      "source": [
        "#  **PROBLEM STATEMENT**"
      ],
      "metadata": {
        "id": "g-3VqNDu0Vln"
      }
    },
    {
      "cell_type": "markdown",
      "source": [
        "**This challenge asks you to build a model that predicts the number of seats that Mobiticket can expect to sell for each ride, i.e. for a specific route on a specific date and time. There are 14 routes in this dataset. All of the routes end in Nairobi and originate in towns to the North-West of Nairobi towards Lake Victoria.**\n",
        "\n",
        "\n",
        "**The towns from which these routes originate are:**\n",
        "\n",
        "\n",
        "Awendo\n",
        "\n",
        "Homa Bay\n",
        "\n",
        "Kehancha\n",
        "\n",
        "Kendu Bay\n",
        "\n",
        "Keroka\n",
        "\n",
        "Keumbu\n",
        "\n",
        "Kijauri\n",
        "\n",
        "Kisii\n",
        "\n",
        "Mbita\n",
        "\n",
        "Migori\n",
        "\n",
        "Ndhiwa\n",
        "\n",
        "Nyachenge\n",
        "\n",
        "Oyugis\n",
        "\n",
        "Rodi\n",
        "\n",
        "Rongo\n",
        "\n",
        "Sirare\n",
        "\n",
        "Sori\n",
        "\n",
        "**The routes from these 14 origins to the first stop in the outskirts of Nairobi takes approximately 8 to 9 hours from time of departure. From the first stop in the outskirts of Nairobi into the main bus terminal, where most passengers get off, in Central Business District, takes another 2 to 3 hours depending on traffic.**\n",
        "\n",
        "**The three stops that all these routes make in Nairobi (in order) are:\n",
        "Kawangware: the first stop in the outskirts of Nairobi\n",
        "Westlands**\n",
        "\n",
        "**Afya Centre: the main bus terminal where most passengers disembark\n",
        "All of these points are mapped here.**\n",
        "\n",
        "**Passengers of these bus (or shuttle) rides are affected by Nairobi traffic not only during their ride into the city, but from there they must continue their journey to their final destination in Nairobi wherever that may be.**\n",
        "\n",
        " **Traffic can act as a deterrent for those who have the option to avoid buses that arrive in Nairobi during peak traffic hours. On the other hand, traffic may be an indication for people’s movement patterns, reflecting business hours, cultural events, political events, and holidays.**\n",
        " \n",
        "\n"
      ],
      "metadata": {
        "id": "f4pw60vB1AKB"
      }
    },
    {
      "cell_type": "markdown",
      "source": [
        "# **ATTRIBUTE INFORMATION**"
      ],
      "metadata": {
        "id": "5ptOFRMl24fN"
      }
    },
    {
      "cell_type": "markdown",
      "source": [
        "* #### ride_id : unique ID of a vehicle on a specific route on a specific day and time.\n",
        "* #### seat_number : seat assigned to ticket\n",
        "* #### payment_method : method used by customer to purchase ticket from Mobiticket (cash or Mpesa)\n",
        "* #### payment_receipt : unique id number for ticket purchased from Mobiticket\n",
        "* #### travel_date : date of ride departure. (MM/DD/YYYY)\n",
        "* #### travel_time : scheduled departure time of ride. Rides generally depart on time. (hh:mm)\n",
        "* #### travel_from : town from which ride originated\n",
        "* #### travel_to : destination of ride. All rides are to Nairobi.\n",
        "* #### car_type : vehicle type (shuttle or bus)\n",
        "* #### max_capacity : number of seats on the vehicle**"
      ],
      "metadata": {
        "id": "-bKS7BiX3JbH"
      }
    },
    {
      "cell_type": "markdown",
      "source": [
        "   **Importing all Libreries**"
      ],
      "metadata": {
        "id": "A87FsCpj4AYm"
      }
    },
    {
      "cell_type": "code",
      "metadata": {
        "colab": {
          "base_uri": "https://localhost:8080/"
        },
        "id": "2MZrtk-daVAw",
        "outputId": "9bef09a3-ed6e-4f6c-9ff2-eb185575df7f"
      },
      "source": [
        "from google.colab import drive\n",
        "drive.mount('/content/drive')"
      ],
      "execution_count": 1,
      "outputs": [
        {
          "output_type": "stream",
          "name": "stdout",
          "text": [
            "Mounted at /content/drive\n"
          ]
        }
      ]
    },
    {
      "cell_type": "code",
      "metadata": {
        "id": "LybP2RqKaT3i"
      },
      "source": [
        "import pandas as pd\n",
        "import numpy as np\n",
        "import seaborn as sns\n",
        "import matplotlib.pyplot as plt\n",
        "%matplotlib inline"
      ],
      "execution_count": 2,
      "outputs": []
    },
    {
      "cell_type": "code",
      "metadata": {
        "id": "5yk_IfG2rUB4"
      },
      "source": [
        "import datetime"
      ],
      "execution_count": 3,
      "outputs": []
    },
    {
      "cell_type": "code",
      "metadata": {
        "id": "dByMsuzT8Tnw"
      },
      "source": [
        "dataset = pd.read_csv('/content/drive/MyDrive/transport demand data/train_revised.csv')    \n"
      ],
      "execution_count": 4,
      "outputs": []
    },
    {
      "cell_type": "code",
      "source": [
        "dataset.head()"
      ],
      "metadata": {
        "colab": {
          "base_uri": "https://localhost:8080/",
          "height": 206
        },
        "id": "DFyKZUF7M9Jo",
        "outputId": "4c397a57-ff1f-47d6-ec44-893c44f00a0b"
      },
      "execution_count": 5,
      "outputs": [
        {
          "output_type": "execute_result",
          "data": {
            "text/plain": [
              "   ride_id seat_number payment_method payment_receipt travel_date travel_time  \\\n",
              "0     1442         15A          Mpesa      UZUEHCBUSO    17-10-17        7:15   \n",
              "1     5437         14A          Mpesa      TIHLBUSGTE    19-11-17        7:12   \n",
              "2     5710          8B          Mpesa      EQX8Q5G19O    26-11-17        7:05   \n",
              "3     5777         19A          Mpesa      SGP18CL0ME    27-11-17        7:10   \n",
              "4     5778         11A          Mpesa      BM97HFRGL9    27-11-17        7:12   \n",
              "\n",
              "  travel_from travel_to car_type  max_capacity  \n",
              "0      Migori   Nairobi      Bus            49  \n",
              "1      Migori   Nairobi      Bus            49  \n",
              "2      Keroka   Nairobi      Bus            49  \n",
              "3    Homa Bay   Nairobi      Bus            49  \n",
              "4      Migori   Nairobi      Bus            49  "
            ],
            "text/html": [
              "\n",
              "  <div id=\"df-964a392c-7c30-46a0-8af6-64ee83174bcc\">\n",
              "    <div class=\"colab-df-container\">\n",
              "      <div>\n",
              "<style scoped>\n",
              "    .dataframe tbody tr th:only-of-type {\n",
              "        vertical-align: middle;\n",
              "    }\n",
              "\n",
              "    .dataframe tbody tr th {\n",
              "        vertical-align: top;\n",
              "    }\n",
              "\n",
              "    .dataframe thead th {\n",
              "        text-align: right;\n",
              "    }\n",
              "</style>\n",
              "<table border=\"1\" class=\"dataframe\">\n",
              "  <thead>\n",
              "    <tr style=\"text-align: right;\">\n",
              "      <th></th>\n",
              "      <th>ride_id</th>\n",
              "      <th>seat_number</th>\n",
              "      <th>payment_method</th>\n",
              "      <th>payment_receipt</th>\n",
              "      <th>travel_date</th>\n",
              "      <th>travel_time</th>\n",
              "      <th>travel_from</th>\n",
              "      <th>travel_to</th>\n",
              "      <th>car_type</th>\n",
              "      <th>max_capacity</th>\n",
              "    </tr>\n",
              "  </thead>\n",
              "  <tbody>\n",
              "    <tr>\n",
              "      <th>0</th>\n",
              "      <td>1442</td>\n",
              "      <td>15A</td>\n",
              "      <td>Mpesa</td>\n",
              "      <td>UZUEHCBUSO</td>\n",
              "      <td>17-10-17</td>\n",
              "      <td>7:15</td>\n",
              "      <td>Migori</td>\n",
              "      <td>Nairobi</td>\n",
              "      <td>Bus</td>\n",
              "      <td>49</td>\n",
              "    </tr>\n",
              "    <tr>\n",
              "      <th>1</th>\n",
              "      <td>5437</td>\n",
              "      <td>14A</td>\n",
              "      <td>Mpesa</td>\n",
              "      <td>TIHLBUSGTE</td>\n",
              "      <td>19-11-17</td>\n",
              "      <td>7:12</td>\n",
              "      <td>Migori</td>\n",
              "      <td>Nairobi</td>\n",
              "      <td>Bus</td>\n",
              "      <td>49</td>\n",
              "    </tr>\n",
              "    <tr>\n",
              "      <th>2</th>\n",
              "      <td>5710</td>\n",
              "      <td>8B</td>\n",
              "      <td>Mpesa</td>\n",
              "      <td>EQX8Q5G19O</td>\n",
              "      <td>26-11-17</td>\n",
              "      <td>7:05</td>\n",
              "      <td>Keroka</td>\n",
              "      <td>Nairobi</td>\n",
              "      <td>Bus</td>\n",
              "      <td>49</td>\n",
              "    </tr>\n",
              "    <tr>\n",
              "      <th>3</th>\n",
              "      <td>5777</td>\n",
              "      <td>19A</td>\n",
              "      <td>Mpesa</td>\n",
              "      <td>SGP18CL0ME</td>\n",
              "      <td>27-11-17</td>\n",
              "      <td>7:10</td>\n",
              "      <td>Homa Bay</td>\n",
              "      <td>Nairobi</td>\n",
              "      <td>Bus</td>\n",
              "      <td>49</td>\n",
              "    </tr>\n",
              "    <tr>\n",
              "      <th>4</th>\n",
              "      <td>5778</td>\n",
              "      <td>11A</td>\n",
              "      <td>Mpesa</td>\n",
              "      <td>BM97HFRGL9</td>\n",
              "      <td>27-11-17</td>\n",
              "      <td>7:12</td>\n",
              "      <td>Migori</td>\n",
              "      <td>Nairobi</td>\n",
              "      <td>Bus</td>\n",
              "      <td>49</td>\n",
              "    </tr>\n",
              "  </tbody>\n",
              "</table>\n",
              "</div>\n",
              "      <button class=\"colab-df-convert\" onclick=\"convertToInteractive('df-964a392c-7c30-46a0-8af6-64ee83174bcc')\"\n",
              "              title=\"Convert this dataframe to an interactive table.\"\n",
              "              style=\"display:none;\">\n",
              "        \n",
              "  <svg xmlns=\"http://www.w3.org/2000/svg\" height=\"24px\"viewBox=\"0 0 24 24\"\n",
              "       width=\"24px\">\n",
              "    <path d=\"M0 0h24v24H0V0z\" fill=\"none\"/>\n",
              "    <path d=\"M18.56 5.44l.94 2.06.94-2.06 2.06-.94-2.06-.94-.94-2.06-.94 2.06-2.06.94zm-11 1L8.5 8.5l.94-2.06 2.06-.94-2.06-.94L8.5 2.5l-.94 2.06-2.06.94zm10 10l.94 2.06.94-2.06 2.06-.94-2.06-.94-.94-2.06-.94 2.06-2.06.94z\"/><path d=\"M17.41 7.96l-1.37-1.37c-.4-.4-.92-.59-1.43-.59-.52 0-1.04.2-1.43.59L10.3 9.45l-7.72 7.72c-.78.78-.78 2.05 0 2.83L4 21.41c.39.39.9.59 1.41.59.51 0 1.02-.2 1.41-.59l7.78-7.78 2.81-2.81c.8-.78.8-2.07 0-2.86zM5.41 20L4 18.59l7.72-7.72 1.47 1.35L5.41 20z\"/>\n",
              "  </svg>\n",
              "      </button>\n",
              "      \n",
              "  <style>\n",
              "    .colab-df-container {\n",
              "      display:flex;\n",
              "      flex-wrap:wrap;\n",
              "      gap: 12px;\n",
              "    }\n",
              "\n",
              "    .colab-df-convert {\n",
              "      background-color: #E8F0FE;\n",
              "      border: none;\n",
              "      border-radius: 50%;\n",
              "      cursor: pointer;\n",
              "      display: none;\n",
              "      fill: #1967D2;\n",
              "      height: 32px;\n",
              "      padding: 0 0 0 0;\n",
              "      width: 32px;\n",
              "    }\n",
              "\n",
              "    .colab-df-convert:hover {\n",
              "      background-color: #E2EBFA;\n",
              "      box-shadow: 0px 1px 2px rgba(60, 64, 67, 0.3), 0px 1px 3px 1px rgba(60, 64, 67, 0.15);\n",
              "      fill: #174EA6;\n",
              "    }\n",
              "\n",
              "    [theme=dark] .colab-df-convert {\n",
              "      background-color: #3B4455;\n",
              "      fill: #D2E3FC;\n",
              "    }\n",
              "\n",
              "    [theme=dark] .colab-df-convert:hover {\n",
              "      background-color: #434B5C;\n",
              "      box-shadow: 0px 1px 3px 1px rgba(0, 0, 0, 0.15);\n",
              "      filter: drop-shadow(0px 1px 2px rgba(0, 0, 0, 0.3));\n",
              "      fill: #FFFFFF;\n",
              "    }\n",
              "  </style>\n",
              "\n",
              "      <script>\n",
              "        const buttonEl =\n",
              "          document.querySelector('#df-964a392c-7c30-46a0-8af6-64ee83174bcc button.colab-df-convert');\n",
              "        buttonEl.style.display =\n",
              "          google.colab.kernel.accessAllowed ? 'block' : 'none';\n",
              "\n",
              "        async function convertToInteractive(key) {\n",
              "          const element = document.querySelector('#df-964a392c-7c30-46a0-8af6-64ee83174bcc');\n",
              "          const dataTable =\n",
              "            await google.colab.kernel.invokeFunction('convertToInteractive',\n",
              "                                                     [key], {});\n",
              "          if (!dataTable) return;\n",
              "\n",
              "          const docLinkHtml = 'Like what you see? Visit the ' +\n",
              "            '<a target=\"_blank\" href=https://colab.research.google.com/notebooks/data_table.ipynb>data table notebook</a>'\n",
              "            + ' to learn more about interactive tables.';\n",
              "          element.innerHTML = '';\n",
              "          dataTable['output_type'] = 'display_data';\n",
              "          await google.colab.output.renderOutput(dataTable, element);\n",
              "          const docLink = document.createElement('div');\n",
              "          docLink.innerHTML = docLinkHtml;\n",
              "          element.appendChild(docLink);\n",
              "        }\n",
              "      </script>\n",
              "    </div>\n",
              "  </div>\n",
              "  "
            ]
          },
          "metadata": {},
          "execution_count": 5
        }
      ]
    },
    {
      "cell_type": "code",
      "metadata": {
        "colab": {
          "base_uri": "https://localhost:8080/",
          "height": 206
        },
        "id": "mo1N_74wt1Am",
        "outputId": "e20f2094-c358-41de-c34f-58021c291a01"
      },
      "source": [
        "dataset.tail()"
      ],
      "execution_count": 6,
      "outputs": [
        {
          "output_type": "execute_result",
          "data": {
            "text/plain": [
              "       ride_id seat_number payment_method payment_receipt travel_date  \\\n",
              "51640    13826          9B          Mpesa      8V2XDDZR6V    20-04-18   \n",
              "51641    13809         18A          Mpesa      4PEBSVJSNK    20-04-18   \n",
              "51642    13809         17A          Mpesa      LVN64LZDNN    20-04-18   \n",
              "51643    13796         16B          Mpesa      REYBSKTYWN    20-04-18   \n",
              "51644    14304           7          Mpesa      AQN7FBUSGP    14-11-17   \n",
              "\n",
              "      travel_time travel_from travel_to car_type  max_capacity  \n",
              "51640        8:00      Awendo   Nairobi      Bus            49  \n",
              "51641        8:00      Migori   Nairobi      Bus            49  \n",
              "51642        8:00      Migori   Nairobi      Bus            49  \n",
              "51643        7:08      Awendo   Nairobi      Bus            49  \n",
              "51644        5:10       Kisii   Nairobi      Bus            49  "
            ],
            "text/html": [
              "\n",
              "  <div id=\"df-2dc33105-008e-464a-bada-a5fa278e4a7f\">\n",
              "    <div class=\"colab-df-container\">\n",
              "      <div>\n",
              "<style scoped>\n",
              "    .dataframe tbody tr th:only-of-type {\n",
              "        vertical-align: middle;\n",
              "    }\n",
              "\n",
              "    .dataframe tbody tr th {\n",
              "        vertical-align: top;\n",
              "    }\n",
              "\n",
              "    .dataframe thead th {\n",
              "        text-align: right;\n",
              "    }\n",
              "</style>\n",
              "<table border=\"1\" class=\"dataframe\">\n",
              "  <thead>\n",
              "    <tr style=\"text-align: right;\">\n",
              "      <th></th>\n",
              "      <th>ride_id</th>\n",
              "      <th>seat_number</th>\n",
              "      <th>payment_method</th>\n",
              "      <th>payment_receipt</th>\n",
              "      <th>travel_date</th>\n",
              "      <th>travel_time</th>\n",
              "      <th>travel_from</th>\n",
              "      <th>travel_to</th>\n",
              "      <th>car_type</th>\n",
              "      <th>max_capacity</th>\n",
              "    </tr>\n",
              "  </thead>\n",
              "  <tbody>\n",
              "    <tr>\n",
              "      <th>51640</th>\n",
              "      <td>13826</td>\n",
              "      <td>9B</td>\n",
              "      <td>Mpesa</td>\n",
              "      <td>8V2XDDZR6V</td>\n",
              "      <td>20-04-18</td>\n",
              "      <td>8:00</td>\n",
              "      <td>Awendo</td>\n",
              "      <td>Nairobi</td>\n",
              "      <td>Bus</td>\n",
              "      <td>49</td>\n",
              "    </tr>\n",
              "    <tr>\n",
              "      <th>51641</th>\n",
              "      <td>13809</td>\n",
              "      <td>18A</td>\n",
              "      <td>Mpesa</td>\n",
              "      <td>4PEBSVJSNK</td>\n",
              "      <td>20-04-18</td>\n",
              "      <td>8:00</td>\n",
              "      <td>Migori</td>\n",
              "      <td>Nairobi</td>\n",
              "      <td>Bus</td>\n",
              "      <td>49</td>\n",
              "    </tr>\n",
              "    <tr>\n",
              "      <th>51642</th>\n",
              "      <td>13809</td>\n",
              "      <td>17A</td>\n",
              "      <td>Mpesa</td>\n",
              "      <td>LVN64LZDNN</td>\n",
              "      <td>20-04-18</td>\n",
              "      <td>8:00</td>\n",
              "      <td>Migori</td>\n",
              "      <td>Nairobi</td>\n",
              "      <td>Bus</td>\n",
              "      <td>49</td>\n",
              "    </tr>\n",
              "    <tr>\n",
              "      <th>51643</th>\n",
              "      <td>13796</td>\n",
              "      <td>16B</td>\n",
              "      <td>Mpesa</td>\n",
              "      <td>REYBSKTYWN</td>\n",
              "      <td>20-04-18</td>\n",
              "      <td>7:08</td>\n",
              "      <td>Awendo</td>\n",
              "      <td>Nairobi</td>\n",
              "      <td>Bus</td>\n",
              "      <td>49</td>\n",
              "    </tr>\n",
              "    <tr>\n",
              "      <th>51644</th>\n",
              "      <td>14304</td>\n",
              "      <td>7</td>\n",
              "      <td>Mpesa</td>\n",
              "      <td>AQN7FBUSGP</td>\n",
              "      <td>14-11-17</td>\n",
              "      <td>5:10</td>\n",
              "      <td>Kisii</td>\n",
              "      <td>Nairobi</td>\n",
              "      <td>Bus</td>\n",
              "      <td>49</td>\n",
              "    </tr>\n",
              "  </tbody>\n",
              "</table>\n",
              "</div>\n",
              "      <button class=\"colab-df-convert\" onclick=\"convertToInteractive('df-2dc33105-008e-464a-bada-a5fa278e4a7f')\"\n",
              "              title=\"Convert this dataframe to an interactive table.\"\n",
              "              style=\"display:none;\">\n",
              "        \n",
              "  <svg xmlns=\"http://www.w3.org/2000/svg\" height=\"24px\"viewBox=\"0 0 24 24\"\n",
              "       width=\"24px\">\n",
              "    <path d=\"M0 0h24v24H0V0z\" fill=\"none\"/>\n",
              "    <path d=\"M18.56 5.44l.94 2.06.94-2.06 2.06-.94-2.06-.94-.94-2.06-.94 2.06-2.06.94zm-11 1L8.5 8.5l.94-2.06 2.06-.94-2.06-.94L8.5 2.5l-.94 2.06-2.06.94zm10 10l.94 2.06.94-2.06 2.06-.94-2.06-.94-.94-2.06-.94 2.06-2.06.94z\"/><path d=\"M17.41 7.96l-1.37-1.37c-.4-.4-.92-.59-1.43-.59-.52 0-1.04.2-1.43.59L10.3 9.45l-7.72 7.72c-.78.78-.78 2.05 0 2.83L4 21.41c.39.39.9.59 1.41.59.51 0 1.02-.2 1.41-.59l7.78-7.78 2.81-2.81c.8-.78.8-2.07 0-2.86zM5.41 20L4 18.59l7.72-7.72 1.47 1.35L5.41 20z\"/>\n",
              "  </svg>\n",
              "      </button>\n",
              "      \n",
              "  <style>\n",
              "    .colab-df-container {\n",
              "      display:flex;\n",
              "      flex-wrap:wrap;\n",
              "      gap: 12px;\n",
              "    }\n",
              "\n",
              "    .colab-df-convert {\n",
              "      background-color: #E8F0FE;\n",
              "      border: none;\n",
              "      border-radius: 50%;\n",
              "      cursor: pointer;\n",
              "      display: none;\n",
              "      fill: #1967D2;\n",
              "      height: 32px;\n",
              "      padding: 0 0 0 0;\n",
              "      width: 32px;\n",
              "    }\n",
              "\n",
              "    .colab-df-convert:hover {\n",
              "      background-color: #E2EBFA;\n",
              "      box-shadow: 0px 1px 2px rgba(60, 64, 67, 0.3), 0px 1px 3px 1px rgba(60, 64, 67, 0.15);\n",
              "      fill: #174EA6;\n",
              "    }\n",
              "\n",
              "    [theme=dark] .colab-df-convert {\n",
              "      background-color: #3B4455;\n",
              "      fill: #D2E3FC;\n",
              "    }\n",
              "\n",
              "    [theme=dark] .colab-df-convert:hover {\n",
              "      background-color: #434B5C;\n",
              "      box-shadow: 0px 1px 3px 1px rgba(0, 0, 0, 0.15);\n",
              "      filter: drop-shadow(0px 1px 2px rgba(0, 0, 0, 0.3));\n",
              "      fill: #FFFFFF;\n",
              "    }\n",
              "  </style>\n",
              "\n",
              "      <script>\n",
              "        const buttonEl =\n",
              "          document.querySelector('#df-2dc33105-008e-464a-bada-a5fa278e4a7f button.colab-df-convert');\n",
              "        buttonEl.style.display =\n",
              "          google.colab.kernel.accessAllowed ? 'block' : 'none';\n",
              "\n",
              "        async function convertToInteractive(key) {\n",
              "          const element = document.querySelector('#df-2dc33105-008e-464a-bada-a5fa278e4a7f');\n",
              "          const dataTable =\n",
              "            await google.colab.kernel.invokeFunction('convertToInteractive',\n",
              "                                                     [key], {});\n",
              "          if (!dataTable) return;\n",
              "\n",
              "          const docLinkHtml = 'Like what you see? Visit the ' +\n",
              "            '<a target=\"_blank\" href=https://colab.research.google.com/notebooks/data_table.ipynb>data table notebook</a>'\n",
              "            + ' to learn more about interactive tables.';\n",
              "          element.innerHTML = '';\n",
              "          dataTable['output_type'] = 'display_data';\n",
              "          await google.colab.output.renderOutput(dataTable, element);\n",
              "          const docLink = document.createElement('div');\n",
              "          docLink.innerHTML = docLinkHtml;\n",
              "          element.appendChild(docLink);\n",
              "        }\n",
              "      </script>\n",
              "    </div>\n",
              "  </div>\n",
              "  "
            ]
          },
          "metadata": {},
          "execution_count": 6
        }
      ]
    },
    {
      "cell_type": "markdown",
      "metadata": {
        "id": "D3pj9lfnhC4F"
      },
      "source": [
        "### **Understanding The data**"
      ]
    },
    {
      "cell_type": "code",
      "metadata": {
        "colab": {
          "base_uri": "https://localhost:8080/"
        },
        "id": "jiWfwLEdg_CM",
        "outputId": "678892d4-ba1e-460d-b3e0-d556b4d937f9"
      },
      "source": [
        "dataset.shape"
      ],
      "execution_count": 7,
      "outputs": [
        {
          "output_type": "execute_result",
          "data": {
            "text/plain": [
              "(51645, 10)"
            ]
          },
          "metadata": {},
          "execution_count": 7
        }
      ]
    },
    {
      "cell_type": "markdown",
      "metadata": {
        "id": "MdB_lqRlhPLx"
      },
      "source": [
        "There are 51645 observations in the dataset. And has 10 columns."
      ]
    },
    {
      "cell_type": "code",
      "metadata": {
        "colab": {
          "base_uri": "https://localhost:8080/"
        },
        "id": "2GFFZSskhNUo",
        "outputId": "02dd985d-5f09-41ba-a2ed-99fdd5bfa3c6"
      },
      "source": [
        "dataset.info()"
      ],
      "execution_count": 8,
      "outputs": [
        {
          "output_type": "stream",
          "name": "stdout",
          "text": [
            "<class 'pandas.core.frame.DataFrame'>\n",
            "RangeIndex: 51645 entries, 0 to 51644\n",
            "Data columns (total 10 columns):\n",
            " #   Column           Non-Null Count  Dtype \n",
            "---  ------           --------------  ----- \n",
            " 0   ride_id          51645 non-null  int64 \n",
            " 1   seat_number      51645 non-null  object\n",
            " 2   payment_method   51645 non-null  object\n",
            " 3   payment_receipt  51645 non-null  object\n",
            " 4   travel_date      51645 non-null  object\n",
            " 5   travel_time      51645 non-null  object\n",
            " 6   travel_from      51645 non-null  object\n",
            " 7   travel_to        51645 non-null  object\n",
            " 8   car_type         51645 non-null  object\n",
            " 9   max_capacity     51645 non-null  int64 \n",
            "dtypes: int64(2), object(8)\n",
            "memory usage: 3.9+ MB\n"
          ]
        }
      ]
    },
    {
      "cell_type": "markdown",
      "source": [
        "#  **DATA PROCESSING**"
      ],
      "metadata": {
        "id": "k9tPmTMJ4lDy"
      }
    },
    {
      "cell_type": "code",
      "metadata": {
        "colab": {
          "base_uri": "https://localhost:8080/",
          "height": 175
        },
        "id": "YzlVHU7YhjGQ",
        "outputId": "d9cb7621-b769-4558-e458-cd3ad2becc16"
      },
      "source": [
        "dataset.describe(include='object')"
      ],
      "execution_count": 9,
      "outputs": [
        {
          "output_type": "execute_result",
          "data": {
            "text/plain": [
              "       seat_number payment_method payment_receipt travel_date travel_time  \\\n",
              "count        51645          51645           51645       51645       51645   \n",
              "unique          61              2           51645         149          78   \n",
              "top              1          Mpesa      UZUEHCBUSO    10-12-17        7:09   \n",
              "freq          2065          51532               1         856        3926   \n",
              "\n",
              "       travel_from travel_to car_type  \n",
              "count        51645     51645    51645  \n",
              "unique          17         1        2  \n",
              "top          Kisii   Nairobi      Bus  \n",
              "freq         22607     51645    31985  "
            ],
            "text/html": [
              "\n",
              "  <div id=\"df-c80eaf86-aba5-4722-b547-ec58981621b4\">\n",
              "    <div class=\"colab-df-container\">\n",
              "      <div>\n",
              "<style scoped>\n",
              "    .dataframe tbody tr th:only-of-type {\n",
              "        vertical-align: middle;\n",
              "    }\n",
              "\n",
              "    .dataframe tbody tr th {\n",
              "        vertical-align: top;\n",
              "    }\n",
              "\n",
              "    .dataframe thead th {\n",
              "        text-align: right;\n",
              "    }\n",
              "</style>\n",
              "<table border=\"1\" class=\"dataframe\">\n",
              "  <thead>\n",
              "    <tr style=\"text-align: right;\">\n",
              "      <th></th>\n",
              "      <th>seat_number</th>\n",
              "      <th>payment_method</th>\n",
              "      <th>payment_receipt</th>\n",
              "      <th>travel_date</th>\n",
              "      <th>travel_time</th>\n",
              "      <th>travel_from</th>\n",
              "      <th>travel_to</th>\n",
              "      <th>car_type</th>\n",
              "    </tr>\n",
              "  </thead>\n",
              "  <tbody>\n",
              "    <tr>\n",
              "      <th>count</th>\n",
              "      <td>51645</td>\n",
              "      <td>51645</td>\n",
              "      <td>51645</td>\n",
              "      <td>51645</td>\n",
              "      <td>51645</td>\n",
              "      <td>51645</td>\n",
              "      <td>51645</td>\n",
              "      <td>51645</td>\n",
              "    </tr>\n",
              "    <tr>\n",
              "      <th>unique</th>\n",
              "      <td>61</td>\n",
              "      <td>2</td>\n",
              "      <td>51645</td>\n",
              "      <td>149</td>\n",
              "      <td>78</td>\n",
              "      <td>17</td>\n",
              "      <td>1</td>\n",
              "      <td>2</td>\n",
              "    </tr>\n",
              "    <tr>\n",
              "      <th>top</th>\n",
              "      <td>1</td>\n",
              "      <td>Mpesa</td>\n",
              "      <td>UZUEHCBUSO</td>\n",
              "      <td>10-12-17</td>\n",
              "      <td>7:09</td>\n",
              "      <td>Kisii</td>\n",
              "      <td>Nairobi</td>\n",
              "      <td>Bus</td>\n",
              "    </tr>\n",
              "    <tr>\n",
              "      <th>freq</th>\n",
              "      <td>2065</td>\n",
              "      <td>51532</td>\n",
              "      <td>1</td>\n",
              "      <td>856</td>\n",
              "      <td>3926</td>\n",
              "      <td>22607</td>\n",
              "      <td>51645</td>\n",
              "      <td>31985</td>\n",
              "    </tr>\n",
              "  </tbody>\n",
              "</table>\n",
              "</div>\n",
              "      <button class=\"colab-df-convert\" onclick=\"convertToInteractive('df-c80eaf86-aba5-4722-b547-ec58981621b4')\"\n",
              "              title=\"Convert this dataframe to an interactive table.\"\n",
              "              style=\"display:none;\">\n",
              "        \n",
              "  <svg xmlns=\"http://www.w3.org/2000/svg\" height=\"24px\"viewBox=\"0 0 24 24\"\n",
              "       width=\"24px\">\n",
              "    <path d=\"M0 0h24v24H0V0z\" fill=\"none\"/>\n",
              "    <path d=\"M18.56 5.44l.94 2.06.94-2.06 2.06-.94-2.06-.94-.94-2.06-.94 2.06-2.06.94zm-11 1L8.5 8.5l.94-2.06 2.06-.94-2.06-.94L8.5 2.5l-.94 2.06-2.06.94zm10 10l.94 2.06.94-2.06 2.06-.94-2.06-.94-.94-2.06-.94 2.06-2.06.94z\"/><path d=\"M17.41 7.96l-1.37-1.37c-.4-.4-.92-.59-1.43-.59-.52 0-1.04.2-1.43.59L10.3 9.45l-7.72 7.72c-.78.78-.78 2.05 0 2.83L4 21.41c.39.39.9.59 1.41.59.51 0 1.02-.2 1.41-.59l7.78-7.78 2.81-2.81c.8-.78.8-2.07 0-2.86zM5.41 20L4 18.59l7.72-7.72 1.47 1.35L5.41 20z\"/>\n",
              "  </svg>\n",
              "      </button>\n",
              "      \n",
              "  <style>\n",
              "    .colab-df-container {\n",
              "      display:flex;\n",
              "      flex-wrap:wrap;\n",
              "      gap: 12px;\n",
              "    }\n",
              "\n",
              "    .colab-df-convert {\n",
              "      background-color: #E8F0FE;\n",
              "      border: none;\n",
              "      border-radius: 50%;\n",
              "      cursor: pointer;\n",
              "      display: none;\n",
              "      fill: #1967D2;\n",
              "      height: 32px;\n",
              "      padding: 0 0 0 0;\n",
              "      width: 32px;\n",
              "    }\n",
              "\n",
              "    .colab-df-convert:hover {\n",
              "      background-color: #E2EBFA;\n",
              "      box-shadow: 0px 1px 2px rgba(60, 64, 67, 0.3), 0px 1px 3px 1px rgba(60, 64, 67, 0.15);\n",
              "      fill: #174EA6;\n",
              "    }\n",
              "\n",
              "    [theme=dark] .colab-df-convert {\n",
              "      background-color: #3B4455;\n",
              "      fill: #D2E3FC;\n",
              "    }\n",
              "\n",
              "    [theme=dark] .colab-df-convert:hover {\n",
              "      background-color: #434B5C;\n",
              "      box-shadow: 0px 1px 3px 1px rgba(0, 0, 0, 0.15);\n",
              "      filter: drop-shadow(0px 1px 2px rgba(0, 0, 0, 0.3));\n",
              "      fill: #FFFFFF;\n",
              "    }\n",
              "  </style>\n",
              "\n",
              "      <script>\n",
              "        const buttonEl =\n",
              "          document.querySelector('#df-c80eaf86-aba5-4722-b547-ec58981621b4 button.colab-df-convert');\n",
              "        buttonEl.style.display =\n",
              "          google.colab.kernel.accessAllowed ? 'block' : 'none';\n",
              "\n",
              "        async function convertToInteractive(key) {\n",
              "          const element = document.querySelector('#df-c80eaf86-aba5-4722-b547-ec58981621b4');\n",
              "          const dataTable =\n",
              "            await google.colab.kernel.invokeFunction('convertToInteractive',\n",
              "                                                     [key], {});\n",
              "          if (!dataTable) return;\n",
              "\n",
              "          const docLinkHtml = 'Like what you see? Visit the ' +\n",
              "            '<a target=\"_blank\" href=https://colab.research.google.com/notebooks/data_table.ipynb>data table notebook</a>'\n",
              "            + ' to learn more about interactive tables.';\n",
              "          element.innerHTML = '';\n",
              "          dataTable['output_type'] = 'display_data';\n",
              "          await google.colab.output.renderOutput(dataTable, element);\n",
              "          const docLink = document.createElement('div');\n",
              "          docLink.innerHTML = docLinkHtml;\n",
              "          element.appendChild(docLink);\n",
              "        }\n",
              "      </script>\n",
              "    </div>\n",
              "  </div>\n",
              "  "
            ]
          },
          "metadata": {},
          "execution_count": 9
        }
      ]
    },
    {
      "cell_type": "markdown",
      "metadata": {
        "id": "bfgTzN5lAsP9"
      },
      "source": [
        "### **Summary:-**\n",
        "\n",
        "* There are total **61** unique  seats in this dataset\n",
        "\n",
        "* travelers have used 2 types of payment method and most of the people have used **Mpesa** to pay for their ticket.\n",
        "\n",
        "* The record of 149 days out of 2 year is present in this dataset.\n",
        "\n",
        "\n",
        "* There are 2 different types of car and most of them are bus.\n"
      ]
    },
    {
      "cell_type": "markdown",
      "source": [
        "**Handling Null Values**\n"
      ],
      "metadata": {
        "id": "Tb4vObQd5SWt"
      }
    },
    {
      "cell_type": "code",
      "metadata": {
        "colab": {
          "base_uri": "https://localhost:8080/"
        },
        "id": "RI_4A-fVjx9b",
        "outputId": "ab49a6f3-74a0-48d0-983f-acc18318c56a"
      },
      "source": [
        "dataset.isnull().sum()"
      ],
      "execution_count": 10,
      "outputs": [
        {
          "output_type": "execute_result",
          "data": {
            "text/plain": [
              "ride_id            0\n",
              "seat_number        0\n",
              "payment_method     0\n",
              "payment_receipt    0\n",
              "travel_date        0\n",
              "travel_time        0\n",
              "travel_from        0\n",
              "travel_to          0\n",
              "car_type           0\n",
              "max_capacity       0\n",
              "dtype: int64"
            ]
          },
          "metadata": {},
          "execution_count": 10
        }
      ]
    },
    {
      "cell_type": "markdown",
      "metadata": {
        "id": "FoqaFmyyS2rt"
      },
      "source": [
        "We don't see any null values in the dataset now.\n",
        "\n",
        "so let us explore the dataset more."
      ]
    },
    {
      "cell_type": "code",
      "metadata": {
        "colab": {
          "base_uri": "https://localhost:8080/"
        },
        "id": "D508Od3ExYVa",
        "outputId": "a4ce5090-dd5b-4074-e3b1-be7dbce34b71"
      },
      "source": [
        "len(dataset['ride_id'].unique())"
      ],
      "execution_count": 11,
      "outputs": [
        {
          "output_type": "execute_result",
          "data": {
            "text/plain": [
              "6249"
            ]
          },
          "metadata": {},
          "execution_count": 11
        }
      ]
    },
    {
      "cell_type": "markdown",
      "metadata": {
        "id": "SXKTDK9dBGIH"
      },
      "source": [
        "We see there are 6249 unique `ride_id`."
      ]
    },
    {
      "cell_type": "code",
      "metadata": {
        "id": "i4gUJT_bxx0b"
      },
      "source": [
        "column = dataset.columns"
      ],
      "execution_count": 12,
      "outputs": []
    },
    {
      "cell_type": "code",
      "metadata": {
        "colab": {
          "base_uri": "https://localhost:8080/"
        },
        "id": "vneyO9Dfyo9k",
        "outputId": "1ff5c86c-997a-4e88-fa44-8958c3803f6d"
      },
      "source": [
        "column"
      ],
      "execution_count": 13,
      "outputs": [
        {
          "output_type": "execute_result",
          "data": {
            "text/plain": [
              "Index(['ride_id', 'seat_number', 'payment_method', 'payment_receipt',\n",
              "       'travel_date', 'travel_time', 'travel_from', 'travel_to', 'car_type',\n",
              "       'max_capacity'],\n",
              "      dtype='object')"
            ]
          },
          "metadata": {},
          "execution_count": 13
        }
      ]
    },
    {
      "cell_type": "markdown",
      "metadata": {
        "id": "b8FyPEm7_AeD"
      },
      "source": [
        "#  **EXPLORATORY DATA ANALYSIS**"
      ]
    },
    {
      "cell_type": "code",
      "metadata": {
        "colab": {
          "base_uri": "https://localhost:8080/",
          "height": 1000
        },
        "id": "a04SxDwvAkIZ",
        "outputId": "242935c7-6847-445d-9a61-7d2ca5f96c31"
      },
      "source": [
        "plot_count_cols = ['payment_method','car_type','max_capacity']\n",
        "for plots in plot_count_cols:\n",
        "  sns.countplot(dataset[plot_count_cols])\n",
        "  plt.show()"
      ],
      "execution_count": 15,
      "outputs": [
        {
          "output_type": "display_data",
          "data": {
            "text/plain": [
              "<Figure size 640x480 with 1 Axes>"
            ],
            "image/png": "[encoded data removed]"
          },
          "metadata": {}
        },
        {
          "output_type": "display_data",
          "data": {
            "text/plain": [
              "<Figure size 640x480 with 1 Axes>"
            ],
            "image/png": "[encoded data removed]"
          },
          "metadata": {}
        },
        {
          "output_type": "display_data",
          "data": {
            "text/plain": [
              "<Figure size 640x480 with 1 Axes>"
            ],
            "image/png": "[encoded data removed]"
          },
          "metadata": {}
        }
      ]
    },
    {
      "cell_type": "markdown",
      "metadata": {
        "id": "cQPQVETiCBcQ"
      },
      "source": [
        "### **Summary**\n",
        "\n",
        "* There are two type of payment methods people have used to buy the tickets.\n",
        "\n",
        "* There are two type of cars `Bus` and `shuttle` and the maximum capacity of the bus is 49 while shuttle can contain 11 travelers."
      ]
    },
    {
      "cell_type": "code",
      "metadata": {
        "colab": {
          "base_uri": "https://localhost:8080/",
          "height": 494
        },
        "id": "0Zr5tUVGE0-v",
        "outputId": "13ecf712-b785-44c1-de50-4c2a7efa3988"
      },
      "source": [
        "dataset['travel_from'].value_counts().plot(kind='bar')\n",
        "plt.show()"
      ],
      "execution_count": 16,
      "outputs": [
        {
          "output_type": "display_data",
          "data": {
            "text/plain": [
              "<Figure size 640x480 with 1 Axes>"
            ],
            "image/png": "[encoded data removed]"
          },
          "metadata": {}
        }
      ]
    },
    {
      "cell_type": "code",
      "metadata": {
        "colab": {
          "base_uri": "https://localhost:8080/",
          "height": 456
        },
        "id": "FRbD-PGhFxLs",
        "outputId": "d44fa296-3c67-495a-c479-101107253b1c"
      },
      "source": [
        "dataset['travel_time'].value_counts().plot(kind='bar')\n",
        "plt.show()"
      ],
      "execution_count": 17,
      "outputs": [
        {
          "output_type": "display_data",
          "data": {
            "text/plain": [
              "<Figure size 640x480 with 1 Axes>"
            ],
            "image/png": "[encoded data removed]"
          },
          "metadata": {}
        }
      ]
    },
    {
      "cell_type": "markdown",
      "metadata": {
        "id": "GWRzbGUKvQqt"
      },
      "source": [
        "### **Finding Our Target Variable**\n",
        "\n",
        "Since we are not given the target variable so we need to find target variable first.\n",
        "\n",
        "There might be many ways of finding the target variable but here I am using one way that is I will find the count of each `ride_id` and that will be the `number_of_ticket` as our target variable."
      ]
    },
    {
      "cell_type": "code",
      "metadata": {
        "colab": {
          "base_uri": "https://localhost:8080/",
          "height": 206
        },
        "id": "xoLD9tzaysYB",
        "outputId": "25a4589a-2d7e-4aa2-ba6b-300cba6db23f"
      },
      "source": [
        "label=dataset.groupby([\"ride_id\"]).seat_number.count().rename(\"number_of_ticket\").reset_index()\n",
        "label.head()"
      ],
      "execution_count": 18,
      "outputs": [
        {
          "output_type": "execute_result",
          "data": {
            "text/plain": [
              "   ride_id  number_of_ticket\n",
              "0     1442                 1\n",
              "1     5437                 1\n",
              "2     5710                 1\n",
              "3     5777                 5\n",
              "4     5778                31"
            ],
            "text/html": [
              "\n",
              "  <div id=\"df-36afa840-e1b7-4371-a863-800c1cd0145c\">\n",
              "    <div class=\"colab-df-container\">\n",
              "      <div>\n",
              "<style scoped>\n",
              "    .dataframe tbody tr th:only-of-type {\n",
              "        vertical-align: middle;\n",
              "    }\n",
              "\n",
              "    .dataframe tbody tr th {\n",
              "        vertical-align: top;\n",
              "    }\n",
              "\n",
              "    .dataframe thead th {\n",
              "        text-align: right;\n",
              "    }\n",
              "</style>\n",
              "<table border=\"1\" class=\"dataframe\">\n",
              "  <thead>\n",
              "    <tr style=\"text-align: right;\">\n",
              "      <th></th>\n",
              "      <th>ride_id</th>\n",
              "      <th>number_of_ticket</th>\n",
              "    </tr>\n",
              "  </thead>\n",
              "  <tbody>\n",
              "    <tr>\n",
              "      <th>0</th>\n",
              "      <td>1442</td>\n",
              "      <td>1</td>\n",
              "    </tr>\n",
              "    <tr>\n",
              "      <th>1</th>\n",
              "      <td>5437</td>\n",
              "      <td>1</td>\n",
              "    </tr>\n",
              "    <tr>\n",
              "      <th>2</th>\n",
              "      <td>5710</td>\n",
              "      <td>1</td>\n",
              "    </tr>\n",
              "    <tr>\n",
              "      <th>3</th>\n",
              "      <td>5777</td>\n",
              "      <td>5</td>\n",
              "    </tr>\n",
              "    <tr>\n",
              "      <th>4</th>\n",
              "      <td>5778</td>\n",
              "      <td>31</td>\n",
              "    </tr>\n",
              "  </tbody>\n",
              "</table>\n",
              "</div>\n",
              "      <button class=\"colab-df-convert\" onclick=\"convertToInteractive('df-36afa840-e1b7-4371-a863-800c1cd0145c')\"\n",
              "              title=\"Convert this dataframe to an interactive table.\"\n",
              "              style=\"display:none;\">\n",
              "        \n",
              "  <svg xmlns=\"http://www.w3.org/2000/svg\" height=\"24px\"viewBox=\"0 0 24 24\"\n",
              "       width=\"24px\">\n",
              "    <path d=\"M0 0h24v24H0V0z\" fill=\"none\"/>\n",
              "    <path d=\"M18.56 5.44l.94 2.06.94-2.06 2.06-.94-2.06-.94-.94-2.06-.94 2.06-2.06.94zm-11 1L8.5 8.5l.94-2.06 2.06-.94-2.06-.94L8.5 2.5l-.94 2.06-2.06.94zm10 10l.94 2.06.94-2.06 2.06-.94-2.06-.94-.94-2.06-.94 2.06-2.06.94z\"/><path d=\"M17.41 7.96l-1.37-1.37c-.4-.4-.92-.59-1.43-.59-.52 0-1.04.2-1.43.59L10.3 9.45l-7.72 7.72c-.78.78-.78 2.05 0 2.83L4 21.41c.39.39.9.59 1.41.59.51 0 1.02-.2 1.41-.59l7.78-7.78 2.81-2.81c.8-.78.8-2.07 0-2.86zM5.41 20L4 18.59l7.72-7.72 1.47 1.35L5.41 20z\"/>\n",
              "  </svg>\n",
              "      </button>\n",
              "      \n",
              "  <style>\n",
              "    .colab-df-container {\n",
              "      display:flex;\n",
              "      flex-wrap:wrap;\n",
              "      gap: 12px;\n",
              "    }\n",
              "\n",
              "    .colab-df-convert {\n",
              "      background-color: #E8F0FE;\n",
              "      border: none;\n",
              "      border-radius: 50%;\n",
              "      cursor: pointer;\n",
              "      display: none;\n",
              "      fill: #1967D2;\n",
              "      height: 32px;\n",
              "      padding: 0 0 0 0;\n",
              "      width: 32px;\n",
              "    }\n",
              "\n",
              "    .colab-df-convert:hover {\n",
              "      background-color: #E2EBFA;\n",
              "      box-shadow: 0px 1px 2px rgba(60, 64, 67, 0.3), 0px 1px 3px 1px rgba(60, 64, 67, 0.15);\n",
              "      fill: #174EA6;\n",
              "    }\n",
              "\n",
              "    [theme=dark] .colab-df-convert {\n",
              "      background-color: #3B4455;\n",
              "      fill: #D2E3FC;\n",
              "    }\n",
              "\n",
              "    [theme=dark] .colab-df-convert:hover {\n",
              "      background-color: #434B5C;\n",
              "      box-shadow: 0px 1px 3px 1px rgba(0, 0, 0, 0.15);\n",
              "      filter: drop-shadow(0px 1px 2px rgba(0, 0, 0, 0.3));\n",
              "      fill: #FFFFFF;\n",
              "    }\n",
              "  </style>\n",
              "\n",
              "      <script>\n",
              "        const buttonEl =\n",
              "          document.querySelector('#df-36afa840-e1b7-4371-a863-800c1cd0145c button.colab-df-convert');\n",
              "        buttonEl.style.display =\n",
              "          google.colab.kernel.accessAllowed ? 'block' : 'none';\n",
              "\n",
              "        async function convertToInteractive(key) {\n",
              "          const element = document.querySelector('#df-36afa840-e1b7-4371-a863-800c1cd0145c');\n",
              "          const dataTable =\n",
              "            await google.colab.kernel.invokeFunction('convertToInteractive',\n",
              "                                                     [key], {});\n",
              "          if (!dataTable) return;\n",
              "\n",
              "          const docLinkHtml = 'Like what you see? Visit the ' +\n",
              "            '<a target=\"_blank\" href=https://colab.research.google.com/notebooks/data_table.ipynb>data table notebook</a>'\n",
              "            + ' to learn more about interactive tables.';\n",
              "          element.innerHTML = '';\n",
              "          dataTable['output_type'] = 'display_data';\n",
              "          await google.colab.output.renderOutput(dataTable, element);\n",
              "          const docLink = document.createElement('div');\n",
              "          docLink.innerHTML = docLinkHtml;\n",
              "          element.appendChild(docLink);\n",
              "        }\n",
              "      </script>\n",
              "    </div>\n",
              "  </div>\n",
              "  "
            ]
          },
          "metadata": {},
          "execution_count": 18
        }
      ]
    },
    {
      "cell_type": "markdown",
      "metadata": {
        "id": "nhFX9vySv7rz"
      },
      "source": [
        "#### Now we found our target variable so let us delete the duplicate values from `ride_id` "
      ]
    },
    {
      "cell_type": "code",
      "metadata": {
        "id": "JNiPFBF2JOz-"
      },
      "source": [
        "\n",
        "dataset=dataset.drop_duplicates(\"ride_id\")"
      ],
      "execution_count": 19,
      "outputs": []
    },
    {
      "cell_type": "code",
      "metadata": {
        "id": "cGWNTPbgwjJj",
        "colab": {
          "base_uri": "https://localhost:8080/"
        },
        "outputId": "ee2fa5f2-2b5a-4421-aeb9-70744a53e0b9"
      },
      "source": [
        "dataset.shape"
      ],
      "execution_count": 20,
      "outputs": [
        {
          "output_type": "execute_result",
          "data": {
            "text/plain": [
              "(6249, 10)"
            ]
          },
          "metadata": {},
          "execution_count": 20
        }
      ]
    },
    {
      "cell_type": "markdown",
      "metadata": {
        "id": "QXJQQrA5RNnl"
      },
      "source": [
        "Now let us merge two datasets on `ride_id` key to make the final dataset where we have dependent as well as independent variables too."
      ]
    },
    {
      "cell_type": "code",
      "metadata": {
        "id": "CWHrzRkxwlRY",
        "colab": {
          "base_uri": "https://localhost:8080/",
          "height": 206
        },
        "outputId": "db139d69-4d29-459b-c129-f34a471bd095"
      },
      "source": [
        "\n",
        "dataset = dataset.merge(label, how=\"left\",on=\"ride_id\")\n",
        "dataset.head()"
      ],
      "execution_count": 21,
      "outputs": [
        {
          "output_type": "execute_result",
          "data": {
            "text/plain": [
              "   ride_id seat_number payment_method payment_receipt travel_date travel_time  \\\n",
              "0     1442         15A          Mpesa      UZUEHCBUSO    17-10-17        7:15   \n",
              "1     5437         14A          Mpesa      TIHLBUSGTE    19-11-17        7:12   \n",
              "2     5710          8B          Mpesa      EQX8Q5G19O    26-11-17        7:05   \n",
              "3     5777         19A          Mpesa      SGP18CL0ME    27-11-17        7:10   \n",
              "4     5778         11A          Mpesa      BM97HFRGL9    27-11-17        7:12   \n",
              "\n",
              "  travel_from travel_to car_type  max_capacity  number_of_ticket  \n",
              "0      Migori   Nairobi      Bus            49                 1  \n",
              "1      Migori   Nairobi      Bus            49                 1  \n",
              "2      Keroka   Nairobi      Bus            49                 1  \n",
              "3    Homa Bay   Nairobi      Bus            49                 5  \n",
              "4      Migori   Nairobi      Bus            49                31  "
            ],
            "text/html": [
              "\n",
              "  <div id=\"df-494be89b-753d-46b2-b941-a638f2f8d3ae\">\n",
              "    <div class=\"colab-df-container\">\n",
              "      <div>\n",
              "<style scoped>\n",
              "    .dataframe tbody tr th:only-of-type {\n",
              "        vertical-align: middle;\n",
              "    }\n",
              "\n",
              "    .dataframe tbody tr th {\n",
              "        vertical-align: top;\n",
              "    }\n",
              "\n",
              "    .dataframe thead th {\n",
              "        text-align: right;\n",
              "    }\n",
              "</style>\n",
              "<table border=\"1\" class=\"dataframe\">\n",
              "  <thead>\n",
              "    <tr style=\"text-align: right;\">\n",
              "      <th></th>\n",
              "      <th>ride_id</th>\n",
              "      <th>seat_number</th>\n",
              "      <th>payment_method</th>\n",
              "      <th>payment_receipt</th>\n",
              "      <th>travel_date</th>\n",
              "      <th>travel_time</th>\n",
              "      <th>travel_from</th>\n",
              "      <th>travel_to</th>\n",
              "      <th>car_type</th>\n",
              "      <th>max_capacity</th>\n",
              "      <th>number_of_ticket</th>\n",
              "    </tr>\n",
              "  </thead>\n",
              "  <tbody>\n",
              "    <tr>\n",
              "      <th>0</th>\n",
              "      <td>1442</td>\n",
              "      <td>15A</td>\n",
              "      <td>Mpesa</td>\n",
              "      <td>UZUEHCBUSO</td>\n",
              "      <td>17-10-17</td>\n",
              "      <td>7:15</td>\n",
              "      <td>Migori</td>\n",
              "      <td>Nairobi</td>\n",
              "      <td>Bus</td>\n",
              "      <td>49</td>\n",
              "      <td>1</td>\n",
              "    </tr>\n",
              "    <tr>\n",
              "      <th>1</th>\n",
              "      <td>5437</td>\n",
              "      <td>14A</td>\n",
              "      <td>Mpesa</td>\n",
              "      <td>TIHLBUSGTE</td>\n",
              "      <td>19-11-17</td>\n",
              "      <td>7:12</td>\n",
              "      <td>Migori</td>\n",
              "      <td>Nairobi</td>\n",
              "      <td>Bus</td>\n",
              "      <td>49</td>\n",
              "      <td>1</td>\n",
              "    </tr>\n",
              "    <tr>\n",
              "      <th>2</th>\n",
              "      <td>5710</td>\n",
              "      <td>8B</td>\n",
              "      <td>Mpesa</td>\n",
              "      <td>EQX8Q5G19O</td>\n",
              "      <td>26-11-17</td>\n",
              "      <td>7:05</td>\n",
              "      <td>Keroka</td>\n",
              "      <td>Nairobi</td>\n",
              "      <td>Bus</td>\n",
              "      <td>49</td>\n",
              "      <td>1</td>\n",
              "    </tr>\n",
              "    <tr>\n",
              "      <th>3</th>\n",
              "      <td>5777</td>\n",
              "      <td>19A</td>\n",
              "      <td>Mpesa</td>\n",
              "      <td>SGP18CL0ME</td>\n",
              "      <td>27-11-17</td>\n",
              "      <td>7:10</td>\n",
              "      <td>Homa Bay</td>\n",
              "      <td>Nairobi</td>\n",
              "      <td>Bus</td>\n",
              "      <td>49</td>\n",
              "      <td>5</td>\n",
              "    </tr>\n",
              "    <tr>\n",
              "      <th>4</th>\n",
              "      <td>5778</td>\n",
              "      <td>11A</td>\n",
              "      <td>Mpesa</td>\n",
              "      <td>BM97HFRGL9</td>\n",
              "      <td>27-11-17</td>\n",
              "      <td>7:12</td>\n",
              "      <td>Migori</td>\n",
              "      <td>Nairobi</td>\n",
              "      <td>Bus</td>\n",
              "      <td>49</td>\n",
              "      <td>31</td>\n",
              "    </tr>\n",
              "  </tbody>\n",
              "</table>\n",
              "</div>\n",
              "      <button class=\"colab-df-convert\" onclick=\"convertToInteractive('df-494be89b-753d-46b2-b941-a638f2f8d3ae')\"\n",
              "              title=\"Convert this dataframe to an interactive table.\"\n",
              "              style=\"display:none;\">\n",
              "        \n",
              "  <svg xmlns=\"http://www.w3.org/2000/svg\" height=\"24px\"viewBox=\"0 0 24 24\"\n",
              "       width=\"24px\">\n",
              "    <path d=\"M0 0h24v24H0V0z\" fill=\"none\"/>\n",
              "    <path d=\"M18.56 5.44l.94 2.06.94-2.06 2.06-.94-2.06-.94-.94-2.06-.94 2.06-2.06.94zm-11 1L8.5 8.5l.94-2.06 2.06-.94-2.06-.94L8.5 2.5l-.94 2.06-2.06.94zm10 10l.94 2.06.94-2.06 2.06-.94-2.06-.94-.94-2.06-.94 2.06-2.06.94z\"/><path d=\"M17.41 7.96l-1.37-1.37c-.4-.4-.92-.59-1.43-.59-.52 0-1.04.2-1.43.59L10.3 9.45l-7.72 7.72c-.78.78-.78 2.05 0 2.83L4 21.41c.39.39.9.59 1.41.59.51 0 1.02-.2 1.41-.59l7.78-7.78 2.81-2.81c.8-.78.8-2.07 0-2.86zM5.41 20L4 18.59l7.72-7.72 1.47 1.35L5.41 20z\"/>\n",
              "  </svg>\n",
              "      </button>\n",
              "      \n",
              "  <style>\n",
              "    .colab-df-container {\n",
              "      display:flex;\n",
              "      flex-wrap:wrap;\n",
              "      gap: 12px;\n",
              "    }\n",
              "\n",
              "    .colab-df-convert {\n",
              "      background-color: #E8F0FE;\n",
              "      border: none;\n",
              "      border-radius: 50%;\n",
              "      cursor: pointer;\n",
              "      display: none;\n",
              "      fill: #1967D2;\n",
              "      height: 32px;\n",
              "      padding: 0 0 0 0;\n",
              "      width: 32px;\n",
              "    }\n",
              "\n",
              "    .colab-df-convert:hover {\n",
              "      background-color: #E2EBFA;\n",
              "      box-shadow: 0px 1px 2px rgba(60, 64, 67, 0.3), 0px 1px 3px 1px rgba(60, 64, 67, 0.15);\n",
              "      fill: #174EA6;\n",
              "    }\n",
              "\n",
              "    [theme=dark] .colab-df-convert {\n",
              "      background-color: #3B4455;\n",
              "      fill: #D2E3FC;\n",
              "    }\n",
              "\n",
              "    [theme=dark] .colab-df-convert:hover {\n",
              "      background-color: #434B5C;\n",
              "      box-shadow: 0px 1px 3px 1px rgba(0, 0, 0, 0.15);\n",
              "      filter: drop-shadow(0px 1px 2px rgba(0, 0, 0, 0.3));\n",
              "      fill: #FFFFFF;\n",
              "    }\n",
              "  </style>\n",
              "\n",
              "      <script>\n",
              "        const buttonEl =\n",
              "          document.querySelector('#df-494be89b-753d-46b2-b941-a638f2f8d3ae button.colab-df-convert');\n",
              "        buttonEl.style.display =\n",
              "          google.colab.kernel.accessAllowed ? 'block' : 'none';\n",
              "\n",
              "        async function convertToInteractive(key) {\n",
              "          const element = document.querySelector('#df-494be89b-753d-46b2-b941-a638f2f8d3ae');\n",
              "          const dataTable =\n",
              "            await google.colab.kernel.invokeFunction('convertToInteractive',\n",
              "                                                     [key], {});\n",
              "          if (!dataTable) return;\n",
              "\n",
              "          const docLinkHtml = 'Like what you see? Visit the ' +\n",
              "            '<a target=\"_blank\" href=https://colab.research.google.com/notebooks/data_table.ipynb>data table notebook</a>'\n",
              "            + ' to learn more about interactive tables.';\n",
              "          element.innerHTML = '';\n",
              "          dataTable['output_type'] = 'display_data';\n",
              "          await google.colab.output.renderOutput(dataTable, element);\n",
              "          const docLink = document.createElement('div');\n",
              "          docLink.innerHTML = docLinkHtml;\n",
              "          element.appendChild(docLink);\n",
              "        }\n",
              "      </script>\n",
              "    </div>\n",
              "  </div>\n",
              "  "
            ]
          },
          "metadata": {},
          "execution_count": 21
        }
      ]
    },
    {
      "cell_type": "markdown",
      "metadata": {
        "id": "Q3gT4khyT1ut"
      },
      "source": [
        "Now we have found our final dataset so let us remove some features that doesn't seem to be important for predicting the number of tickets in our model"
      ]
    },
    {
      "cell_type": "code",
      "metadata": {
        "id": "XTdQoPB19bLF"
      },
      "source": [
        "dataset = dataset.drop(['seat_number','payment_method','payment_receipt'], axis=1)"
      ],
      "execution_count": 22,
      "outputs": []
    },
    {
      "cell_type": "code",
      "metadata": {
        "id": "Vekj7BvdzGKy"
      },
      "source": [
        "\n",
        " X = dataset.drop('number_of_ticket', axis=1)\n",
        " y = dataset['number_of_ticket']"
      ],
      "execution_count": 24,
      "outputs": []
    },
    {
      "cell_type": "markdown",
      "metadata": {
        "id": "gC8VAZ-u5NQq"
      },
      "source": [
        "### **Removing Constant Features**\n",
        "\n",
        "We need to first remove the constant features. "
      ]
    },
    {
      "cell_type": "code",
      "metadata": {
        "id": "rN-Bmvf9-_h4"
      },
      "source": [
        "import warnings\n",
        "warnings.filterwarnings('ignore')"
      ],
      "execution_count": 25,
      "outputs": []
    },
    {
      "cell_type": "code",
      "metadata": {
        "id": "NUFkLaH646np"
      },
      "source": [
        "dataset.drop([\"travel_to\"],axis=1,inplace=True)\n"
      ],
      "execution_count": 26,
      "outputs": []
    },
    {
      "cell_type": "code",
      "metadata": {
        "colab": {
          "base_uri": "https://localhost:8080/",
          "height": 954
        },
        "id": "fm91sYn7-_4u",
        "outputId": "c43a44db-553e-4154-f262-973f0075ff06"
      },
      "source": [
        "plt.figure(figsize=(20, 15))\n",
        "\n",
        "sp = sns.scatterplot(x=\"travel_from\", y=\"number_of_ticket\", data=dataset)"
      ],
      "execution_count": 27,
      "outputs": [
        {
          "output_type": "display_data",
          "data": {
            "text/plain": [
              "<Figure size 2000x1500 with 1 Axes>"
            ],
            "image/png": "[encoded data removed]"
          },
          "metadata": {}
        }
      ]
    },
    {
      "cell_type": "markdown",
      "metadata": {
        "id": "qJe8Nk8hPzMB"
      },
      "source": [
        "#  **FEATURE ENGINEERING**"
      ]
    },
    {
      "cell_type": "code",
      "metadata": {
        "id": "U7uyw07tAY4D"
      },
      "source": [
        "#concatinate travel date and travel time column and make a new feature called date.\n",
        "dataset[\"date\"]=dataset[\"travel_date\"]+ \" \"+dataset[\"travel_time\"]\n"
      ],
      "execution_count": 28,
      "outputs": []
    },
    {
      "cell_type": "code",
      "metadata": {
        "id": "sZeM4lQ-ANsm"
      },
      "source": [
        "def  time_features(df): \n",
        "\n",
        "  '''This function takes dataframe as an argument and extracts the\n",
        "  different features from the date variable of the dataset and finaly returns the updated \n",
        "  dataset'''\n",
        "  \n",
        "  df[\"date\"]=pd.to_datetime(df[\"date\"])\n",
        "  df[\"day_of_week\"]=df[\"date\"].dt.dayofweek\n",
        "  df[\"day_of_year\"]=df[\"date\"].dt.dayofyear\n",
        "  df[\"day_of_month\"]=df[\"date\"].dt.day\n",
        "  df[\"year_woy\"]=df[\"date\"].dt.year.astype(str)+df[\"date\"].dt.weekofyear.astype(str)\n",
        "  df[\"hour\"]=df[\"date\"].dt.hour\n",
        "  df[\"minute\"]=df[\"date\"].dt.minute\n",
        "  df[\"is_weekend\"]=df[\"day_of_week\"].apply( lambda x : 1 if x  in [5,6] else 0 )\n",
        "  df[\"year\"]=df[\"date\"].dt.year\n",
        "  df[\"quarter\"]=df[\"date\"].dt.quarter\n",
        "  df[\"month\"]=df[\"date\"].dt.month\n",
        "  return df"
      ],
      "execution_count": 29,
      "outputs": []
    },
    {
      "cell_type": "code",
      "metadata": {
        "id": "6zeNvx-kwqRE"
      },
      "source": [
        "dataset_new = time_features(dataset)"
      ],
      "execution_count": 30,
      "outputs": []
    },
    {
      "cell_type": "code",
      "metadata": {
        "id": "ekKq0AlcwxNp",
        "colab": {
          "base_uri": "https://localhost:8080/",
          "height": 444
        },
        "outputId": "6338c73c-ab2c-4478-fd17-c438ffe84a7f"
      },
      "source": [
        "dataset_new.head()"
      ],
      "execution_count": 31,
      "outputs": [
        {
          "output_type": "execute_result",
          "data": {
            "text/plain": [
              "   ride_id travel_date travel_time travel_from car_type  max_capacity  \\\n",
              "0     1442    17-10-17        7:15      Migori      Bus            49   \n",
              "1     5437    19-11-17        7:12      Migori      Bus            49   \n",
              "2     5710    26-11-17        7:05      Keroka      Bus            49   \n",
              "3     5777    27-11-17        7:10    Homa Bay      Bus            49   \n",
              "4     5778    27-11-17        7:12      Migori      Bus            49   \n",
              "\n",
              "   number_of_ticket                date  day_of_week  day_of_year  \\\n",
              "0                 1 2017-10-17 07:15:00            1          290   \n",
              "1                 1 2017-11-19 07:12:00            6          323   \n",
              "2                 1 2017-11-26 07:05:00            6          330   \n",
              "3                 5 2017-11-27 07:10:00            0          331   \n",
              "4                31 2017-11-27 07:12:00            0          331   \n",
              "\n",
              "   day_of_month year_woy  hour  minute  is_weekend  year  quarter  month  \n",
              "0            17   201742     7      15           0  2017        4     10  \n",
              "1            19   201746     7      12           1  2017        4     11  \n",
              "2            26   201747     7       5           1  2017        4     11  \n",
              "3            27   201748     7      10           0  2017        4     11  \n",
              "4            27   201748     7      12           0  2017        4     11  "
            ],
            "text/html": [
              "\n",
              "  <div id=\"df-fb2c2d33-7ac6-4853-a31e-85b8d3e4f545\">\n",
              "    <div class=\"colab-df-container\">\n",
              "      <div>\n",
              "<style scoped>\n",
              "    .dataframe tbody tr th:only-of-type {\n",
              "        vertical-align: middle;\n",
              "    }\n",
              "\n",
              "    .dataframe tbody tr th {\n",
              "        vertical-align: top;\n",
              "    }\n",
              "\n",
              "    .dataframe thead th {\n",
              "        text-align: right;\n",
              "    }\n",
              "</style>\n",
              "<table border=\"1\" class=\"dataframe\">\n",
              "  <thead>\n",
              "    <tr style=\"text-align: right;\">\n",
              "      <th></th>\n",
              "      <th>ride_id</th>\n",
              "      <th>travel_date</th>\n",
              "      <th>travel_time</th>\n",
              "      <th>travel_from</th>\n",
              "      <th>car_type</th>\n",
              "      <th>max_capacity</th>\n",
              "      <th>number_of_ticket</th>\n",
              "      <th>date</th>\n",
              "      <th>day_of_week</th>\n",
              "      <th>day_of_year</th>\n",
              "      <th>day_of_month</th>\n",
              "      <th>year_woy</th>\n",
              "      <th>hour</th>\n",
              "      <th>minute</th>\n",
              "      <th>is_weekend</th>\n",
              "      <th>year</th>\n",
              "      <th>quarter</th>\n",
              "      <th>month</th>\n",
              "    </tr>\n",
              "  </thead>\n",
              "  <tbody>\n",
              "    <tr>\n",
              "      <th>0</th>\n",
              "      <td>1442</td>\n",
              "      <td>17-10-17</td>\n",
              "      <td>7:15</td>\n",
              "      <td>Migori</td>\n",
              "      <td>Bus</td>\n",
              "      <td>49</td>\n",
              "      <td>1</td>\n",
              "      <td>2017-10-17 07:15:00</td>\n",
              "      <td>1</td>\n",
              "      <td>290</td>\n",
              "      <td>17</td>\n",
              "      <td>201742</td>\n",
              "      <td>7</td>\n",
              "      <td>15</td>\n",
              "      <td>0</td>\n",
              "      <td>2017</td>\n",
              "      <td>4</td>\n",
              "      <td>10</td>\n",
              "    </tr>\n",
              "    <tr>\n",
              "      <th>1</th>\n",
              "      <td>5437</td>\n",
              "      <td>19-11-17</td>\n",
              "      <td>7:12</td>\n",
              "      <td>Migori</td>\n",
              "      <td>Bus</td>\n",
              "      <td>49</td>\n",
              "      <td>1</td>\n",
              "      <td>2017-11-19 07:12:00</td>\n",
              "      <td>6</td>\n",
              "      <td>323</td>\n",
              "      <td>19</td>\n",
              "      <td>201746</td>\n",
              "      <td>7</td>\n",
              "      <td>12</td>\n",
              "      <td>1</td>\n",
              "      <td>2017</td>\n",
              "      <td>4</td>\n",
              "      <td>11</td>\n",
              "    </tr>\n",
              "    <tr>\n",
              "      <th>2</th>\n",
              "      <td>5710</td>\n",
              "      <td>26-11-17</td>\n",
              "      <td>7:05</td>\n",
              "      <td>Keroka</td>\n",
              "      <td>Bus</td>\n",
              "      <td>49</td>\n",
              "      <td>1</td>\n",
              "      <td>2017-11-26 07:05:00</td>\n",
              "      <td>6</td>\n",
              "      <td>330</td>\n",
              "      <td>26</td>\n",
              "      <td>201747</td>\n",
              "      <td>7</td>\n",
              "      <td>5</td>\n",
              "      <td>1</td>\n",
              "      <td>2017</td>\n",
              "      <td>4</td>\n",
              "      <td>11</td>\n",
              "    </tr>\n",
              "    <tr>\n",
              "      <th>3</th>\n",
              "      <td>5777</td>\n",
              "      <td>27-11-17</td>\n",
              "      <td>7:10</td>\n",
              "      <td>Homa Bay</td>\n",
              "      <td>Bus</td>\n",
              "      <td>49</td>\n",
              "      <td>5</td>\n",
              "      <td>2017-11-27 07:10:00</td>\n",
              "      <td>0</td>\n",
              "      <td>331</td>\n",
              "      <td>27</td>\n",
              "      <td>201748</td>\n",
              "      <td>7</td>\n",
              "      <td>10</td>\n",
              "      <td>0</td>\n",
              "      <td>2017</td>\n",
              "      <td>4</td>\n",
              "      <td>11</td>\n",
              "    </tr>\n",
              "    <tr>\n",
              "      <th>4</th>\n",
              "      <td>5778</td>\n",
              "      <td>27-11-17</td>\n",
              "      <td>7:12</td>\n",
              "      <td>Migori</td>\n",
              "      <td>Bus</td>\n",
              "      <td>49</td>\n",
              "      <td>31</td>\n",
              "      <td>2017-11-27 07:12:00</td>\n",
              "      <td>0</td>\n",
              "      <td>331</td>\n",
              "      <td>27</td>\n",
              "      <td>201748</td>\n",
              "      <td>7</td>\n",
              "      <td>12</td>\n",
              "      <td>0</td>\n",
              "      <td>2017</td>\n",
              "      <td>4</td>\n",
              "      <td>11</td>\n",
              "    </tr>\n",
              "  </tbody>\n",
              "</table>\n",
              "</div>\n",
              "      <button class=\"colab-df-convert\" onclick=\"convertToInteractive('df-fb2c2d33-7ac6-4853-a31e-85b8d3e4f545')\"\n",
              "              title=\"Convert this dataframe to an interactive table.\"\n",
              "              style=\"display:none;\">\n",
              "        \n",
              "  <svg xmlns=\"http://www.w3.org/2000/svg\" height=\"24px\"viewBox=\"0 0 24 24\"\n",
              "       width=\"24px\">\n",
              "    <path d=\"M0 0h24v24H0V0z\" fill=\"none\"/>\n",
              "    <path d=\"M18.56 5.44l.94 2.06.94-2.06 2.06-.94-2.06-.94-.94-2.06-.94 2.06-2.06.94zm-11 1L8.5 8.5l.94-2.06 2.06-.94-2.06-.94L8.5 2.5l-.94 2.06-2.06.94zm10 10l.94 2.06.94-2.06 2.06-.94-2.06-.94-.94-2.06-.94 2.06-2.06.94z\"/><path d=\"M17.41 7.96l-1.37-1.37c-.4-.4-.92-.59-1.43-.59-.52 0-1.04.2-1.43.59L10.3 9.45l-7.72 7.72c-.78.78-.78 2.05 0 2.83L4 21.41c.39.39.9.59 1.41.59.51 0 1.02-.2 1.41-.59l7.78-7.78 2.81-2.81c.8-.78.8-2.07 0-2.86zM5.41 20L4 18.59l7.72-7.72 1.47 1.35L5.41 20z\"/>\n",
              "  </svg>\n",
              "      </button>\n",
              "      \n",
              "  <style>\n",
              "    .colab-df-container {\n",
              "      display:flex;\n",
              "      flex-wrap:wrap;\n",
              "      gap: 12px;\n",
              "    }\n",
              "\n",
              "    .colab-df-convert {\n",
              "      background-color: #E8F0FE;\n",
              "      border: none;\n",
              "      border-radius: 50%;\n",
              "      cursor: pointer;\n",
              "      display: none;\n",
              "      fill: #1967D2;\n",
              "      height: 32px;\n",
              "      padding: 0 0 0 0;\n",
              "      width: 32px;\n",
              "    }\n",
              "\n",
              "    .colab-df-convert:hover {\n",
              "      background-color: #E2EBFA;\n",
              "      box-shadow: 0px 1px 2px rgba(60, 64, 67, 0.3), 0px 1px 3px 1px rgba(60, 64, 67, 0.15);\n",
              "      fill: #174EA6;\n",
              "    }\n",
              "\n",
              "    [theme=dark] .colab-df-convert {\n",
              "      background-color: #3B4455;\n",
              "      fill: #D2E3FC;\n",
              "    }\n",
              "\n",
              "    [theme=dark] .colab-df-convert:hover {\n",
              "      background-color: #434B5C;\n",
              "      box-shadow: 0px 1px 3px 1px rgba(0, 0, 0, 0.15);\n",
              "      filter: drop-shadow(0px 1px 2px rgba(0, 0, 0, 0.3));\n",
              "      fill: #FFFFFF;\n",
              "    }\n",
              "  </style>\n",
              "\n",
              "      <script>\n",
              "        const buttonEl =\n",
              "          document.querySelector('#df-fb2c2d33-7ac6-4853-a31e-85b8d3e4f545 button.colab-df-convert');\n",
              "        buttonEl.style.display =\n",
              "          google.colab.kernel.accessAllowed ? 'block' : 'none';\n",
              "\n",
              "        async function convertToInteractive(key) {\n",
              "          const element = document.querySelector('#df-fb2c2d33-7ac6-4853-a31e-85b8d3e4f545');\n",
              "          const dataTable =\n",
              "            await google.colab.kernel.invokeFunction('convertToInteractive',\n",
              "                                                     [key], {});\n",
              "          if (!dataTable) return;\n",
              "\n",
              "          const docLinkHtml = 'Like what you see? Visit the ' +\n",
              "            '<a target=\"_blank\" href=https://colab.research.google.com/notebooks/data_table.ipynb>data table notebook</a>'\n",
              "            + ' to learn more about interactive tables.';\n",
              "          element.innerHTML = '';\n",
              "          dataTable['output_type'] = 'display_data';\n",
              "          await google.colab.output.renderOutput(dataTable, element);\n",
              "          const docLink = document.createElement('div');\n",
              "          docLink.innerHTML = docLinkHtml;\n",
              "          element.appendChild(docLink);\n",
              "        }\n",
              "      </script>\n",
              "    </div>\n",
              "  </div>\n",
              "  "
            ]
          },
          "metadata": {},
          "execution_count": 31
        }
      ]
    },
    {
      "cell_type": "code",
      "metadata": {
        "colab": {
          "base_uri": "https://localhost:8080/",
          "height": 971
        },
        "id": "HeQHfmKIJRgl",
        "outputId": "fe5d4526-e059-489f-9878-3fe83b0e18bb"
      },
      "source": [
        "\n",
        "plt.figure(figsize=(20, 15))\n",
        "\n",
        "sns.scatterplot(x='day_of_month', y=\"number_of_ticket\", data=dataset)\n"
      ],
      "execution_count": 32,
      "outputs": [
        {
          "output_type": "execute_result",
          "data": {
            "text/plain": [
              "<Axes: xlabel='day_of_month', ylabel='number_of_ticket'>"
            ]
          },
          "metadata": {},
          "execution_count": 32
        },
        {
          "output_type": "display_data",
          "data": {
            "text/plain": [
              "<Figure size 2000x1500 with 1 Axes>"
            ],
            "image/png": "[encoded data removed]"
          },
          "metadata": {}
        }
      ]
    },
    {
      "cell_type": "markdown",
      "metadata": {
        "id": "dZmG4pPiLdLt"
      },
      "source": [
        "### **Summary**\n",
        "\n",
        "* We can see that there is the gap between 5 to 11 in the day of the month. We can assume that there is official holyday of public transport between these days. we can also say that the number of tickets in all the days of month are same.\n"
      ]
    },
    {
      "cell_type": "code",
      "metadata": {
        "colab": {
          "base_uri": "https://localhost:8080/",
          "height": 971
        },
        "id": "vyandqYzMtP9",
        "outputId": "1ebc454d-088f-46ad-856f-ae98a403061e"
      },
      "source": [
        "\n",
        "plt.figure(figsize=(20, 15))\n",
        "\n",
        "sns.scatterplot(x='hour', y=\"number_of_ticket\", data=dataset)"
      ],
      "execution_count": 33,
      "outputs": [
        {
          "output_type": "execute_result",
          "data": {
            "text/plain": [
              "<Axes: xlabel='hour', ylabel='number_of_ticket'>"
            ]
          },
          "metadata": {},
          "execution_count": 33
        },
        {
          "output_type": "display_data",
          "data": {
            "text/plain": [
              "<Figure size 2000x1500 with 1 Axes>"
            ],
            "image/png": "[encoded data removed]"
          },
          "metadata": {}
        }
      ]
    },
    {
      "cell_type": "markdown",
      "metadata": {
        "id": "cFNKHfbYM7gK"
      },
      "source": [
        "### **Summary**\n",
        "* We can see that most of the ticktes were sold at  7 AM and 8 PM. And that seems true because in the morning most of the people go to the work and office.\n",
        "\n",
        "* From the above we can say that there is not ride between 12pm to 5.30Pm "
      ]
    },
    {
      "cell_type": "code",
      "metadata": {
        "id": "uTHgL7MCxjkO"
      },
      "source": [
        "dataset_new[\"travel_time\"] = dataset_new[\"travel_time\"].str.split(':').apply(lambda x: int(x[0]) + int(x[1])/60)"
      ],
      "execution_count": 34,
      "outputs": []
    },
    {
      "cell_type": "code",
      "metadata": {
        "id": "jzGQVPLtyxMW",
        "colab": {
          "base_uri": "https://localhost:8080/",
          "height": 473
        },
        "outputId": "b29e414b-8fc1-4b7c-adc4-24293217ec7c"
      },
      "source": [
        "dataset_new['period'] = np.nan\n",
        "\n",
        "dataset_new.loc[dataset_new.travel_time < 7, 'period'] = 'em'\n",
        "dataset_new.loc[(dataset_new.travel_time >= 7) & (dataset_new.travel_time < 11), 'period'] = 'am'\n",
        "dataset_new.loc[(dataset_new.travel_time >= 11) & (dataset_new.travel_time < 15), 'period'] = 'mid'\n",
        "dataset_new.loc[(dataset_new.travel_time >= 15) & (dataset_new.travel_time < 19), 'period'] = 'eve'\n",
        "dataset_new.loc[(dataset_new.travel_time >= 19) & (dataset_new.travel_time <= 24), 'period'] = 'pm'\n",
        "\n",
        "\n",
        "pcount = dict(dataset_new['period'].value_counts())\n",
        "pcount\n",
        "\n",
        "\n",
        "dataset_new['hourly_travelers'] = np.log1p(dataset_new['period'].map(pcount))\n",
        "\n",
        "\n",
        "\n",
        "dcount = dict(dataset_new[\"day_of_year\"].value_counts())\n",
        "dataset_new[\"daily_travelers\"] = np.log1p(dataset_new[\"day_of_year\"].map(dcount))\n",
        "dataset_new.head()"
      ],
      "execution_count": 35,
      "outputs": [
        {
          "output_type": "execute_result",
          "data": {
            "text/plain": [
              "   ride_id travel_date  travel_time travel_from car_type  max_capacity  \\\n",
              "0     1442    17-10-17     7.250000      Migori      Bus            49   \n",
              "1     5437    19-11-17     7.200000      Migori      Bus            49   \n",
              "2     5710    26-11-17     7.083333      Keroka      Bus            49   \n",
              "3     5777    27-11-17     7.166667    Homa Bay      Bus            49   \n",
              "4     5778    27-11-17     7.200000      Migori      Bus            49   \n",
              "\n",
              "   number_of_ticket                date  day_of_week  day_of_year  ...  \\\n",
              "0                 1 2017-10-17 07:15:00            1          290  ...   \n",
              "1                 1 2017-11-19 07:12:00            6          323  ...   \n",
              "2                 1 2017-11-26 07:05:00            6          330  ...   \n",
              "3                 5 2017-11-27 07:10:00            0          331  ...   \n",
              "4                31 2017-11-27 07:12:00            0          331  ...   \n",
              "\n",
              "   year_woy hour  minute  is_weekend  year  quarter  month  period  \\\n",
              "0    201742    7      15           0  2017        4     10      am   \n",
              "1    201746    7      12           1  2017        4     11      am   \n",
              "2    201747    7       5           1  2017        4     11      am   \n",
              "3    201748    7      10           0  2017        4     11      am   \n",
              "4    201748    7      12           0  2017        4     11      am   \n",
              "\n",
              "  hourly_travelers  daily_travelers  \n",
              "0         8.494743         0.693147  \n",
              "1         8.494743         0.693147  \n",
              "2         8.494743         0.693147  \n",
              "3         8.494743         3.871201  \n",
              "4         8.494743         3.871201  \n",
              "\n",
              "[5 rows x 21 columns]"
            ],
            "text/html": [
              "\n",
              "  <div id=\"df-66263c18-7de3-4ce0-9d4e-858c09901886\">\n",
              "    <div class=\"colab-df-container\">\n",
              "      <div>\n",
              "<style scoped>\n",
              "    .dataframe tbody tr th:only-of-type {\n",
              "        vertical-align: middle;\n",
              "    }\n",
              "\n",
              "    .dataframe tbody tr th {\n",
              "        vertical-align: top;\n",
              "    }\n",
              "\n",
              "    .dataframe thead th {\n",
              "        text-align: right;\n",
              "    }\n",
              "</style>\n",
              "<table border=\"1\" class=\"dataframe\">\n",
              "  <thead>\n",
              "    <tr style=\"text-align: right;\">\n",
              "      <th></th>\n",
              "      <th>ride_id</th>\n",
              "      <th>travel_date</th>\n",
              "      <th>travel_time</th>\n",
              "      <th>travel_from</th>\n",
              "      <th>car_type</th>\n",
              "      <th>max_capacity</th>\n",
              "      <th>number_of_ticket</th>\n",
              "      <th>date</th>\n",
              "      <th>day_of_week</th>\n",
              "      <th>day_of_year</th>\n",
              "      <th>...</th>\n",
              "      <th>year_woy</th>\n",
              "      <th>hour</th>\n",
              "      <th>minute</th>\n",
              "      <th>is_weekend</th>\n",
              "      <th>year</th>\n",
              "      <th>quarter</th>\n",
              "      <th>month</th>\n",
              "      <th>period</th>\n",
              "      <th>hourly_travelers</th>\n",
              "      <th>daily_travelers</th>\n",
              "    </tr>\n",
              "  </thead>\n",
              "  <tbody>\n",
              "    <tr>\n",
              "      <th>0</th>\n",
              "      <td>1442</td>\n",
              "      <td>17-10-17</td>\n",
              "      <td>7.250000</td>\n",
              "      <td>Migori</td>\n",
              "      <td>Bus</td>\n",
              "      <td>49</td>\n",
              "      <td>1</td>\n",
              "      <td>2017-10-17 07:15:00</td>\n",
              "      <td>1</td>\n",
              "      <td>290</td>\n",
              "      <td>...</td>\n",
              "      <td>201742</td>\n",
              "      <td>7</td>\n",
              "      <td>15</td>\n",
              "      <td>0</td>\n",
              "      <td>2017</td>\n",
              "      <td>4</td>\n",
              "      <td>10</td>\n",
              "      <td>am</td>\n",
              "      <td>8.494743</td>\n",
              "      <td>0.693147</td>\n",
              "    </tr>\n",
              "    <tr>\n",
              "      <th>1</th>\n",
              "      <td>5437</td>\n",
              "      <td>19-11-17</td>\n",
              "      <td>7.200000</td>\n",
              "      <td>Migori</td>\n",
              "      <td>Bus</td>\n",
              "      <td>49</td>\n",
              "      <td>1</td>\n",
              "      <td>2017-11-19 07:12:00</td>\n",
              "      <td>6</td>\n",
              "      <td>323</td>\n",
              "      <td>...</td>\n",
              "      <td>201746</td>\n",
              "      <td>7</td>\n",
              "      <td>12</td>\n",
              "      <td>1</td>\n",
              "      <td>2017</td>\n",
              "      <td>4</td>\n",
              "      <td>11</td>\n",
              "      <td>am</td>\n",
              "      <td>8.494743</td>\n",
              "      <td>0.693147</td>\n",
              "    </tr>\n",
              "    <tr>\n",
              "      <th>2</th>\n",
              "      <td>5710</td>\n",
              "      <td>26-11-17</td>\n",
              "      <td>7.083333</td>\n",
              "      <td>Keroka</td>\n",
              "      <td>Bus</td>\n",
              "      <td>49</td>\n",
              "      <td>1</td>\n",
              "      <td>2017-11-26 07:05:00</td>\n",
              "      <td>6</td>\n",
              "      <td>330</td>\n",
              "      <td>...</td>\n",
              "      <td>201747</td>\n",
              "      <td>7</td>\n",
              "      <td>5</td>\n",
              "      <td>1</td>\n",
              "      <td>2017</td>\n",
              "      <td>4</td>\n",
              "      <td>11</td>\n",
              "      <td>am</td>\n",
              "      <td>8.494743</td>\n",
              "      <td>0.693147</td>\n",
              "    </tr>\n",
              "    <tr>\n",
              "      <th>3</th>\n",
              "      <td>5777</td>\n",
              "      <td>27-11-17</td>\n",
              "      <td>7.166667</td>\n",
              "      <td>Homa Bay</td>\n",
              "      <td>Bus</td>\n",
              "      <td>49</td>\n",
              "      <td>5</td>\n",
              "      <td>2017-11-27 07:10:00</td>\n",
              "      <td>0</td>\n",
              "      <td>331</td>\n",
              "      <td>...</td>\n",
              "      <td>201748</td>\n",
              "      <td>7</td>\n",
              "      <td>10</td>\n",
              "      <td>0</td>\n",
              "      <td>2017</td>\n",
              "      <td>4</td>\n",
              "      <td>11</td>\n",
              "      <td>am</td>\n",
              "      <td>8.494743</td>\n",
              "      <td>3.871201</td>\n",
              "    </tr>\n",
              "    <tr>\n",
              "      <th>4</th>\n",
              "      <td>5778</td>\n",
              "      <td>27-11-17</td>\n",
              "      <td>7.200000</td>\n",
              "      <td>Migori</td>\n",
              "      <td>Bus</td>\n",
              "      <td>49</td>\n",
              "      <td>31</td>\n",
              "      <td>2017-11-27 07:12:00</td>\n",
              "      <td>0</td>\n",
              "      <td>331</td>\n",
              "      <td>...</td>\n",
              "      <td>201748</td>\n",
              "      <td>7</td>\n",
              "      <td>12</td>\n",
              "      <td>0</td>\n",
              "      <td>2017</td>\n",
              "      <td>4</td>\n",
              "      <td>11</td>\n",
              "      <td>am</td>\n",
              "      <td>8.494743</td>\n",
              "      <td>3.871201</td>\n",
              "    </tr>\n",
              "  </tbody>\n",
              "</table>\n",
              "<p>5 rows × 21 columns</p>\n",
              "</div>\n",
              "      <button class=\"colab-df-convert\" onclick=\"convertToInteractive('df-66263c18-7de3-4ce0-9d4e-858c09901886')\"\n",
              "              title=\"Convert this dataframe to an interactive table.\"\n",
              "              style=\"display:none;\">\n",
              "        \n",
              "  <svg xmlns=\"http://www.w3.org/2000/svg\" height=\"24px\"viewBox=\"0 0 24 24\"\n",
              "       width=\"24px\">\n",
              "    <path d=\"M0 0h24v24H0V0z\" fill=\"none\"/>\n",
              "    <path d=\"M18.56 5.44l.94 2.06.94-2.06 2.06-.94-2.06-.94-.94-2.06-.94 2.06-2.06.94zm-11 1L8.5 8.5l.94-2.06 2.06-.94-2.06-.94L8.5 2.5l-.94 2.06-2.06.94zm10 10l.94 2.06.94-2.06 2.06-.94-2.06-.94-.94-2.06-.94 2.06-2.06.94z\"/><path d=\"M17.41 7.96l-1.37-1.37c-.4-.4-.92-.59-1.43-.59-.52 0-1.04.2-1.43.59L10.3 9.45l-7.72 7.72c-.78.78-.78 2.05 0 2.83L4 21.41c.39.39.9.59 1.41.59.51 0 1.02-.2 1.41-.59l7.78-7.78 2.81-2.81c.8-.78.8-2.07 0-2.86zM5.41 20L4 18.59l7.72-7.72 1.47 1.35L5.41 20z\"/>\n",
              "  </svg>\n",
              "      </button>\n",
              "      \n",
              "  <style>\n",
              "    .colab-df-container {\n",
              "      display:flex;\n",
              "      flex-wrap:wrap;\n",
              "      gap: 12px;\n",
              "    }\n",
              "\n",
              "    .colab-df-convert {\n",
              "      background-color: #E8F0FE;\n",
              "      border: none;\n",
              "      border-radius: 50%;\n",
              "      cursor: pointer;\n",
              "      display: none;\n",
              "      fill: #1967D2;\n",
              "      height: 32px;\n",
              "      padding: 0 0 0 0;\n",
              "      width: 32px;\n",
              "    }\n",
              "\n",
              "    .colab-df-convert:hover {\n",
              "      background-color: #E2EBFA;\n",
              "      box-shadow: 0px 1px 2px rgba(60, 64, 67, 0.3), 0px 1px 3px 1px rgba(60, 64, 67, 0.15);\n",
              "      fill: #174EA6;\n",
              "    }\n",
              "\n",
              "    [theme=dark] .colab-df-convert {\n",
              "      background-color: #3B4455;\n",
              "      fill: #D2E3FC;\n",
              "    }\n",
              "\n",
              "    [theme=dark] .colab-df-convert:hover {\n",
              "      background-color: #434B5C;\n",
              "      box-shadow: 0px 1px 3px 1px rgba(0, 0, 0, 0.15);\n",
              "      filter: drop-shadow(0px 1px 2px rgba(0, 0, 0, 0.3));\n",
              "      fill: #FFFFFF;\n",
              "    }\n",
              "  </style>\n",
              "\n",
              "      <script>\n",
              "        const buttonEl =\n",
              "          document.querySelector('#df-66263c18-7de3-4ce0-9d4e-858c09901886 button.colab-df-convert');\n",
              "        buttonEl.style.display =\n",
              "          google.colab.kernel.accessAllowed ? 'block' : 'none';\n",
              "\n",
              "        async function convertToInteractive(key) {\n",
              "          const element = document.querySelector('#df-66263c18-7de3-4ce0-9d4e-858c09901886');\n",
              "          const dataTable =\n",
              "            await google.colab.kernel.invokeFunction('convertToInteractive',\n",
              "                                                     [key], {});\n",
              "          if (!dataTable) return;\n",
              "\n",
              "          const docLinkHtml = 'Like what you see? Visit the ' +\n",
              "            '<a target=\"_blank\" href=https://colab.research.google.com/notebooks/data_table.ipynb>data table notebook</a>'\n",
              "            + ' to learn more about interactive tables.';\n",
              "          element.innerHTML = '';\n",
              "          dataTable['output_type'] = 'display_data';\n",
              "          await google.colab.output.renderOutput(dataTable, element);\n",
              "          const docLink = document.createElement('div');\n",
              "          docLink.innerHTML = docLinkHtml;\n",
              "          element.appendChild(docLink);\n",
              "        }\n",
              "      </script>\n",
              "    </div>\n",
              "  </div>\n",
              "  "
            ]
          },
          "metadata": {},
          "execution_count": 35
        }
      ]
    },
    {
      "cell_type": "code",
      "metadata": {
        "id": "SSU_T86WxLLE",
        "colab": {
          "base_uri": "https://localhost:8080/"
        },
        "outputId": "9374c63e-7224-4a4d-ca85-b531496a345c"
      },
      "source": [
        "dataset_new.columns"
      ],
      "execution_count": 36,
      "outputs": [
        {
          "output_type": "execute_result",
          "data": {
            "text/plain": [
              "Index(['ride_id', 'travel_date', 'travel_time', 'travel_from', 'car_type',\n",
              "       'max_capacity', 'number_of_ticket', 'date', 'day_of_week',\n",
              "       'day_of_year', 'day_of_month', 'year_woy', 'hour', 'minute',\n",
              "       'is_weekend', 'year', 'quarter', 'month', 'period', 'hourly_travelers',\n",
              "       'daily_travelers'],\n",
              "      dtype='object')"
            ]
          },
          "metadata": {},
          "execution_count": 36
        }
      ]
    },
    {
      "cell_type": "code",
      "metadata": {
        "id": "uE02HAGmxQ2z"
      },
      "source": [
        "new_cols = ['day_of_year','daily_travelers','minute','day_of_month','hourly_travelers','is_weekend','day_of_week']"
      ],
      "execution_count": 37,
      "outputs": []
    },
    {
      "cell_type": "code",
      "metadata": {
        "id": "2bIcC3wqAmN4"
      },
      "source": [
        "transport_dataset=dataset_new.copy()"
      ],
      "execution_count": 38,
      "outputs": []
    },
    {
      "cell_type": "code",
      "metadata": {
        "colab": {
          "base_uri": "https://localhost:8080/",
          "height": 473
        },
        "id": "2qf12DUDBR4X",
        "outputId": "97ae2089-ed98-4558-ecb7-c9ff84f41572"
      },
      "source": [
        "transport_dataset.head()"
      ],
      "execution_count": 39,
      "outputs": [
        {
          "output_type": "execute_result",
          "data": {
            "text/plain": [
              "   ride_id travel_date  travel_time travel_from car_type  max_capacity  \\\n",
              "0     1442    17-10-17     7.250000      Migori      Bus            49   \n",
              "1     5437    19-11-17     7.200000      Migori      Bus            49   \n",
              "2     5710    26-11-17     7.083333      Keroka      Bus            49   \n",
              "3     5777    27-11-17     7.166667    Homa Bay      Bus            49   \n",
              "4     5778    27-11-17     7.200000      Migori      Bus            49   \n",
              "\n",
              "   number_of_ticket                date  day_of_week  day_of_year  ...  \\\n",
              "0                 1 2017-10-17 07:15:00            1          290  ...   \n",
              "1                 1 2017-11-19 07:12:00            6          323  ...   \n",
              "2                 1 2017-11-26 07:05:00            6          330  ...   \n",
              "3                 5 2017-11-27 07:10:00            0          331  ...   \n",
              "4                31 2017-11-27 07:12:00            0          331  ...   \n",
              "\n",
              "   year_woy hour  minute  is_weekend  year  quarter  month  period  \\\n",
              "0    201742    7      15           0  2017        4     10      am   \n",
              "1    201746    7      12           1  2017        4     11      am   \n",
              "2    201747    7       5           1  2017        4     11      am   \n",
              "3    201748    7      10           0  2017        4     11      am   \n",
              "4    201748    7      12           0  2017        4     11      am   \n",
              "\n",
              "  hourly_travelers  daily_travelers  \n",
              "0         8.494743         0.693147  \n",
              "1         8.494743         0.693147  \n",
              "2         8.494743         0.693147  \n",
              "3         8.494743         3.871201  \n",
              "4         8.494743         3.871201  \n",
              "\n",
              "[5 rows x 21 columns]"
            ],
            "text/html": [
              "\n",
              "  <div id=\"df-f1071d21-879d-471c-8dff-0b6e09660827\">\n",
              "    <div class=\"colab-df-container\">\n",
              "      <div>\n",
              "<style scoped>\n",
              "    .dataframe tbody tr th:only-of-type {\n",
              "        vertical-align: middle;\n",
              "    }\n",
              "\n",
              "    .dataframe tbody tr th {\n",
              "        vertical-align: top;\n",
              "    }\n",
              "\n",
              "    .dataframe thead th {\n",
              "        text-align: right;\n",
              "    }\n",
              "</style>\n",
              "<table border=\"1\" class=\"dataframe\">\n",
              "  <thead>\n",
              "    <tr style=\"text-align: right;\">\n",
              "      <th></th>\n",
              "      <th>ride_id</th>\n",
              "      <th>travel_date</th>\n",
              "      <th>travel_time</th>\n",
              "      <th>travel_from</th>\n",
              "      <th>car_type</th>\n",
              "      <th>max_capacity</th>\n",
              "      <th>number_of_ticket</th>\n",
              "      <th>date</th>\n",
              "      <th>day_of_week</th>\n",
              "      <th>day_of_year</th>\n",
              "      <th>...</th>\n",
              "      <th>year_woy</th>\n",
              "      <th>hour</th>\n",
              "      <th>minute</th>\n",
              "      <th>is_weekend</th>\n",
              "      <th>year</th>\n",
              "      <th>quarter</th>\n",
              "      <th>month</th>\n",
              "      <th>period</th>\n",
              "      <th>hourly_travelers</th>\n",
              "      <th>daily_travelers</th>\n",
              "    </tr>\n",
              "  </thead>\n",
              "  <tbody>\n",
              "    <tr>\n",
              "      <th>0</th>\n",
              "      <td>1442</td>\n",
              "      <td>17-10-17</td>\n",
              "      <td>7.250000</td>\n",
              "      <td>Migori</td>\n",
              "      <td>Bus</td>\n",
              "      <td>49</td>\n",
              "      <td>1</td>\n",
              "      <td>2017-10-17 07:15:00</td>\n",
              "      <td>1</td>\n",
              "      <td>290</td>\n",
              "      <td>...</td>\n",
              "      <td>201742</td>\n",
              "      <td>7</td>\n",
              "      <td>15</td>\n",
              "      <td>0</td>\n",
              "      <td>2017</td>\n",
              "      <td>4</td>\n",
              "      <td>10</td>\n",
              "      <td>am</td>\n",
              "      <td>8.494743</td>\n",
              "      <td>0.693147</td>\n",
              "    </tr>\n",
              "    <tr>\n",
              "      <th>1</th>\n",
              "      <td>5437</td>\n",
              "      <td>19-11-17</td>\n",
              "      <td>7.200000</td>\n",
              "      <td>Migori</td>\n",
              "      <td>Bus</td>\n",
              "      <td>49</td>\n",
              "      <td>1</td>\n",
              "      <td>2017-11-19 07:12:00</td>\n",
              "      <td>6</td>\n",
              "      <td>323</td>\n",
              "      <td>...</td>\n",
              "      <td>201746</td>\n",
              "      <td>7</td>\n",
              "      <td>12</td>\n",
              "      <td>1</td>\n",
              "      <td>2017</td>\n",
              "      <td>4</td>\n",
              "      <td>11</td>\n",
              "      <td>am</td>\n",
              "      <td>8.494743</td>\n",
              "      <td>0.693147</td>\n",
              "    </tr>\n",
              "    <tr>\n",
              "      <th>2</th>\n",
              "      <td>5710</td>\n",
              "      <td>26-11-17</td>\n",
              "      <td>7.083333</td>\n",
              "      <td>Keroka</td>\n",
              "      <td>Bus</td>\n",
              "      <td>49</td>\n",
              "      <td>1</td>\n",
              "      <td>2017-11-26 07:05:00</td>\n",
              "      <td>6</td>\n",
              "      <td>330</td>\n",
              "      <td>...</td>\n",
              "      <td>201747</td>\n",
              "      <td>7</td>\n",
              "      <td>5</td>\n",
              "      <td>1</td>\n",
              "      <td>2017</td>\n",
              "      <td>4</td>\n",
              "      <td>11</td>\n",
              "      <td>am</td>\n",
              "      <td>8.494743</td>\n",
              "      <td>0.693147</td>\n",
              "    </tr>\n",
              "    <tr>\n",
              "      <th>3</th>\n",
              "      <td>5777</td>\n",
              "      <td>27-11-17</td>\n",
              "      <td>7.166667</td>\n",
              "      <td>Homa Bay</td>\n",
              "      <td>Bus</td>\n",
              "      <td>49</td>\n",
              "      <td>5</td>\n",
              "      <td>2017-11-27 07:10:00</td>\n",
              "      <td>0</td>\n",
              "      <td>331</td>\n",
              "      <td>...</td>\n",
              "      <td>201748</td>\n",
              "      <td>7</td>\n",
              "      <td>10</td>\n",
              "      <td>0</td>\n",
              "      <td>2017</td>\n",
              "      <td>4</td>\n",
              "      <td>11</td>\n",
              "      <td>am</td>\n",
              "      <td>8.494743</td>\n",
              "      <td>3.871201</td>\n",
              "    </tr>\n",
              "    <tr>\n",
              "      <th>4</th>\n",
              "      <td>5778</td>\n",
              "      <td>27-11-17</td>\n",
              "      <td>7.200000</td>\n",
              "      <td>Migori</td>\n",
              "      <td>Bus</td>\n",
              "      <td>49</td>\n",
              "      <td>31</td>\n",
              "      <td>2017-11-27 07:12:00</td>\n",
              "      <td>0</td>\n",
              "      <td>331</td>\n",
              "      <td>...</td>\n",
              "      <td>201748</td>\n",
              "      <td>7</td>\n",
              "      <td>12</td>\n",
              "      <td>0</td>\n",
              "      <td>2017</td>\n",
              "      <td>4</td>\n",
              "      <td>11</td>\n",
              "      <td>am</td>\n",
              "      <td>8.494743</td>\n",
              "      <td>3.871201</td>\n",
              "    </tr>\n",
              "  </tbody>\n",
              "</table>\n",
              "<p>5 rows × 21 columns</p>\n",
              "</div>\n",
              "      <button class=\"colab-df-convert\" onclick=\"convertToInteractive('df-f1071d21-879d-471c-8dff-0b6e09660827')\"\n",
              "              title=\"Convert this dataframe to an interactive table.\"\n",
              "              style=\"display:none;\">\n",
              "        \n",
              "  <svg xmlns=\"http://www.w3.org/2000/svg\" height=\"24px\"viewBox=\"0 0 24 24\"\n",
              "       width=\"24px\">\n",
              "    <path d=\"M0 0h24v24H0V0z\" fill=\"none\"/>\n",
              "    <path d=\"M18.56 5.44l.94 2.06.94-2.06 2.06-.94-2.06-.94-.94-2.06-.94 2.06-2.06.94zm-11 1L8.5 8.5l.94-2.06 2.06-.94-2.06-.94L8.5 2.5l-.94 2.06-2.06.94zm10 10l.94 2.06.94-2.06 2.06-.94-2.06-.94-.94-2.06-.94 2.06-2.06.94z\"/><path d=\"M17.41 7.96l-1.37-1.37c-.4-.4-.92-.59-1.43-.59-.52 0-1.04.2-1.43.59L10.3 9.45l-7.72 7.72c-.78.78-.78 2.05 0 2.83L4 21.41c.39.39.9.59 1.41.59.51 0 1.02-.2 1.41-.59l7.78-7.78 2.81-2.81c.8-.78.8-2.07 0-2.86zM5.41 20L4 18.59l7.72-7.72 1.47 1.35L5.41 20z\"/>\n",
              "  </svg>\n",
              "      </button>\n",
              "      \n",
              "  <style>\n",
              "    .colab-df-container {\n",
              "      display:flex;\n",
              "      flex-wrap:wrap;\n",
              "      gap: 12px;\n",
              "    }\n",
              "\n",
              "    .colab-df-convert {\n",
              "      background-color: #E8F0FE;\n",
              "      border: none;\n",
              "      border-radius: 50%;\n",
              "      cursor: pointer;\n",
              "      display: none;\n",
              "      fill: #1967D2;\n",
              "      height: 32px;\n",
              "      padding: 0 0 0 0;\n",
              "      width: 32px;\n",
              "    }\n",
              "\n",
              "    .colab-df-convert:hover {\n",
              "      background-color: #E2EBFA;\n",
              "      box-shadow: 0px 1px 2px rgba(60, 64, 67, 0.3), 0px 1px 3px 1px rgba(60, 64, 67, 0.15);\n",
              "      fill: #174EA6;\n",
              "    }\n",
              "\n",
              "    [theme=dark] .colab-df-convert {\n",
              "      background-color: #3B4455;\n",
              "      fill: #D2E3FC;\n",
              "    }\n",
              "\n",
              "    [theme=dark] .colab-df-convert:hover {\n",
              "      background-color: #434B5C;\n",
              "      box-shadow: 0px 1px 3px 1px rgba(0, 0, 0, 0.15);\n",
              "      filter: drop-shadow(0px 1px 2px rgba(0, 0, 0, 0.3));\n",
              "      fill: #FFFFFF;\n",
              "    }\n",
              "  </style>\n",
              "\n",
              "      <script>\n",
              "        const buttonEl =\n",
              "          document.querySelector('#df-f1071d21-879d-471c-8dff-0b6e09660827 button.colab-df-convert');\n",
              "        buttonEl.style.display =\n",
              "          google.colab.kernel.accessAllowed ? 'block' : 'none';\n",
              "\n",
              "        async function convertToInteractive(key) {\n",
              "          const element = document.querySelector('#df-f1071d21-879d-471c-8dff-0b6e09660827');\n",
              "          const dataTable =\n",
              "            await google.colab.kernel.invokeFunction('convertToInteractive',\n",
              "                                                     [key], {});\n",
              "          if (!dataTable) return;\n",
              "\n",
              "          const docLinkHtml = 'Like what you see? Visit the ' +\n",
              "            '<a target=\"_blank\" href=https://colab.research.google.com/notebooks/data_table.ipynb>data table notebook</a>'\n",
              "            + ' to learn more about interactive tables.';\n",
              "          element.innerHTML = '';\n",
              "          dataTable['output_type'] = 'display_data';\n",
              "          await google.colab.output.renderOutput(dataTable, element);\n",
              "          const docLink = document.createElement('div');\n",
              "          docLink.innerHTML = docLinkHtml;\n",
              "          element.appendChild(docLink);\n",
              "        }\n",
              "      </script>\n",
              "    </div>\n",
              "  </div>\n",
              "  "
            ]
          },
          "metadata": {},
          "execution_count": 39
        }
      ]
    },
    {
      "cell_type": "code",
      "metadata": {
        "colab": {
          "base_uri": "https://localhost:8080/"
        },
        "id": "XsKIdE5JTL8H",
        "outputId": "91d43213-53dc-4d69-a527-de6116795dae"
      },
      "source": [
        "transport_dataset.shape"
      ],
      "execution_count": 40,
      "outputs": [
        {
          "output_type": "execute_result",
          "data": {
            "text/plain": [
              "(6249, 21)"
            ]
          },
          "metadata": {},
          "execution_count": 40
        }
      ]
    },
    {
      "cell_type": "code",
      "metadata": {
        "colab": {
          "base_uri": "https://localhost:8080/"
        },
        "id": "W-HqQxs_WQhh",
        "outputId": "6ad9a3ea-21b8-40a3-e669-e9fa27c94e27"
      },
      "source": [
        "transport_dataset.month.value_counts()"
      ],
      "execution_count": 41,
      "outputs": [
        {
          "output_type": "execute_result",
          "data": {
            "text/plain": [
              "12    1050\n",
              "2      985\n",
              "1      896\n",
              "3      853\n",
              "4      600\n",
              "11     414\n",
              "9      262\n",
              "7      254\n",
              "8      251\n",
              "10     247\n",
              "6      225\n",
              "5      212\n",
              "Name: month, dtype: int64"
            ]
          },
          "metadata": {},
          "execution_count": 41
        }
      ]
    },
    {
      "cell_type": "code",
      "metadata": {
        "id": "PhgHJNyASpmR"
      },
      "source": [
        "dict_cov = {12:1,2:1,1:1,2:1,4:2,11:2,9:3,7:3,8:3,10:3,6:3,5:3}\n",
        "transport_dataset['month'].replace(dict_cov,inplace=True)\n",
        "  "
      ],
      "execution_count": 42,
      "outputs": []
    },
    {
      "cell_type": "code",
      "metadata": {
        "colab": {
          "base_uri": "https://localhost:8080/"
        },
        "id": "qGzp485bX2lA",
        "outputId": "ebe2f936-2182-4aee-d0df-e82b74f8f9d1"
      },
      "source": [
        "transport_dataset.month.value_counts()"
      ],
      "execution_count": 43,
      "outputs": [
        {
          "output_type": "execute_result",
          "data": {
            "text/plain": [
              "1    2931\n",
              "3    2304\n",
              "2    1014\n",
              "Name: month, dtype: int64"
            ]
          },
          "metadata": {},
          "execution_count": 43
        }
      ]
    },
    {
      "cell_type": "code",
      "metadata": {
        "id": "3aDyy2ucX8Ye",
        "colab": {
          "base_uri": "https://localhost:8080/"
        },
        "outputId": "83ab79cb-09a1-4401-ce03-4f82515b7eca"
      },
      "source": [
        "transport_dataset.day_of_month.unique()"
      ],
      "execution_count": 44,
      "outputs": [
        {
          "output_type": "execute_result",
          "data": {
            "text/plain": [
              "array([17, 19, 26, 27, 20, 18, 16, 15, 14, 13,  4, 28, 31, 30, 29, 25, 24,\n",
              "       23, 22, 21, 12,  3,  2,  1])"
            ]
          },
          "metadata": {},
          "execution_count": 44
        }
      ]
    },
    {
      "cell_type": "code",
      "metadata": {
        "id": "M6DKAv2rYCvq"
      },
      "source": [
        "conv_dict = {17:2, 19:2, 26:3, 27:3, 20:2, 18:2, 16:2, 15:2, 14:2, 13:2,  4:1, 28:2, 31:3, 30:3, 29:3, 25:3, 24:3,\n",
        "       23:3, 22:3, 21:3, 12:1,  3:1,  2:1,  1:2}\n",
        "transport_dataset['day_of_month'].replace(conv_dict,inplace=True)"
      ],
      "execution_count": 45,
      "outputs": []
    },
    {
      "cell_type": "code",
      "metadata": {
        "id": "bB4fGD76ZKpY",
        "colab": {
          "base_uri": "https://localhost:8080/"
        },
        "outputId": "15145e52-b355-4ed3-d9d7-eccfd0e8f7da"
      },
      "source": [
        "transport_dataset['day_of_month'].value_counts()"
      ],
      "execution_count": 46,
      "outputs": [
        {
          "output_type": "execute_result",
          "data": {
            "text/plain": [
              "1    2496\n",
              "2    2305\n",
              "3    1448\n",
              "Name: day_of_month, dtype: int64"
            ]
          },
          "metadata": {},
          "execution_count": 46
        }
      ]
    },
    {
      "cell_type": "code",
      "metadata": {
        "id": "G3A4SSevaE03",
        "colab": {
          "base_uri": "https://localhost:8080/",
          "height": 473
        },
        "outputId": "d3fb45e3-0d80-40b1-f4ee-5f2f1eac361e"
      },
      "source": [
        "transport_dataset.head()"
      ],
      "execution_count": 47,
      "outputs": [
        {
          "output_type": "execute_result",
          "data": {
            "text/plain": [
              "   ride_id travel_date  travel_time travel_from car_type  max_capacity  \\\n",
              "0     1442    17-10-17     7.250000      Migori      Bus            49   \n",
              "1     5437    19-11-17     7.200000      Migori      Bus            49   \n",
              "2     5710    26-11-17     7.083333      Keroka      Bus            49   \n",
              "3     5777    27-11-17     7.166667    Homa Bay      Bus            49   \n",
              "4     5778    27-11-17     7.200000      Migori      Bus            49   \n",
              "\n",
              "   number_of_ticket                date  day_of_week  day_of_year  ...  \\\n",
              "0                 1 2017-10-17 07:15:00            1          290  ...   \n",
              "1                 1 2017-11-19 07:12:00            6          323  ...   \n",
              "2                 1 2017-11-26 07:05:00            6          330  ...   \n",
              "3                 5 2017-11-27 07:10:00            0          331  ...   \n",
              "4                31 2017-11-27 07:12:00            0          331  ...   \n",
              "\n",
              "   year_woy hour  minute  is_weekend  year  quarter  month  period  \\\n",
              "0    201742    7      15           0  2017        4      3      am   \n",
              "1    201746    7      12           1  2017        4      2      am   \n",
              "2    201747    7       5           1  2017        4      2      am   \n",
              "3    201748    7      10           0  2017        4      2      am   \n",
              "4    201748    7      12           0  2017        4      2      am   \n",
              "\n",
              "  hourly_travelers  daily_travelers  \n",
              "0         8.494743         0.693147  \n",
              "1         8.494743         0.693147  \n",
              "2         8.494743         0.693147  \n",
              "3         8.494743         3.871201  \n",
              "4         8.494743         3.871201  \n",
              "\n",
              "[5 rows x 21 columns]"
            ],
            "text/html": [
              "\n",
              "  <div id=\"df-e4cc78d8-b645-4cb0-96f2-8abb109f8b88\">\n",
              "    <div class=\"colab-df-container\">\n",
              "      <div>\n",
              "<style scoped>\n",
              "    .dataframe tbody tr th:only-of-type {\n",
              "        vertical-align: middle;\n",
              "    }\n",
              "\n",
              "    .dataframe tbody tr th {\n",
              "        vertical-align: top;\n",
              "    }\n",
              "\n",
              "    .dataframe thead th {\n",
              "        text-align: right;\n",
              "    }\n",
              "</style>\n",
              "<table border=\"1\" class=\"dataframe\">\n",
              "  <thead>\n",
              "    <tr style=\"text-align: right;\">\n",
              "      <th></th>\n",
              "      <th>ride_id</th>\n",
              "      <th>travel_date</th>\n",
              "      <th>travel_time</th>\n",
              "      <th>travel_from</th>\n",
              "      <th>car_type</th>\n",
              "      <th>max_capacity</th>\n",
              "      <th>number_of_ticket</th>\n",
              "      <th>date</th>\n",
              "      <th>day_of_week</th>\n",
              "      <th>day_of_year</th>\n",
              "      <th>...</th>\n",
              "      <th>year_woy</th>\n",
              "      <th>hour</th>\n",
              "      <th>minute</th>\n",
              "      <th>is_weekend</th>\n",
              "      <th>year</th>\n",
              "      <th>quarter</th>\n",
              "      <th>month</th>\n",
              "      <th>period</th>\n",
              "      <th>hourly_travelers</th>\n",
              "      <th>daily_travelers</th>\n",
              "    </tr>\n",
              "  </thead>\n",
              "  <tbody>\n",
              "    <tr>\n",
              "      <th>0</th>\n",
              "      <td>1442</td>\n",
              "      <td>17-10-17</td>\n",
              "      <td>7.250000</td>\n",
              "      <td>Migori</td>\n",
              "      <td>Bus</td>\n",
              "      <td>49</td>\n",
              "      <td>1</td>\n",
              "      <td>2017-10-17 07:15:00</td>\n",
              "      <td>1</td>\n",
              "      <td>290</td>\n",
              "      <td>...</td>\n",
              "      <td>201742</td>\n",
              "      <td>7</td>\n",
              "      <td>15</td>\n",
              "      <td>0</td>\n",
              "      <td>2017</td>\n",
              "      <td>4</td>\n",
              "      <td>3</td>\n",
              "      <td>am</td>\n",
              "      <td>8.494743</td>\n",
              "      <td>0.693147</td>\n",
              "    </tr>\n",
              "    <tr>\n",
              "      <th>1</th>\n",
              "      <td>5437</td>\n",
              "      <td>19-11-17</td>\n",
              "      <td>7.200000</td>\n",
              "      <td>Migori</td>\n",
              "      <td>Bus</td>\n",
              "      <td>49</td>\n",
              "      <td>1</td>\n",
              "      <td>2017-11-19 07:12:00</td>\n",
              "      <td>6</td>\n",
              "      <td>323</td>\n",
              "      <td>...</td>\n",
              "      <td>201746</td>\n",
              "      <td>7</td>\n",
              "      <td>12</td>\n",
              "      <td>1</td>\n",
              "      <td>2017</td>\n",
              "      <td>4</td>\n",
              "      <td>2</td>\n",
              "      <td>am</td>\n",
              "      <td>8.494743</td>\n",
              "      <td>0.693147</td>\n",
              "    </tr>\n",
              "    <tr>\n",
              "      <th>2</th>\n",
              "      <td>5710</td>\n",
              "      <td>26-11-17</td>\n",
              "      <td>7.083333</td>\n",
              "      <td>Keroka</td>\n",
              "      <td>Bus</td>\n",
              "      <td>49</td>\n",
              "      <td>1</td>\n",
              "      <td>2017-11-26 07:05:00</td>\n",
              "      <td>6</td>\n",
              "      <td>330</td>\n",
              "      <td>...</td>\n",
              "      <td>201747</td>\n",
              "      <td>7</td>\n",
              "      <td>5</td>\n",
              "      <td>1</td>\n",
              "      <td>2017</td>\n",
              "      <td>4</td>\n",
              "      <td>2</td>\n",
              "      <td>am</td>\n",
              "      <td>8.494743</td>\n",
              "      <td>0.693147</td>\n",
              "    </tr>\n",
              "    <tr>\n",
              "      <th>3</th>\n",
              "      <td>5777</td>\n",
              "      <td>27-11-17</td>\n",
              "      <td>7.166667</td>\n",
              "      <td>Homa Bay</td>\n",
              "      <td>Bus</td>\n",
              "      <td>49</td>\n",
              "      <td>5</td>\n",
              "      <td>2017-11-27 07:10:00</td>\n",
              "      <td>0</td>\n",
              "      <td>331</td>\n",
              "      <td>...</td>\n",
              "      <td>201748</td>\n",
              "      <td>7</td>\n",
              "      <td>10</td>\n",
              "      <td>0</td>\n",
              "      <td>2017</td>\n",
              "      <td>4</td>\n",
              "      <td>2</td>\n",
              "      <td>am</td>\n",
              "      <td>8.494743</td>\n",
              "      <td>3.871201</td>\n",
              "    </tr>\n",
              "    <tr>\n",
              "      <th>4</th>\n",
              "      <td>5778</td>\n",
              "      <td>27-11-17</td>\n",
              "      <td>7.200000</td>\n",
              "      <td>Migori</td>\n",
              "      <td>Bus</td>\n",
              "      <td>49</td>\n",
              "      <td>31</td>\n",
              "      <td>2017-11-27 07:12:00</td>\n",
              "      <td>0</td>\n",
              "      <td>331</td>\n",
              "      <td>...</td>\n",
              "      <td>201748</td>\n",
              "      <td>7</td>\n",
              "      <td>12</td>\n",
              "      <td>0</td>\n",
              "      <td>2017</td>\n",
              "      <td>4</td>\n",
              "      <td>2</td>\n",
              "      <td>am</td>\n",
              "      <td>8.494743</td>\n",
              "      <td>3.871201</td>\n",
              "    </tr>\n",
              "  </tbody>\n",
              "</table>\n",
              "<p>5 rows × 21 columns</p>\n",
              "</div>\n",
              "      <button class=\"colab-df-convert\" onclick=\"convertToInteractive('df-e4cc78d8-b645-4cb0-96f2-8abb109f8b88')\"\n",
              "              title=\"Convert this dataframe to an interactive table.\"\n",
              "              style=\"display:none;\">\n",
              "        \n",
              "  <svg xmlns=\"http://www.w3.org/2000/svg\" height=\"24px\"viewBox=\"0 0 24 24\"\n",
              "       width=\"24px\">\n",
              "    <path d=\"M0 0h24v24H0V0z\" fill=\"none\"/>\n",
              "    <path d=\"M18.56 5.44l.94 2.06.94-2.06 2.06-.94-2.06-.94-.94-2.06-.94 2.06-2.06.94zm-11 1L8.5 8.5l.94-2.06 2.06-.94-2.06-.94L8.5 2.5l-.94 2.06-2.06.94zm10 10l.94 2.06.94-2.06 2.06-.94-2.06-.94-.94-2.06-.94 2.06-2.06.94z\"/><path d=\"M17.41 7.96l-1.37-1.37c-.4-.4-.92-.59-1.43-.59-.52 0-1.04.2-1.43.59L10.3 9.45l-7.72 7.72c-.78.78-.78 2.05 0 2.83L4 21.41c.39.39.9.59 1.41.59.51 0 1.02-.2 1.41-.59l7.78-7.78 2.81-2.81c.8-.78.8-2.07 0-2.86zM5.41 20L4 18.59l7.72-7.72 1.47 1.35L5.41 20z\"/>\n",
              "  </svg>\n",
              "      </button>\n",
              "      \n",
              "  <style>\n",
              "    .colab-df-container {\n",
              "      display:flex;\n",
              "      flex-wrap:wrap;\n",
              "      gap: 12px;\n",
              "    }\n",
              "\n",
              "    .colab-df-convert {\n",
              "      background-color: #E8F0FE;\n",
              "      border: none;\n",
              "      border-radius: 50%;\n",
              "      cursor: pointer;\n",
              "      display: none;\n",
              "      fill: #1967D2;\n",
              "      height: 32px;\n",
              "      padding: 0 0 0 0;\n",
              "      width: 32px;\n",
              "    }\n",
              "\n",
              "    .colab-df-convert:hover {\n",
              "      background-color: #E2EBFA;\n",
              "      box-shadow: 0px 1px 2px rgba(60, 64, 67, 0.3), 0px 1px 3px 1px rgba(60, 64, 67, 0.15);\n",
              "      fill: #174EA6;\n",
              "    }\n",
              "\n",
              "    [theme=dark] .colab-df-convert {\n",
              "      background-color: #3B4455;\n",
              "      fill: #D2E3FC;\n",
              "    }\n",
              "\n",
              "    [theme=dark] .colab-df-convert:hover {\n",
              "      background-color: #434B5C;\n",
              "      box-shadow: 0px 1px 3px 1px rgba(0, 0, 0, 0.15);\n",
              "      filter: drop-shadow(0px 1px 2px rgba(0, 0, 0, 0.3));\n",
              "      fill: #FFFFFF;\n",
              "    }\n",
              "  </style>\n",
              "\n",
              "      <script>\n",
              "        const buttonEl =\n",
              "          document.querySelector('#df-e4cc78d8-b645-4cb0-96f2-8abb109f8b88 button.colab-df-convert');\n",
              "        buttonEl.style.display =\n",
              "          google.colab.kernel.accessAllowed ? 'block' : 'none';\n",
              "\n",
              "        async function convertToInteractive(key) {\n",
              "          const element = document.querySelector('#df-e4cc78d8-b645-4cb0-96f2-8abb109f8b88');\n",
              "          const dataTable =\n",
              "            await google.colab.kernel.invokeFunction('convertToInteractive',\n",
              "                                                     [key], {});\n",
              "          if (!dataTable) return;\n",
              "\n",
              "          const docLinkHtml = 'Like what you see? Visit the ' +\n",
              "            '<a target=\"_blank\" href=https://colab.research.google.com/notebooks/data_table.ipynb>data table notebook</a>'\n",
              "            + ' to learn more about interactive tables.';\n",
              "          element.innerHTML = '';\n",
              "          dataTable['output_type'] = 'display_data';\n",
              "          await google.colab.output.renderOutput(dataTable, element);\n",
              "          const docLink = document.createElement('div');\n",
              "          docLink.innerHTML = docLinkHtml;\n",
              "          element.appendChild(docLink);\n",
              "        }\n",
              "      </script>\n",
              "    </div>\n",
              "  </div>\n",
              "  "
            ]
          },
          "metadata": {},
          "execution_count": 47
        }
      ]
    },
    {
      "cell_type": "code",
      "metadata": {
        "id": "jyx78IVMFOmJ"
      },
      "source": [
        "# # function to find the characterstics of the variable in the dataframe.\n",
        "# def data_characterization(df):\n",
        "#   '''This function takes dataframe as an argument and returns \n",
        "#     the characterstics of the features of the dataframe'''\n",
        "#   characterized_df = pd.DataFrame(columns=['Columns name',\t'Type', 'unique values Count', 'Count Nan values','Ratio Nan values','Unique values',\t'Max',\t'Min','Mean','std'])\n",
        "#   for col in df.columns:\n",
        "#     try:\n",
        "#       characterized_df = characterized_df.append({'Columns name':col,\t'Type':df[col].dtype, 'unique values Count':len(df[col].unique()), \n",
        "#                                                   'Count Nan values':df[col].isnull().sum(),'Ratio Nan values':df[col].isnull().sum()/df[col].shape[0],\n",
        "#                                                   'Unique values':df[col].unique(),\t'Max':df[col].max(),\t'Min':df[col].min(),'Mean':df[col].mean(),'std':df[col].std()},\n",
        "#                                                 ignore_index=True)\n",
        "#     except:\n",
        "#       characterized_df = characterized_df.append({'Columns name':col,\t'Type':df[col].dtype, 'unique values Count':len(df[col].unique()), \n",
        "#                                                   'Count Nan values':df[col].isnull().sum(),'Ratio Nan values':df[col].isnull().sum()/df[col].shape[0],\n",
        "#                                                   'Unique values':df[col].unique(),\t'Max':np.nan,\t'Min':np.nan,'Mean':np.nan,'std':np.nan},\n",
        "#                                                 ignore_index=True)\n",
        "  # return characterized_df"
      ],
      "execution_count": 48,
      "outputs": []
    },
    {
      "cell_type": "code",
      "metadata": {
        "id": "DOoB94qzVQqk"
      },
      "source": [
        "# data_characterization(transport_dataset)"
      ],
      "execution_count": 49,
      "outputs": []
    },
    {
      "cell_type": "markdown",
      "metadata": {
        "id": "4Z3eRON5Nsid"
      },
      "source": [
        "**`Series.shift(periods=1, freq=None, axis=0, fill_value=None)`**\n",
        "\n",
        "\n",
        "Shift index by desired number of periods with an optional time freq.\n",
        "\n",
        "*When freq is not passed, shift the index without realigning the data. If freq is passed (in this case, the index must be date or datetime, or it will raise a NotImplementedError), the index will be increased using the periods and the freq. freq can be inferred when specified as “infer” as long as either freq or inferred_freq attribute is set in the index.*\n",
        "\n",
        "**`Series-dt.total_seconds()` function:-**<br> \n",
        "<large> The `dt.total_seconds()` function is used to return total duration of each element expressed in seconds.</large>\n"
      ]
    },
    {
      "cell_type": "code",
      "metadata": {
        "id": "55575NKrcuzX"
      },
      "source": [
        "\n",
        "# Let us find the difference between next and previous buses\n",
        "# And count the travel per minut trip\n",
        "def find_difference_bw_bus(data):\n",
        "  \n",
        "  data.sort_values([\"travel_from\",\"date\"],inplace=True,ascending=True)\n",
        "  data[\"Time_gap_btw_0_1_next_bus\"]=(data[\"date\"]-data.groupby([\"travel_from\"]).date.shift(-1)).dt.total_seconds()/3600\n",
        "  data[\"Time_gap_btw_0_1_previous_bus\"]=(data[\"date\"]-data.groupby([\"travel_from\"]).date.shift(1)).dt.total_seconds()/3600\n",
        "  data[\"Time_gap_btw_0_2_next_bus\"]=(data[\"date\"]-data.groupby([\"travel_from\"]).date.shift(-2)).dt.total_seconds()/3600\n",
        "  data[\"Time_gap_btw_0_2_previous_bus\"]=(data[\"date\"]-data.groupby([\"travel_from\"]).date.shift(2)).dt.total_seconds()/3600\n",
        "  data[\"Time_gap_btw_0_3_next_bus\"]=(data[\"date\"]-data.groupby([\"travel_from\"]).date.shift(-3)).dt.total_seconds()/3600\n",
        "  data[\"Time_gap_btw_0_3_previous_bus\"]=(data[\"date\"]-data.groupby([\"travel_from\"]).date.shift(3)).dt.total_seconds()/3600\n",
        "  data[\"Time_gap_btw_next_previous_bus\"]=(data.groupby([\"travel_from\"]).date.shift(-1)-data.groupby([\"travel_from\"]).date.shift(1)).dt.total_seconds()/3600\n",
        "  cols=[\"Time_gap_btw_0_1_next_bus\", \"Time_gap_btw_0_1_previous_bus\", \"Time_gap_btw_0_2_next_bus\",\"Time_gap_btw_0_2_previous_bus\",\n",
        "      \"Time_gap_btw_0_3_next_bus\", \"Time_gap_btw_0_3_previous_bus\",\n",
        "      \"Time_gap_btw_next_previous_bus\"]\n",
        "  data[cols]=data.groupby([\"travel_from\"])[cols].fillna(method=\"ffill\")\n",
        "  data[cols]=data.groupby([\"travel_from\"])[cols].fillna(method=\"backfill\")\n",
        "\n",
        "  \n",
        "  return data"
      ],
      "execution_count": 50,
      "outputs": []
    },
    {
      "cell_type": "code",
      "metadata": {
        "id": "jB3K5FbXV6dN"
      },
      "source": [
        "data = find_difference_bw_bus(transport_dataset)"
      ],
      "execution_count": 51,
      "outputs": []
    },
    {
      "cell_type": "code",
      "metadata": {
        "colab": {
          "base_uri": "https://localhost:8080/"
        },
        "id": "CMVERhPvSxf1",
        "outputId": "cdba4071-f373-497f-e0b7-ae70099d47e3"
      },
      "source": [
        "data.isnull().sum()"
      ],
      "execution_count": 52,
      "outputs": [
        {
          "output_type": "execute_result",
          "data": {
            "text/plain": [
              "ride_id                           0\n",
              "travel_date                       0\n",
              "travel_time                       0\n",
              "travel_from                       0\n",
              "car_type                          0\n",
              "max_capacity                      0\n",
              "number_of_ticket                  0\n",
              "date                              0\n",
              "day_of_week                       0\n",
              "day_of_year                       0\n",
              "day_of_month                      0\n",
              "year_woy                          0\n",
              "hour                              0\n",
              "minute                            0\n",
              "is_weekend                        0\n",
              "year                              0\n",
              "quarter                           0\n",
              "month                             0\n",
              "period                            0\n",
              "hourly_travelers                  0\n",
              "daily_travelers                   0\n",
              "Time_gap_btw_0_1_next_bus         1\n",
              "Time_gap_btw_0_1_previous_bus     1\n",
              "Time_gap_btw_0_2_next_bus         3\n",
              "Time_gap_btw_0_2_previous_bus     3\n",
              "Time_gap_btw_0_3_next_bus         3\n",
              "Time_gap_btw_0_3_previous_bus     3\n",
              "Time_gap_btw_next_previous_bus    3\n",
              "dtype: int64"
            ]
          },
          "metadata": {},
          "execution_count": 52
        }
      ]
    },
    {
      "cell_type": "markdown",
      "metadata": {
        "id": "EGQGxNCXWXAs"
      },
      "source": [
        "We see that there are some null values present in the dataset so let us reomove those null values"
      ]
    },
    {
      "cell_type": "code",
      "metadata": {
        "id": "yJo_UAik_n6m"
      },
      "source": [
        "data.dropna(inplace=True)\n"
      ],
      "execution_count": 53,
      "outputs": []
    },
    {
      "cell_type": "code",
      "metadata": {
        "colab": {
          "base_uri": "https://localhost:8080/",
          "height": 473
        },
        "id": "rGichOnRdGS1",
        "outputId": "49405ff0-8592-49dc-e937-724c675becd0"
      },
      "source": [
        "data.head()"
      ],
      "execution_count": 54,
      "outputs": [
        {
          "output_type": "execute_result",
          "data": {
            "text/plain": [
              "      ride_id travel_date  travel_time travel_from car_type  max_capacity  \\\n",
              "502      6654    05-12-17     7.133333      Awendo      Bus            49   \n",
              "5530    12926    01-04-18     7.133333      Awendo      Bus            49   \n",
              "5533    12929    01-04-18     7.200000      Awendo      Bus            49   \n",
              "5539    12935    01-04-18     7.216667      Awendo      Bus            49   \n",
              "5528    12924    01-04-18     8.000000      Awendo      Bus            49   \n",
              "\n",
              "      number_of_ticket                date  day_of_week  day_of_year  ...  \\\n",
              "502                  2 2017-05-12 07:08:00            4          132  ...   \n",
              "5530                20 2018-01-04 07:08:00            3            4  ...   \n",
              "5533                 2 2018-01-04 07:12:00            3            4  ...   \n",
              "5539                 9 2018-01-04 07:13:00            3            4  ...   \n",
              "5528                15 2018-01-04 08:00:00            3            4  ...   \n",
              "\n",
              "      period hourly_travelers  daily_travelers  Time_gap_btw_0_1_next_bus  \\\n",
              "502       am         8.494743         4.025352               -5688.000000   \n",
              "5530      am         8.494743         3.526361                  -0.066667   \n",
              "5533      am         8.494743         3.526361                  -0.016667   \n",
              "5539      am         8.494743         3.526361                  -0.783333   \n",
              "5528      am         8.494743         3.526361                -215.133333   \n",
              "\n",
              "      Time_gap_btw_0_1_previous_bus  Time_gap_btw_0_2_next_bus  \\\n",
              "502                     5688.000000               -5688.066667   \n",
              "5530                    5688.000000                  -0.083333   \n",
              "5533                       0.066667                  -0.800000   \n",
              "5539                       0.016667                -215.916667   \n",
              "5528                       0.783333                -215.250000   \n",
              "\n",
              "      Time_gap_btw_0_2_previous_bus  Time_gap_btw_0_3_next_bus  \\\n",
              "502                     5688.066667               -5688.083333   \n",
              "5530                    5688.066667                  -0.866667   \n",
              "5533                    5688.066667                -215.933333   \n",
              "5539                       0.083333                -216.033333   \n",
              "5528                       0.800000                -239.133333   \n",
              "\n",
              "     Time_gap_btw_0_3_previous_bus  Time_gap_btw_next_previous_bus  \n",
              "502                    5688.083333                     5688.066667  \n",
              "5530                   5688.083333                     5688.066667  \n",
              "5533                   5688.083333                        0.083333  \n",
              "5539                   5688.083333                        0.800000  \n",
              "5528                      0.866667                      215.916667  \n",
              "\n",
              "[5 rows x 28 columns]"
            ],
            "text/html": [
              "\n",
              "  <div id=\"df-e580a83c-5f40-42e1-88e7-fa190c5f25a1\">\n",
              "    <div class=\"colab-df-container\">\n",
              "      <div>\n",
              "<style scoped>\n",
              "    .dataframe tbody tr th:only-of-type {\n",
              "        vertical-align: middle;\n",
              "    }\n",
              "\n",
              "    .dataframe tbody tr th {\n",
              "        vertical-align: top;\n",
              "    }\n",
              "\n",
              "    .dataframe thead th {\n",
              "        text-align: right;\n",
              "    }\n",
              "</style>\n",
              "<table border=\"1\" class=\"dataframe\">\n",
              "  <thead>\n",
              "    <tr style=\"text-align: right;\">\n",
              "      <th></th>\n",
              "      <th>ride_id</th>\n",
              "      <th>travel_date</th>\n",
              "      <th>travel_time</th>\n",
              "      <th>travel_from</th>\n",
              "      <th>car_type</th>\n",
              "      <th>max_capacity</th>\n",
              "      <th>number_of_ticket</th>\n",
              "      <th>date</th>\n",
              "      <th>day_of_week</th>\n",
              "      <th>day_of_year</th>\n",
              "      <th>...</th>\n",
              "      <th>period</th>\n",
              "      <th>hourly_travelers</th>\n",
              "      <th>daily_travelers</th>\n",
              "      <th>Time_gap_btw_0_1_next_bus</th>\n",
              "      <th>Time_gap_btw_0_1_previous_bus</th>\n",
              "      <th>Time_gap_btw_0_2_next_bus</th>\n",
              "      <th>Time_gap_btw_0_2_previous_bus</th>\n",
              "      <th>Time_gap_btw_0_3_next_bus</th>\n",
              "      <th>Time_gap_btw_0_3_previous_bus</th>\n",
              "      <th>Time_gap_btw_next_previous_bus</th>\n",
              "    </tr>\n",
              "  </thead>\n",
              "  <tbody>\n",
              "    <tr>\n",
              "      <th>502</th>\n",
              "      <td>6654</td>\n",
              "      <td>05-12-17</td>\n",
              "      <td>7.133333</td>\n",
              "      <td>Awendo</td>\n",
              "      <td>Bus</td>\n",
              "      <td>49</td>\n",
              "      <td>2</td>\n",
              "      <td>2017-05-12 07:08:00</td>\n",
              "      <td>4</td>\n",
              "      <td>132</td>\n",
              "      <td>...</td>\n",
              "      <td>am</td>\n",
              "      <td>8.494743</td>\n",
              "      <td>4.025352</td>\n",
              "      <td>-5688.000000</td>\n",
              "      <td>5688.000000</td>\n",
              "      <td>-5688.066667</td>\n",
              "      <td>5688.066667</td>\n",
              "      <td>-5688.083333</td>\n",
              "      <td>5688.083333</td>\n",
              "      <td>5688.066667</td>\n",
              "    </tr>\n",
              "    <tr>\n",
              "      <th>5530</th>\n",
              "      <td>12926</td>\n",
              "      <td>01-04-18</td>\n",
              "      <td>7.133333</td>\n",
              "      <td>Awendo</td>\n",
              "      <td>Bus</td>\n",
              "      <td>49</td>\n",
              "      <td>20</td>\n",
              "      <td>2018-01-04 07:08:00</td>\n",
              "      <td>3</td>\n",
              "      <td>4</td>\n",
              "      <td>...</td>\n",
              "      <td>am</td>\n",
              "      <td>8.494743</td>\n",
              "      <td>3.526361</td>\n",
              "      <td>-0.066667</td>\n",
              "      <td>5688.000000</td>\n",
              "      <td>-0.083333</td>\n",
              "      <td>5688.066667</td>\n",
              "      <td>-0.866667</td>\n",
              "      <td>5688.083333</td>\n",
              "      <td>5688.066667</td>\n",
              "    </tr>\n",
              "    <tr>\n",
              "      <th>5533</th>\n",
              "      <td>12929</td>\n",
              "      <td>01-04-18</td>\n",
              "      <td>7.200000</td>\n",
              "      <td>Awendo</td>\n",
              "      <td>Bus</td>\n",
              "      <td>49</td>\n",
              "      <td>2</td>\n",
              "      <td>2018-01-04 07:12:00</td>\n",
              "      <td>3</td>\n",
              "      <td>4</td>\n",
              "      <td>...</td>\n",
              "      <td>am</td>\n",
              "      <td>8.494743</td>\n",
              "      <td>3.526361</td>\n",
              "      <td>-0.016667</td>\n",
              "      <td>0.066667</td>\n",
              "      <td>-0.800000</td>\n",
              "      <td>5688.066667</td>\n",
              "      <td>-215.933333</td>\n",
              "      <td>5688.083333</td>\n",
              "      <td>0.083333</td>\n",
              "    </tr>\n",
              "    <tr>\n",
              "      <th>5539</th>\n",
              "      <td>12935</td>\n",
              "      <td>01-04-18</td>\n",
              "      <td>7.216667</td>\n",
              "      <td>Awendo</td>\n",
              "      <td>Bus</td>\n",
              "      <td>49</td>\n",
              "      <td>9</td>\n",
              "      <td>2018-01-04 07:13:00</td>\n",
              "      <td>3</td>\n",
              "      <td>4</td>\n",
              "      <td>...</td>\n",
              "      <td>am</td>\n",
              "      <td>8.494743</td>\n",
              "      <td>3.526361</td>\n",
              "      <td>-0.783333</td>\n",
              "      <td>0.016667</td>\n",
              "      <td>-215.916667</td>\n",
              "      <td>0.083333</td>\n",
              "      <td>-216.033333</td>\n",
              "      <td>5688.083333</td>\n",
              "      <td>0.800000</td>\n",
              "    </tr>\n",
              "    <tr>\n",
              "      <th>5528</th>\n",
              "      <td>12924</td>\n",
              "      <td>01-04-18</td>\n",
              "      <td>8.000000</td>\n",
              "      <td>Awendo</td>\n",
              "      <td>Bus</td>\n",
              "      <td>49</td>\n",
              "      <td>15</td>\n",
              "      <td>2018-01-04 08:00:00</td>\n",
              "      <td>3</td>\n",
              "      <td>4</td>\n",
              "      <td>...</td>\n",
              "      <td>am</td>\n",
              "      <td>8.494743</td>\n",
              "      <td>3.526361</td>\n",
              "      <td>-215.133333</td>\n",
              "      <td>0.783333</td>\n",
              "      <td>-215.250000</td>\n",
              "      <td>0.800000</td>\n",
              "      <td>-239.133333</td>\n",
              "      <td>0.866667</td>\n",
              "      <td>215.916667</td>\n",
              "    </tr>\n",
              "  </tbody>\n",
              "</table>\n",
              "<p>5 rows × 28 columns</p>\n",
              "</div>\n",
              "      <button class=\"colab-df-convert\" onclick=\"convertToInteractive('df-e580a83c-5f40-42e1-88e7-fa190c5f25a1')\"\n",
              "              title=\"Convert this dataframe to an interactive table.\"\n",
              "              style=\"display:none;\">\n",
              "        \n",
              "  <svg xmlns=\"http://www.w3.org/2000/svg\" height=\"24px\"viewBox=\"0 0 24 24\"\n",
              "       width=\"24px\">\n",
              "    <path d=\"M0 0h24v24H0V0z\" fill=\"none\"/>\n",
              "    <path d=\"M18.56 5.44l.94 2.06.94-2.06 2.06-.94-2.06-.94-.94-2.06-.94 2.06-2.06.94zm-11 1L8.5 8.5l.94-2.06 2.06-.94-2.06-.94L8.5 2.5l-.94 2.06-2.06.94zm10 10l.94 2.06.94-2.06 2.06-.94-2.06-.94-.94-2.06-.94 2.06-2.06.94z\"/><path d=\"M17.41 7.96l-1.37-1.37c-.4-.4-.92-.59-1.43-.59-.52 0-1.04.2-1.43.59L10.3 9.45l-7.72 7.72c-.78.78-.78 2.05 0 2.83L4 21.41c.39.39.9.59 1.41.59.51 0 1.02-.2 1.41-.59l7.78-7.78 2.81-2.81c.8-.78.8-2.07 0-2.86zM5.41 20L4 18.59l7.72-7.72 1.47 1.35L5.41 20z\"/>\n",
              "  </svg>\n",
              "      </button>\n",
              "      \n",
              "  <style>\n",
              "    .colab-df-container {\n",
              "      display:flex;\n",
              "      flex-wrap:wrap;\n",
              "      gap: 12px;\n",
              "    }\n",
              "\n",
              "    .colab-df-convert {\n",
              "      background-color: #E8F0FE;\n",
              "      border: none;\n",
              "      border-radius: 50%;\n",
              "      cursor: pointer;\n",
              "      display: none;\n",
              "      fill: #1967D2;\n",
              "      height: 32px;\n",
              "      padding: 0 0 0 0;\n",
              "      width: 32px;\n",
              "    }\n",
              "\n",
              "    .colab-df-convert:hover {\n",
              "      background-color: #E2EBFA;\n",
              "      box-shadow: 0px 1px 2px rgba(60, 64, 67, 0.3), 0px 1px 3px 1px rgba(60, 64, 67, 0.15);\n",
              "      fill: #174EA6;\n",
              "    }\n",
              "\n",
              "    [theme=dark] .colab-df-convert {\n",
              "      background-color: #3B4455;\n",
              "      fill: #D2E3FC;\n",
              "    }\n",
              "\n",
              "    [theme=dark] .colab-df-convert:hover {\n",
              "      background-color: #434B5C;\n",
              "      box-shadow: 0px 1px 3px 1px rgba(0, 0, 0, 0.15);\n",
              "      filter: drop-shadow(0px 1px 2px rgba(0, 0, 0, 0.3));\n",
              "      fill: #FFFFFF;\n",
              "    }\n",
              "  </style>\n",
              "\n",
              "      <script>\n",
              "        const buttonEl =\n",
              "          document.querySelector('#df-e580a83c-5f40-42e1-88e7-fa190c5f25a1 button.colab-df-convert');\n",
              "        buttonEl.style.display =\n",
              "          google.colab.kernel.accessAllowed ? 'block' : 'none';\n",
              "\n",
              "        async function convertToInteractive(key) {\n",
              "          const element = document.querySelector('#df-e580a83c-5f40-42e1-88e7-fa190c5f25a1');\n",
              "          const dataTable =\n",
              "            await google.colab.kernel.invokeFunction('convertToInteractive',\n",
              "                                                     [key], {});\n",
              "          if (!dataTable) return;\n",
              "\n",
              "          const docLinkHtml = 'Like what you see? Visit the ' +\n",
              "            '<a target=\"_blank\" href=https://colab.research.google.com/notebooks/data_table.ipynb>data table notebook</a>'\n",
              "            + ' to learn more about interactive tables.';\n",
              "          element.innerHTML = '';\n",
              "          dataTable['output_type'] = 'display_data';\n",
              "          await google.colab.output.renderOutput(dataTable, element);\n",
              "          const docLink = document.createElement('div');\n",
              "          docLink.innerHTML = docLinkHtml;\n",
              "          element.appendChild(docLink);\n",
              "        }\n",
              "      </script>\n",
              "    </div>\n",
              "  </div>\n",
              "  "
            ]
          },
          "metadata": {},
          "execution_count": 54
        }
      ]
    },
    {
      "cell_type": "code",
      "metadata": {
        "id": "yIwXXWyqpVrh"
      },
      "source": [
        "from datetime import datetime\n",
        "from datetime import timedelta"
      ],
      "execution_count": 55,
      "outputs": []
    },
    {
      "cell_type": "markdown",
      "metadata": {
        "id": "Xy9Vr_KuXZP7"
      },
      "source": [
        "Now let us find the distance of each origin point from the distination point.\n",
        "I used Nirobi Map to estimate the distance from origin point to destination map.\n",
        "\n",
        "\n"
      ]
    },
    {
      "cell_type": "code",
      "metadata": {
        "id": "PV24rean4IsN"
      },
      "source": [
        "distance = {'Migori': 370 , 'Keroka': 280, 'Homa Bay':360, 'Kisii':305.1, 'Keumbu':295, 'Rongo':332,\n",
        "'Kijauri':271, 'Oyugis':330.6, 'Awendo':351, 'Sirare':392, 'Nyachenge':326, 'Kehancha': 387.7,\n",
        "'Kendu Bay':347, 'Sori':399, 'Rodi':348, 'Mbita':401, 'Ndhiwa': 371}\n",
        "data[\"travel_from_distance\"]=data.travel_from.map(distance)"
      ],
      "execution_count": 56,
      "outputs": []
    },
    {
      "cell_type": "code",
      "metadata": {
        "id": "G_uAqfXi4Pi2"
      },
      "source": [
        "\n",
        "time = {'Migori': 7*60+8 , 'Keroka': 5*60, 'Homa Bay':7*60, 'Kisii':5*60+34, 'Keumbu':5*60+20, 'Rongo':6*60+21,\n",
        "'Kijauri':60*4+50,'Oyugis':5*60+50, 'Awendo':6*60+38, 'Sirare':7*60+30, 'Nyachenge':6*60+10, 'Kehancha':7*60+10,\n",
        "'Kendu Bay':6*60+10, 'Sori':7*60+30, 'Rodi':6*60+40, 'Mbita':7*60+23, 'Ndhiwa': 7*60}\n",
        "data[\"travel_from_time\"]=data.travel_from.map(time)"
      ],
      "execution_count": 57,
      "outputs": []
    },
    {
      "cell_type": "code",
      "metadata": {
        "id": "3JQXICWH4WQ7"
      },
      "source": [
        "data[\"Speed\"]=data.travel_from_time/data.travel_from_distance"
      ],
      "execution_count": 58,
      "outputs": []
    },
    {
      "cell_type": "code",
      "metadata": {
        "colab": {
          "base_uri": "https://localhost:8080/",
          "height": 447
        },
        "id": "Bf3zINDIz_JW",
        "outputId": "bd193c5f-0567-4034-938a-1389cb3261db"
      },
      "source": [
        "plt.scatter(data['Speed'],data['number_of_ticket'])"
      ],
      "execution_count": 59,
      "outputs": [
        {
          "output_type": "execute_result",
          "data": {
            "text/plain": [
              "<matplotlib.collections.PathCollection at 0x7fdf7f186940>"
            ]
          },
          "metadata": {},
          "execution_count": 59
        },
        {
          "output_type": "display_data",
          "data": {
            "text/plain": [
              "<Figure size 640x480 with 1 Axes>"
            ],
            "image/png": "[encoded data removed]"
          },
          "metadata": {}
        }
      ]
    },
    {
      "cell_type": "code",
      "metadata": {
        "id": "YsShrSa84gXj"
      },
      "source": [
        "\n",
        "time = {'Migori': 7*60+8 , 'Keroka': 5*60, 'Homa Bay':7*60, 'Kisii':5*60+34, 'Keumbu':5*60+20, 'Rongo':6*60+21,\n",
        "'Kijauri':60*4+50,'Oyugis':5*60+50, 'Awendo':6*60+38, 'Sirare':7*60+30, 'Nyachenge':6*60+10, 'Kehancha':7*60+10,\n",
        "'Kendu Bay':6*60+10, 'Sori':7*60+30, 'Rodi':6*60+40, 'Mbita':7*60+23, 'Ndhiwa': 7*60}\n",
        "for key in time.keys(): \n",
        "    time[key]=timedelta( minutes=time[key])\n",
        "\n",
        "#find the date of traveling from origin \n",
        "data[\"Date_of_traveling_from_origin\"]=data.travel_from.map(time)\n",
        "\n",
        "# find the date of arrival at distination\n",
        "data[\"arrival_date\"]=data.date+ data.Date_of_traveling_from_origin\n",
        "data[\"hod_arrived_date\"]=data[\"arrival_date\"].dt.hour\n",
        "data[\"minute_arrived_date\"]=data[\"arrival_date\"].dt.minute\n",
        "del data[\"Date_of_traveling_from_origin\"],data[\"arrival_date\"]\n",
        "data[\"is_rush_hour\"]=0\n",
        "data.loc[data.hod_arrived_date.between(7,17),\"is_rush_hour\"]=1"
      ],
      "execution_count": 60,
      "outputs": []
    },
    {
      "cell_type": "markdown",
      "metadata": {
        "id": "hxU8mGM4Lvs7"
      },
      "source": [
        "#  **ENCOADING CATEGORICAL FEATURES**"
      ]
    },
    {
      "cell_type": "code",
      "metadata": {
        "id": "M5vLGG5es8PG"
      },
      "source": [
        "from sklearn import preprocessing #Import LabelEncoder\n",
        "data = pd.get_dummies(data, columns=['travel_from','day_of_month','month'])\n",
        "label_enc = {'Bus':1,'shuttle':0}\n",
        "data.replace(label_enc,inplace=True)\n"
      ],
      "execution_count": 61,
      "outputs": []
    },
    {
      "cell_type": "code",
      "metadata": {
        "colab": {
          "base_uri": "https://localhost:8080/",
          "height": 473
        },
        "id": "FVZRT5lL4p_L",
        "outputId": "c4f490fb-7cd5-4848-f7fe-1b1af8ea000e"
      },
      "source": [
        "data.head()"
      ],
      "execution_count": 62,
      "outputs": [
        {
          "output_type": "execute_result",
          "data": {
            "text/plain": [
              "      ride_id travel_date  travel_time  car_type  max_capacity  \\\n",
              "502      6654    05-12-17     7.133333         1            49   \n",
              "5530    12926    01-04-18     7.133333         1            49   \n",
              "5533    12929    01-04-18     7.200000         1            49   \n",
              "5539    12935    01-04-18     7.216667         1            49   \n",
              "5528    12924    01-04-18     8.000000         1            49   \n",
              "\n",
              "      number_of_ticket                date  day_of_week  day_of_year year_woy  \\\n",
              "502                  2 2017-05-12 07:08:00            4          132   201719   \n",
              "5530                20 2018-01-04 07:08:00            3            4    20181   \n",
              "5533                 2 2018-01-04 07:12:00            3            4    20181   \n",
              "5539                 9 2018-01-04 07:13:00            3            4    20181   \n",
              "5528                15 2018-01-04 08:00:00            3            4    20181   \n",
              "\n",
              "      ...  travel_from_Rodi  travel_from_Rongo  travel_from_Sirare  \\\n",
              "502   ...                 0                  0                   0   \n",
              "5530  ...                 0                  0                   0   \n",
              "5533  ...                 0                  0                   0   \n",
              "5539  ...                 0                  0                   0   \n",
              "5528  ...                 0                  0                   0   \n",
              "\n",
              "      travel_from_Sori  day_of_month_1 day_of_month_2  day_of_month_3  \\\n",
              "502                  0               1              0               0   \n",
              "5530                 0               1              0               0   \n",
              "5533                 0               1              0               0   \n",
              "5539                 0               1              0               0   \n",
              "5528                 0               1              0               0   \n",
              "\n",
              "      month_1  month_2  month_3  \n",
              "502         0        0        1  \n",
              "5530        1        0        0  \n",
              "5533        1        0        0  \n",
              "5539        1        0        0  \n",
              "5528        1        0        0  \n",
              "\n",
              "[5 rows x 52 columns]"
            ],
            "text/html": [
              "\n",
              "  <div id=\"df-35e1d156-17e3-4dab-8d96-a4cba728ae2a\">\n",
              "    <div class=\"colab-df-container\">\n",
              "      <div>\n",
              "<style scoped>\n",
              "    .dataframe tbody tr th:only-of-type {\n",
              "        vertical-align: middle;\n",
              "    }\n",
              "\n",
              "    .dataframe tbody tr th {\n",
              "        vertical-align: top;\n",
              "    }\n",
              "\n",
              "    .dataframe thead th {\n",
              "        text-align: right;\n",
              "    }\n",
              "</style>\n",
              "<table border=\"1\" class=\"dataframe\">\n",
              "  <thead>\n",
              "    <tr style=\"text-align: right;\">\n",
              "      <th></th>\n",
              "      <th>ride_id</th>\n",
              "      <th>travel_date</th>\n",
              "      <th>travel_time</th>\n",
              "      <th>car_type</th>\n",
              "      <th>max_capacity</th>\n",
              "      <th>number_of_ticket</th>\n",
              "      <th>date</th>\n",
              "      <th>day_of_week</th>\n",
              "      <th>day_of_year</th>\n",
              "      <th>year_woy</th>\n",
              "      <th>...</th>\n",
              "      <th>travel_from_Rodi</th>\n",
              "      <th>travel_from_Rongo</th>\n",
              "      <th>travel_from_Sirare</th>\n",
              "      <th>travel_from_Sori</th>\n",
              "      <th>day_of_month_1</th>\n",
              "      <th>day_of_month_2</th>\n",
              "      <th>day_of_month_3</th>\n",
              "      <th>month_1</th>\n",
              "      <th>month_2</th>\n",
              "      <th>month_3</th>\n",
              "    </tr>\n",
              "  </thead>\n",
              "  <tbody>\n",
              "    <tr>\n",
              "      <th>502</th>\n",
              "      <td>6654</td>\n",
              "      <td>05-12-17</td>\n",
              "      <td>7.133333</td>\n",
              "      <td>1</td>\n",
              "      <td>49</td>\n",
              "      <td>2</td>\n",
              "      <td>2017-05-12 07:08:00</td>\n",
              "      <td>4</td>\n",
              "      <td>132</td>\n",
              "      <td>201719</td>\n",
              "      <td>...</td>\n",
              "      <td>0</td>\n",
              "      <td>0</td>\n",
              "      <td>0</td>\n",
              "      <td>0</td>\n",
              "      <td>1</td>\n",
              "      <td>0</td>\n",
              "      <td>0</td>\n",
              "      <td>0</td>\n",
              "      <td>0</td>\n",
              "      <td>1</td>\n",
              "    </tr>\n",
              "    <tr>\n",
              "      <th>5530</th>\n",
              "      <td>12926</td>\n",
              "      <td>01-04-18</td>\n",
              "      <td>7.133333</td>\n",
              "      <td>1</td>\n",
              "      <td>49</td>\n",
              "      <td>20</td>\n",
              "      <td>2018-01-04 07:08:00</td>\n",
              "      <td>3</td>\n",
              "      <td>4</td>\n",
              "      <td>20181</td>\n",
              "      <td>...</td>\n",
              "      <td>0</td>\n",
              "      <td>0</td>\n",
              "      <td>0</td>\n",
              "      <td>0</td>\n",
              "      <td>1</td>\n",
              "      <td>0</td>\n",
              "      <td>0</td>\n",
              "      <td>1</td>\n",
              "      <td>0</td>\n",
              "      <td>0</td>\n",
              "    </tr>\n",
              "    <tr>\n",
              "      <th>5533</th>\n",
              "      <td>12929</td>\n",
              "      <td>01-04-18</td>\n",
              "      <td>7.200000</td>\n",
              "      <td>1</td>\n",
              "      <td>49</td>\n",
              "      <td>2</td>\n",
              "      <td>2018-01-04 07:12:00</td>\n",
              "      <td>3</td>\n",
              "      <td>4</td>\n",
              "      <td>20181</td>\n",
              "      <td>...</td>\n",
              "      <td>0</td>\n",
              "      <td>0</td>\n",
              "      <td>0</td>\n",
              "      <td>0</td>\n",
              "      <td>1</td>\n",
              "      <td>0</td>\n",
              "      <td>0</td>\n",
              "      <td>1</td>\n",
              "      <td>0</td>\n",
              "      <td>0</td>\n",
              "    </tr>\n",
              "    <tr>\n",
              "      <th>5539</th>\n",
              "      <td>12935</td>\n",
              "      <td>01-04-18</td>\n",
              "      <td>7.216667</td>\n",
              "      <td>1</td>\n",
              "      <td>49</td>\n",
              "      <td>9</td>\n",
              "      <td>2018-01-04 07:13:00</td>\n",
              "      <td>3</td>\n",
              "      <td>4</td>\n",
              "      <td>20181</td>\n",
              "      <td>...</td>\n",
              "      <td>0</td>\n",
              "      <td>0</td>\n",
              "      <td>0</td>\n",
              "      <td>0</td>\n",
              "      <td>1</td>\n",
              "      <td>0</td>\n",
              "      <td>0</td>\n",
              "      <td>1</td>\n",
              "      <td>0</td>\n",
              "      <td>0</td>\n",
              "    </tr>\n",
              "    <tr>\n",
              "      <th>5528</th>\n",
              "      <td>12924</td>\n",
              "      <td>01-04-18</td>\n",
              "      <td>8.000000</td>\n",
              "      <td>1</td>\n",
              "      <td>49</td>\n",
              "      <td>15</td>\n",
              "      <td>2018-01-04 08:00:00</td>\n",
              "      <td>3</td>\n",
              "      <td>4</td>\n",
              "      <td>20181</td>\n",
              "      <td>...</td>\n",
              "      <td>0</td>\n",
              "      <td>0</td>\n",
              "      <td>0</td>\n",
              "      <td>0</td>\n",
              "      <td>1</td>\n",
              "      <td>0</td>\n",
              "      <td>0</td>\n",
              "      <td>1</td>\n",
              "      <td>0</td>\n",
              "      <td>0</td>\n",
              "    </tr>\n",
              "  </tbody>\n",
              "</table>\n",
              "<p>5 rows × 52 columns</p>\n",
              "</div>\n",
              "      <button class=\"colab-df-convert\" onclick=\"convertToInteractive('df-35e1d156-17e3-4dab-8d96-a4cba728ae2a')\"\n",
              "              title=\"Convert this dataframe to an interactive table.\"\n",
              "              style=\"display:none;\">\n",
              "        \n",
              "  <svg xmlns=\"http://www.w3.org/2000/svg\" height=\"24px\"viewBox=\"0 0 24 24\"\n",
              "       width=\"24px\">\n",
              "    <path d=\"M0 0h24v24H0V0z\" fill=\"none\"/>\n",
              "    <path d=\"M18.56 5.44l.94 2.06.94-2.06 2.06-.94-2.06-.94-.94-2.06-.94 2.06-2.06.94zm-11 1L8.5 8.5l.94-2.06 2.06-.94-2.06-.94L8.5 2.5l-.94 2.06-2.06.94zm10 10l.94 2.06.94-2.06 2.06-.94-2.06-.94-.94-2.06-.94 2.06-2.06.94z\"/><path d=\"M17.41 7.96l-1.37-1.37c-.4-.4-.92-.59-1.43-.59-.52 0-1.04.2-1.43.59L10.3 9.45l-7.72 7.72c-.78.78-.78 2.05 0 2.83L4 21.41c.39.39.9.59 1.41.59.51 0 1.02-.2 1.41-.59l7.78-7.78 2.81-2.81c.8-.78.8-2.07 0-2.86zM5.41 20L4 18.59l7.72-7.72 1.47 1.35L5.41 20z\"/>\n",
              "  </svg>\n",
              "      </button>\n",
              "      \n",
              "  <style>\n",
              "    .colab-df-container {\n",
              "      display:flex;\n",
              "      flex-wrap:wrap;\n",
              "      gap: 12px;\n",
              "    }\n",
              "\n",
              "    .colab-df-convert {\n",
              "      background-color: #E8F0FE;\n",
              "      border: none;\n",
              "      border-radius: 50%;\n",
              "      cursor: pointer;\n",
              "      display: none;\n",
              "      fill: #1967D2;\n",
              "      height: 32px;\n",
              "      padding: 0 0 0 0;\n",
              "      width: 32px;\n",
              "    }\n",
              "\n",
              "    .colab-df-convert:hover {\n",
              "      background-color: #E2EBFA;\n",
              "      box-shadow: 0px 1px 2px rgba(60, 64, 67, 0.3), 0px 1px 3px 1px rgba(60, 64, 67, 0.15);\n",
              "      fill: #174EA6;\n",
              "    }\n",
              "\n",
              "    [theme=dark] .colab-df-convert {\n",
              "      background-color: #3B4455;\n",
              "      fill: #D2E3FC;\n",
              "    }\n",
              "\n",
              "    [theme=dark] .colab-df-convert:hover {\n",
              "      background-color: #434B5C;\n",
              "      box-shadow: 0px 1px 3px 1px rgba(0, 0, 0, 0.15);\n",
              "      filter: drop-shadow(0px 1px 2px rgba(0, 0, 0, 0.3));\n",
              "      fill: #FFFFFF;\n",
              "    }\n",
              "  </style>\n",
              "\n",
              "      <script>\n",
              "        const buttonEl =\n",
              "          document.querySelector('#df-35e1d156-17e3-4dab-8d96-a4cba728ae2a button.colab-df-convert');\n",
              "        buttonEl.style.display =\n",
              "          google.colab.kernel.accessAllowed ? 'block' : 'none';\n",
              "\n",
              "        async function convertToInteractive(key) {\n",
              "          const element = document.querySelector('#df-35e1d156-17e3-4dab-8d96-a4cba728ae2a');\n",
              "          const dataTable =\n",
              "            await google.colab.kernel.invokeFunction('convertToInteractive',\n",
              "                                                     [key], {});\n",
              "          if (!dataTable) return;\n",
              "\n",
              "          const docLinkHtml = 'Like what you see? Visit the ' +\n",
              "            '<a target=\"_blank\" href=https://colab.research.google.com/notebooks/data_table.ipynb>data table notebook</a>'\n",
              "            + ' to learn more about interactive tables.';\n",
              "          element.innerHTML = '';\n",
              "          dataTable['output_type'] = 'display_data';\n",
              "          await google.colab.output.renderOutput(dataTable, element);\n",
              "          const docLink = document.createElement('div');\n",
              "          docLink.innerHTML = docLinkHtml;\n",
              "          element.appendChild(docLink);\n",
              "        }\n",
              "      </script>\n",
              "    </div>\n",
              "  </div>\n",
              "  "
            ]
          },
          "metadata": {},
          "execution_count": 62
        }
      ]
    },
    {
      "cell_type": "markdown",
      "metadata": {
        "id": "AsC8FbtDHPY7"
      },
      "source": [
        "### .."
      ]
    },
    {
      "cell_type": "markdown",
      "metadata": {
        "id": "E1_oLMPdMuo8"
      },
      "source": [
        "**Training the models**"
      ]
    },
    {
      "cell_type": "code",
      "metadata": {
        "id": "SswJh_Wge16b"
      },
      "source": [
        "\n",
        "keys= [\"ride_id\"]\n",
        "Target_name=\"number_of_ticket\"\n",
        "not_used_cols=[\"ride_id\",\"travel_time\" ,\"travel_date\",\"date\",'year_woy','max_capacity','number_of_ticket',\n",
        "               'period'\n",
        "]\n"
      ],
      "execution_count": 63,
      "outputs": []
    },
    {
      "cell_type": "code",
      "metadata": {
        "id": "o4Za_QbYrxN7"
      },
      "source": [
        "features = data.drop(not_used_cols,axis=1).columns"
      ],
      "execution_count": 64,
      "outputs": []
    },
    {
      "cell_type": "code",
      "metadata": {
        "colab": {
          "base_uri": "https://localhost:8080/"
        },
        "id": "0tuic7Cs8zXb",
        "outputId": "32787a06-595a-4545-c93a-9266cfd6bf1c"
      },
      "source": [
        "features"
      ],
      "execution_count": 65,
      "outputs": [
        {
          "output_type": "execute_result",
          "data": {
            "text/plain": [
              "Index(['car_type', 'day_of_week', 'day_of_year', 'hour', 'minute',\n",
              "       'is_weekend', 'year', 'quarter', 'hourly_travelers', 'daily_travelers',\n",
              "       'Time_gap_btw_0_1_next_bus', 'Time_gap_btw_0_1_previous_bus',\n",
              "       'Time_gap_btw_0_2_next_bus', 'Time_gap_btw_0_2_previous_bus',\n",
              "       'Time_gap_btw_0_3_next_bus', 'Time_gap_btw_0_3_previous_bus',\n",
              "       'Time_gap_btw_next_previous_bus', 'travel_from_distance',\n",
              "       'travel_from_time', 'Speed', 'hod_arrived_date', 'minute_arrived_date',\n",
              "       'is_rush_hour', 'travel_from_Awendo', 'travel_from_Homa Bay',\n",
              "       'travel_from_Kehancha', 'travel_from_Keroka', 'travel_from_Keumbu',\n",
              "       'travel_from_Kijauri', 'travel_from_Kisii', 'travel_from_Mbita',\n",
              "       'travel_from_Migori', 'travel_from_Ndhiwa', 'travel_from_Nyachenge',\n",
              "       'travel_from_Rodi', 'travel_from_Rongo', 'travel_from_Sirare',\n",
              "       'travel_from_Sori', 'day_of_month_1', 'day_of_month_2',\n",
              "       'day_of_month_3', 'month_1', 'month_2', 'month_3'],\n",
              "      dtype='object')"
            ]
          },
          "metadata": {},
          "execution_count": 65
        }
      ]
    },
    {
      "cell_type": "code",
      "metadata": {
        "id": "Fdi3G8SsDhLs"
      },
      "source": [
        "from sklearn.model_selection import train_test_split\n",
        "from sklearn.feature_selection import VarianceThreshold\n",
        "from sklearn.model_selection import cross_val_score\n",
        "from sklearn.model_selection import RepeatedKFold\n",
        "from sklearn.ensemble import GradientBoostingRegressor\n",
        "from sklearn.metrics import mean_absolute_error, mean_squared_error,r2_score"
      ],
      "execution_count": 66,
      "outputs": []
    },
    {
      "cell_type": "code",
      "metadata": {
        "id": "KY0DPMBwBvoj",
        "colab": {
          "base_uri": "https://localhost:8080/",
          "height": 300
        },
        "outputId": "6065e76d-db38-47d8-dab4-573365a20dbb"
      },
      "source": [
        "data[features].head()"
      ],
      "execution_count": 67,
      "outputs": [
        {
          "output_type": "execute_result",
          "data": {
            "text/plain": [
              "      car_type  day_of_week  day_of_year  hour  minute  is_weekend  year  \\\n",
              "502          1            4          132     7       8           0  2017   \n",
              "5530         1            3            4     7       8           0  2018   \n",
              "5533         1            3            4     7      12           0  2018   \n",
              "5539         1            3            4     7      13           0  2018   \n",
              "5528         1            3            4     8       0           0  2018   \n",
              "\n",
              "      quarter  hourly_travelers  daily_travelers  ...  travel_from_Rodi  \\\n",
              "502         2          8.494743         4.025352  ...                 0   \n",
              "5530        1          8.494743         3.526361  ...                 0   \n",
              "5533        1          8.494743         3.526361  ...                 0   \n",
              "5539        1          8.494743         3.526361  ...                 0   \n",
              "5528        1          8.494743         3.526361  ...                 0   \n",
              "\n",
              "      travel_from_Rongo  travel_from_Sirare  travel_from_Sori  day_of_month_1  \\\n",
              "502                   0                   0                 0               1   \n",
              "5530                  0                   0                 0               1   \n",
              "5533                  0                   0                 0               1   \n",
              "5539                  0                   0                 0               1   \n",
              "5528                  0                   0                 0               1   \n",
              "\n",
              "      day_of_month_2  day_of_month_3  month_1  month_2  month_3  \n",
              "502                0               0        0        0        1  \n",
              "5530               0               0        1        0        0  \n",
              "5533               0               0        1        0        0  \n",
              "5539               0               0        1        0        0  \n",
              "5528               0               0        1        0        0  \n",
              "\n",
              "[5 rows x 44 columns]"
            ],
            "text/html": [
              "\n",
              "  <div id=\"df-022226e6-2d49-4aed-97a6-37aa967238a7\">\n",
              "    <div class=\"colab-df-container\">\n",
              "      <div>\n",
              "<style scoped>\n",
              "    .dataframe tbody tr th:only-of-type {\n",
              "        vertical-align: middle;\n",
              "    }\n",
              "\n",
              "    .dataframe tbody tr th {\n",
              "        vertical-align: top;\n",
              "    }\n",
              "\n",
              "    .dataframe thead th {\n",
              "        text-align: right;\n",
              "    }\n",
              "</style>\n",
              "<table border=\"1\" class=\"dataframe\">\n",
              "  <thead>\n",
              "    <tr style=\"text-align: right;\">\n",
              "      <th></th>\n",
              "      <th>car_type</th>\n",
              "      <th>day_of_week</th>\n",
              "      <th>day_of_year</th>\n",
              "      <th>hour</th>\n",
              "      <th>minute</th>\n",
              "      <th>is_weekend</th>\n",
              "      <th>year</th>\n",
              "      <th>quarter</th>\n",
              "      <th>hourly_travelers</th>\n",
              "      <th>daily_travelers</th>\n",
              "      <th>...</th>\n",
              "      <th>travel_from_Rodi</th>\n",
              "      <th>travel_from_Rongo</th>\n",
              "      <th>travel_from_Sirare</th>\n",
              "      <th>travel_from_Sori</th>\n",
              "      <th>day_of_month_1</th>\n",
              "      <th>day_of_month_2</th>\n",
              "      <th>day_of_month_3</th>\n",
              "      <th>month_1</th>\n",
              "      <th>month_2</th>\n",
              "      <th>month_3</th>\n",
              "    </tr>\n",
              "  </thead>\n",
              "  <tbody>\n",
              "    <tr>\n",
              "      <th>502</th>\n",
              "      <td>1</td>\n",
              "      <td>4</td>\n",
              "      <td>132</td>\n",
              "      <td>7</td>\n",
              "      <td>8</td>\n",
              "      <td>0</td>\n",
              "      <td>2017</td>\n",
              "      <td>2</td>\n",
              "      <td>8.494743</td>\n",
              "      <td>4.025352</td>\n",
              "      <td>...</td>\n",
              "      <td>0</td>\n",
              "      <td>0</td>\n",
              "      <td>0</td>\n",
              "      <td>0</td>\n",
              "      <td>1</td>\n",
              "      <td>0</td>\n",
              "      <td>0</td>\n",
              "      <td>0</td>\n",
              "      <td>0</td>\n",
              "      <td>1</td>\n",
              "    </tr>\n",
              "    <tr>\n",
              "      <th>5530</th>\n",
              "      <td>1</td>\n",
              "      <td>3</td>\n",
              "      <td>4</td>\n",
              "      <td>7</td>\n",
              "      <td>8</td>\n",
              "      <td>0</td>\n",
              "      <td>2018</td>\n",
              "      <td>1</td>\n",
              "      <td>8.494743</td>\n",
              "      <td>3.526361</td>\n",
              "      <td>...</td>\n",
              "      <td>0</td>\n",
              "      <td>0</td>\n",
              "      <td>0</td>\n",
              "      <td>0</td>\n",
              "      <td>1</td>\n",
              "      <td>0</td>\n",
              "      <td>0</td>\n",
              "      <td>1</td>\n",
              "      <td>0</td>\n",
              "      <td>0</td>\n",
              "    </tr>\n",
              "    <tr>\n",
              "      <th>5533</th>\n",
              "      <td>1</td>\n",
              "      <td>3</td>\n",
              "      <td>4</td>\n",
              "      <td>7</td>\n",
              "      <td>12</td>\n",
              "      <td>0</td>\n",
              "      <td>2018</td>\n",
              "      <td>1</td>\n",
              "      <td>8.494743</td>\n",
              "      <td>3.526361</td>\n",
              "      <td>...</td>\n",
              "      <td>0</td>\n",
              "      <td>0</td>\n",
              "      <td>0</td>\n",
              "      <td>0</td>\n",
              "      <td>1</td>\n",
              "      <td>0</td>\n",
              "      <td>0</td>\n",
              "      <td>1</td>\n",
              "      <td>0</td>\n",
              "      <td>0</td>\n",
              "    </tr>\n",
              "    <tr>\n",
              "      <th>5539</th>\n",
              "      <td>1</td>\n",
              "      <td>3</td>\n",
              "      <td>4</td>\n",
              "      <td>7</td>\n",
              "      <td>13</td>\n",
              "      <td>0</td>\n",
              "      <td>2018</td>\n",
              "      <td>1</td>\n",
              "      <td>8.494743</td>\n",
              "      <td>3.526361</td>\n",
              "      <td>...</td>\n",
              "      <td>0</td>\n",
              "      <td>0</td>\n",
              "      <td>0</td>\n",
              "      <td>0</td>\n",
              "      <td>1</td>\n",
              "      <td>0</td>\n",
              "      <td>0</td>\n",
              "      <td>1</td>\n",
              "      <td>0</td>\n",
              "      <td>0</td>\n",
              "    </tr>\n",
              "    <tr>\n",
              "      <th>5528</th>\n",
              "      <td>1</td>\n",
              "      <td>3</td>\n",
              "      <td>4</td>\n",
              "      <td>8</td>\n",
              "      <td>0</td>\n",
              "      <td>0</td>\n",
              "      <td>2018</td>\n",
              "      <td>1</td>\n",
              "      <td>8.494743</td>\n",
              "      <td>3.526361</td>\n",
              "      <td>...</td>\n",
              "      <td>0</td>\n",
              "      <td>0</td>\n",
              "      <td>0</td>\n",
              "      <td>0</td>\n",
              "      <td>1</td>\n",
              "      <td>0</td>\n",
              "      <td>0</td>\n",
              "      <td>1</td>\n",
              "      <td>0</td>\n",
              "      <td>0</td>\n",
              "    </tr>\n",
              "  </tbody>\n",
              "</table>\n",
              "<p>5 rows × 44 columns</p>\n",
              "</div>\n",
              "      <button class=\"colab-df-convert\" onclick=\"convertToInteractive('df-022226e6-2d49-4aed-97a6-37aa967238a7')\"\n",
              "              title=\"Convert this dataframe to an interactive table.\"\n",
              "              style=\"display:none;\">\n",
              "        \n",
              "  <svg xmlns=\"http://www.w3.org/2000/svg\" height=\"24px\"viewBox=\"0 0 24 24\"\n",
              "       width=\"24px\">\n",
              "    <path d=\"M0 0h24v24H0V0z\" fill=\"none\"/>\n",
              "    <path d=\"M18.56 5.44l.94 2.06.94-2.06 2.06-.94-2.06-.94-.94-2.06-.94 2.06-2.06.94zm-11 1L8.5 8.5l.94-2.06 2.06-.94-2.06-.94L8.5 2.5l-.94 2.06-2.06.94zm10 10l.94 2.06.94-2.06 2.06-.94-2.06-.94-.94-2.06-.94 2.06-2.06.94z\"/><path d=\"M17.41 7.96l-1.37-1.37c-.4-.4-.92-.59-1.43-.59-.52 0-1.04.2-1.43.59L10.3 9.45l-7.72 7.72c-.78.78-.78 2.05 0 2.83L4 21.41c.39.39.9.59 1.41.59.51 0 1.02-.2 1.41-.59l7.78-7.78 2.81-2.81c.8-.78.8-2.07 0-2.86zM5.41 20L4 18.59l7.72-7.72 1.47 1.35L5.41 20z\"/>\n",
              "  </svg>\n",
              "      </button>\n",
              "      \n",
              "  <style>\n",
              "    .colab-df-container {\n",
              "      display:flex;\n",
              "      flex-wrap:wrap;\n",
              "      gap: 12px;\n",
              "    }\n",
              "\n",
              "    .colab-df-convert {\n",
              "      background-color: #E8F0FE;\n",
              "      border: none;\n",
              "      border-radius: 50%;\n",
              "      cursor: pointer;\n",
              "      display: none;\n",
              "      fill: #1967D2;\n",
              "      height: 32px;\n",
              "      padding: 0 0 0 0;\n",
              "      width: 32px;\n",
              "    }\n",
              "\n",
              "    .colab-df-convert:hover {\n",
              "      background-color: #E2EBFA;\n",
              "      box-shadow: 0px 1px 2px rgba(60, 64, 67, 0.3), 0px 1px 3px 1px rgba(60, 64, 67, 0.15);\n",
              "      fill: #174EA6;\n",
              "    }\n",
              "\n",
              "    [theme=dark] .colab-df-convert {\n",
              "      background-color: #3B4455;\n",
              "      fill: #D2E3FC;\n",
              "    }\n",
              "\n",
              "    [theme=dark] .colab-df-convert:hover {\n",
              "      background-color: #434B5C;\n",
              "      box-shadow: 0px 1px 3px 1px rgba(0, 0, 0, 0.15);\n",
              "      filter: drop-shadow(0px 1px 2px rgba(0, 0, 0, 0.3));\n",
              "      fill: #FFFFFF;\n",
              "    }\n",
              "  </style>\n",
              "\n",
              "      <script>\n",
              "        const buttonEl =\n",
              "          document.querySelector('#df-022226e6-2d49-4aed-97a6-37aa967238a7 button.colab-df-convert');\n",
              "        buttonEl.style.display =\n",
              "          google.colab.kernel.accessAllowed ? 'block' : 'none';\n",
              "\n",
              "        async function convertToInteractive(key) {\n",
              "          const element = document.querySelector('#df-022226e6-2d49-4aed-97a6-37aa967238a7');\n",
              "          const dataTable =\n",
              "            await google.colab.kernel.invokeFunction('convertToInteractive',\n",
              "                                                     [key], {});\n",
              "          if (!dataTable) return;\n",
              "\n",
              "          const docLinkHtml = 'Like what you see? Visit the ' +\n",
              "            '<a target=\"_blank\" href=https://colab.research.google.com/notebooks/data_table.ipynb>data table notebook</a>'\n",
              "            + ' to learn more about interactive tables.';\n",
              "          element.innerHTML = '';\n",
              "          dataTable['output_type'] = 'display_data';\n",
              "          await google.colab.output.renderOutput(dataTable, element);\n",
              "          const docLink = document.createElement('div');\n",
              "          docLink.innerHTML = docLinkHtml;\n",
              "          element.appendChild(docLink);\n",
              "        }\n",
              "      </script>\n",
              "    </div>\n",
              "  </div>\n",
              "  "
            ]
          },
          "metadata": {},
          "execution_count": 67
        }
      ]
    },
    {
      "cell_type": "markdown",
      "metadata": {
        "id": "WIJbgFXfZAgr"
      },
      "source": [
        "### **Linear Regression**"
      ]
    },
    {
      "cell_type": "code",
      "metadata": {
        "id": "PIEGAR00CR5z"
      },
      "source": [
        "import math"
      ],
      "execution_count": 68,
      "outputs": []
    },
    {
      "cell_type": "code",
      "metadata": {
        "id": "sH55bt2LBxBd"
      },
      "source": [
        "def print_metrics(actual, predicted):\n",
        "  print('MSE is {}'.format(mean_squared_error(actual, predicted)))\n",
        "  print('RMSE is {}'.format(math.sqrt(mean_squared_error(actual, predicted))))\n",
        "  print('RMSE is {}'.format(r2_score(actual, predicted)))\n",
        "  print('MAE is {}'.format(mean_absolute_error(actual, predicted)))\n",
        "  print('MAPE is {}'.format(np.mean(np.abs((actual - predicted) / actual)) * 100))"
      ],
      "execution_count": 69,
      "outputs": []
    },
    {
      "cell_type": "code",
      "metadata": {
        "colab": {
          "base_uri": "https://localhost:8080/"
        },
        "id": "2gJqLxTWXndM",
        "outputId": "a95d0370-d163-4f1f-c24f-4ba32fcc05f2"
      },
      "source": [
        "from matplotlib.cm import register_cmap\n",
        "used_cols = ['day_of_year']\n",
        "prev_adjR2 = -0.01177282976168792\n",
        "for col in features:\n",
        "  used_cols.append(col)\n",
        "  dataset_pr = data[used_cols]\n",
        "  X= dataset_pr.copy()\n",
        "  y = data['number_of_ticket']\n",
        "  X_train, X_test, y_train, y_test = train_test_split(X,y,test_size=0.33, random_state=42)\n",
        "  reg = GradientBoostingRegressor(random_state=0)\n",
        "  reg.fit(X_train, y_train)\n",
        "  # Predicting \n",
        "  y_pred = reg.predict(X_test)\n",
        "  #Find R-squared value\n",
        "  r2 = r2_score(y_test, y_pred)\n",
        "  # Find Adjusted R-squared value\n",
        "  adj_r2=1-(1-r2_score(y_test, y_pred))*((X_test.shape[0]-1)/(X_test.shape[0]-X_test.shape[1]-1))\n",
        "  if prev_adjR2<adj_r2:\n",
        "    prev_adjR2 = adj_r2\n",
        "    train_score = reg.score(X_train, y_train)\n",
        "    test_score = reg.score(X_test,y_test)\n",
        "    y_train_pred = reg.predict(X_train)\n",
        "    y_test_pred = reg.predict(X_test)\n",
        "  else:\n",
        "    used_cols.pop()\n",
        "\n",
        "print(f'Adjust_r2: {prev_adjR2}')\n",
        "print(f'Train score: {train_score}')\n",
        "print(f'Test score: {test_score}')\n",
        "print(r2)\n",
        "print('Important features are: \\n')\n",
        "used_cols"
      ],
      "execution_count": 73,
      "outputs": [
        {
          "output_type": "stream",
          "name": "stdout",
          "text": [
            "Adjust_r2: 0.604672199182078\n",
            "Train score: 0.6763311371872496\n",
            "Test score: 0.6085084709027759\n",
            "0.6083833398036512\n",
            "Important features are: \n",
            "\n"
          ]
        },
        {
          "output_type": "execute_result",
          "data": {
            "text/plain": [
              "['day_of_year',\n",
              " 'car_type',\n",
              " 'day_of_week',\n",
              " 'hour',\n",
              " 'minute',\n",
              " 'hourly_travelers',\n",
              " 'daily_travelers',\n",
              " 'Time_gap_btw_0_1_next_bus',\n",
              " 'Time_gap_btw_0_1_previous_bus',\n",
              " 'Time_gap_btw_0_2_next_bus',\n",
              " 'Time_gap_btw_0_2_previous_bus',\n",
              " 'Time_gap_btw_0_3_previous_bus',\n",
              " 'Time_gap_btw_next_previous_bus',\n",
              " 'travel_from_distance',\n",
              " 'minute_arrived_date',\n",
              " 'travel_from_Awendo',\n",
              " 'travel_from_Keroka',\n",
              " 'travel_from_Kisii',\n",
              " 'travel_from_Migori',\n",
              " 'travel_from_Sirare']"
            ]
          },
          "metadata": {},
          "execution_count": 73
        }
      ]
    },
    {
      "cell_type": "code",
      "metadata": {
        "id": "ttNzpyVA3xSr",
        "colab": {
          "base_uri": "https://localhost:8080/"
        },
        "outputId": "20e8b64c-aaee-4f37-942e-73a34ae0b7f9"
      },
      "source": [
        "\n",
        "# Test dataset metrics\n",
        "print_metrics(y_test, y_test_pred)"
      ],
      "execution_count": 74,
      "outputs": [
        {
          "output_type": "stream",
          "name": "stdout",
          "text": [
            "MSE is 29.38106099333998\n",
            "RMSE is 5.420429963881093\n",
            "RMSE is 0.6085084709027759\n",
            "MAE is 3.5375538940430684\n",
            "MAPE is 113.15078474356595\n"
          ]
        }
      ]
    },
    {
      "cell_type": "markdown",
      "metadata": {
        "id": "MUFhjpoYZVu6"
      },
      "source": [
        "### **Implementing Lasso Regression**"
      ]
    },
    {
      "cell_type": "code",
      "metadata": {
        "id": "-NtCVu4NZlkw"
      },
      "source": [
        "from sklearn.linear_model import Lasso\n"
      ],
      "execution_count": 75,
      "outputs": []
    },
    {
      "cell_type": "code",
      "metadata": {
        "colab": {
          "base_uri": "https://localhost:8080/"
        },
        "id": "4tOA2iLlZqVG",
        "outputId": "920363b7-83db-4e0d-e401-00c0ccd88db8"
      },
      "source": [
        "X= data[used_cols].copy()\n",
        "y = data['number_of_ticket']\n",
        "X_train, X_test, y_train, y_test = train_test_split(X,y,test_size=0.33, random_state=42)\n",
        "alphas = [0.01,0.025,0.5,0.75,1]\n",
        "for alpha in alphas:\n",
        "  lasso  = Lasso(alpha=alpha , max_iter= 3000)\n",
        "  lasso.fit(X_train, y_train)\n",
        "  print('alpha: ',alpha)\n",
        "  print('test Score: ',lasso.score(X_test, y_test))\n",
        "  print('train Score: ',lasso.score(X_train, y_train))\n",
        "\n"
      ],
      "execution_count": 76,
      "outputs": [
        {
          "output_type": "stream",
          "name": "stdout",
          "text": [
            "alpha:  0.01\n",
            "test Score:  0.2935994623494267\n",
            "train Score:  0.34360694455375573\n",
            "alpha:  0.025\n",
            "test Score:  0.2946463064898437\n",
            "train Score:  0.3421237977210084\n",
            "alpha:  0.5\n",
            "test Score:  0.2562849746463013\n",
            "train Score:  0.2703666423155101\n",
            "alpha:  0.75\n",
            "test Score:  0.25623215037411073\n",
            "train Score:  0.2697859220828165\n",
            "alpha:  1\n",
            "test Score:  0.2559422081874998\n",
            "train Score:  0.2689728900407903\n"
          ]
        }
      ]
    },
    {
      "cell_type": "markdown",
      "metadata": {
        "id": "AbzgnjoqbUPD"
      },
      "source": [
        "We see that at alpha = 0.01 it give best out of those \n"
      ]
    },
    {
      "cell_type": "code",
      "metadata": {
        "colab": {
          "base_uri": "https://localhost:8080/",
          "height": 75
        },
        "id": "wU-OZhvDbTTW",
        "outputId": "15bcb91d-06d6-4bf0-c267-5e2a1ebd2196"
      },
      "source": [
        "  lasso  = Lasso(alpha=0.01 , max_iter= 3000)\n",
        "  lasso.fit(X_train, y_train)"
      ],
      "execution_count": 77,
      "outputs": [
        {
          "output_type": "execute_result",
          "data": {
            "text/plain": [
              "Lasso(alpha=0.01, max_iter=3000)"
            ],
            "text/html": [
              "<style>#sk-container-id-1 {color: black;background-color: white;}#sk-container-id-1 pre{padding: 0;}#sk-container-id-1 div.sk-toggleable {background-color: white;}#sk-container-id-1 label.sk-toggleable__label {cursor: pointer;display: block;width: 100%;margin-bottom: 0;padding: 0.3em;box-sizing: border-box;text-align: center;}#sk-container-id-1 label.sk-toggleable__label-arrow:before {content: \"▸\";float: left;margin-right: 0.25em;color: #696969;}#sk-container-id-1 label.sk-toggleable__label-arrow:hover:before {color: black;}#sk-container-id-1 div.sk-estimator:hover label.sk-toggleable__label-arrow:before {color: black;}#sk-container-id-1 div.sk-toggleable__content {max-height: 0;max-width: 0;overflow: hidden;text-align: left;background-color: #f0f8ff;}#sk-container-id-1 div.sk-toggleable__content pre {margin: 0.2em;color: black;border-radius: 0.25em;background-color: #f0f8ff;}#sk-container-id-1 input.sk-toggleable__control:checked~div.sk-toggleable__content {max-height: 200px;max-width: 100%;overflow: auto;}#sk-container-id-1 input.sk-toggleable__control:checked~label.sk-toggleable__label-arrow:before {content: \"▾\";}#sk-container-id-1 div.sk-estimator input.sk-toggleable__control:checked~label.sk-toggleable__label {background-color: #d4ebff;}#sk-container-id-1 div.sk-label input.sk-toggleable__control:checked~label.sk-toggleable__label {background-color: #d4ebff;}#sk-container-id-1 input.sk-hidden--visually {border: 0;clip: rect(1px 1px 1px 1px);clip: rect(1px, 1px, 1px, 1px);height: 1px;margin: -1px;overflow: hidden;padding: 0;position: absolute;width: 1px;}#sk-container-id-1 div.sk-estimator {font-family: monospace;background-color: #f0f8ff;border: 1px dotted black;border-radius: 0.25em;box-sizing: border-box;margin-bottom: 0.5em;}#sk-container-id-1 div.sk-estimator:hover {background-color: #d4ebff;}#sk-container-id-1 div.sk-parallel-item::after {content: \"\";width: 100%;border-bottom: 1px solid gray;flex-grow: 1;}#sk-container-id-1 div.sk-label:hover label.sk-toggleable__label {background-color: #d4ebff;}#sk-container-id-1 div.sk-serial::before {content: \"\";position: absolute;border-left: 1px solid gray;box-sizing: border-box;top: 0;bottom: 0;left: 50%;z-index: 0;}#sk-container-id-1 div.sk-serial {display: flex;flex-direction: column;align-items: center;background-color: white;padding-right: 0.2em;padding-left: 0.2em;position: relative;}#sk-container-id-1 div.sk-item {position: relative;z-index: 1;}#sk-container-id-1 div.sk-parallel {display: flex;align-items: stretch;justify-content: center;background-color: white;position: relative;}#sk-container-id-1 div.sk-item::before, #sk-container-id-1 div.sk-parallel-item::before {content: \"\";position: absolute;border-left: 1px solid gray;box-sizing: border-box;top: 0;bottom: 0;left: 50%;z-index: -1;}#sk-container-id-1 div.sk-parallel-item {display: flex;flex-direction: column;z-index: 1;position: relative;background-color: white;}#sk-container-id-1 div.sk-parallel-item:first-child::after {align-self: flex-end;width: 50%;}#sk-container-id-1 div.sk-parallel-item:last-child::after {align-self: flex-start;width: 50%;}#sk-container-id-1 div.sk-parallel-item:only-child::after {width: 0;}#sk-container-id-1 div.sk-dashed-wrapped {border: 1px dashed gray;margin: 0 0.4em 0.5em 0.4em;box-sizing: border-box;padding-bottom: 0.4em;background-color: white;}#sk-container-id-1 div.sk-label label {font-family: monospace;font-weight: bold;display: inline-block;line-height: 1.2em;}#sk-container-id-1 div.sk-label-container {text-align: center;}#sk-container-id-1 div.sk-container {/* jupyter's `normalize.less` sets `[hidden] { display: none; }` but bootstrap.min.css set `[hidden] { display: none !important; }` so we also need the `!important` here to be able to override the default hidden behavior on the sphinx rendered scikit-learn.org. See: https://github.com/scikit-learn/scikit-learn/issues/21755 */display: inline-block !important;position: relative;}#sk-container-id-1 div.sk-text-repr-fallback {display: none;}</style><div id=\"sk-container-id-1\" class=\"sk-top-container\"><div class=\"sk-text-repr-fallback\"><pre>Lasso(alpha=0.01, max_iter=3000)</pre><b>In a Jupyter environment, please rerun this cell to show the HTML representation or trust the notebook. <br />On GitHub, the HTML representation is unable to render, please try loading this page with nbviewer.org.</b></div><div class=\"sk-container\" hidden><div class=\"sk-item\"><div class=\"sk-estimator sk-toggleable\"><input class=\"sk-toggleable__control sk-hidden--visually\" id=\"sk-estimator-id-1\" type=\"checkbox\" checked><label for=\"sk-estimator-id-1\" class=\"sk-toggleable__label sk-toggleable__label-arrow\">Lasso</label><div class=\"sk-toggleable__content\"><pre>Lasso(alpha=0.01, max_iter=3000)</pre></div></div></div></div></div>"
            ]
          },
          "metadata": {},
          "execution_count": 77
        }
      ]
    },
    {
      "cell_type": "code",
      "metadata": {
        "colab": {
          "base_uri": "https://localhost:8080/"
        },
        "id": "seI4Lzlub3sn",
        "outputId": "faa7ae04-c51a-4d72-d8ce-e19b4f0895bf"
      },
      "source": [
        "y_test_pred = lasso.predict(X_test)\n",
        "\n",
        "\n",
        "print('MSE is {}'.format(mean_squared_error(y_test, y_test_pred)))\n",
        "print('RMSE is {}'.format(math.sqrt(mean_squared_error(y_test, y_test_pred))))\n",
        "print('MAE is {}'.format(mean_absolute_error(y_test, y_test_pred)))"
      ],
      "execution_count": 78,
      "outputs": [
        {
          "output_type": "stream",
          "name": "stdout",
          "text": [
            "MSE is 53.01467781512418\n",
            "RMSE is 7.281117895977525\n",
            "MAE is 5.026477953821721\n"
          ]
        }
      ]
    },
    {
      "cell_type": "code",
      "metadata": {
        "colab": {
          "base_uri": "https://localhost:8080/"
        },
        "id": "bBxwSlwrYlKy",
        "outputId": "a476fccb-fe6a-4ece-c043-3f8e1367822c"
      },
      "source": [
        "r2 = r2_score(y_test, y_test_pred)\n",
        "print(\"R2 :\" ,r2)\n",
        "print(\"Adjusted R2 : \",1-(1-r2_score(y_test,y_test_pred))*((X_test.shape[0]-1)/(X_test.shape[0]-X_test.shape[1]-1)))"
      ],
      "execution_count": 81,
      "outputs": [
        {
          "output_type": "stream",
          "name": "stdout",
          "text": [
            "R2 : 0.2935994623494267\n",
            "Adjusted R2 :  0.2866773600696563\n"
          ]
        }
      ]
    },
    {
      "cell_type": "markdown",
      "metadata": {
        "id": "l77ExBfxcyxT"
      },
      "source": [
        "### **Ridge Regression**"
      ]
    },
    {
      "cell_type": "code",
      "metadata": {
        "id": "2-JNwtGxdB1B"
      },
      "source": [
        "from sklearn.linear_model import Ridge\n",
        "from sklearn.model_selection import GridSearchCV"
      ],
      "execution_count": 82,
      "outputs": []
    },
    {
      "cell_type": "code",
      "metadata": {
        "colab": {
          "base_uri": "https://localhost:8080/",
          "height": 118
        },
        "id": "yol4Hh7ecGcr",
        "outputId": "4da5a4a1-9596-488c-97a5-2eb8c53dd8c4"
      },
      "source": [
        "# Hyperprarameter tuning\n",
        "X= data[features].copy()\n",
        "y = data['number_of_ticket']\n",
        "X_train, X_test, y_train, y_test = train_test_split(X,y,test_size=0.33, random_state=42)\n",
        "ridge = Ridge()\n",
        "parameters = {'alpha': [1e-15,1e-10,1e-8,1e-5,1e-4,1e-3,1e-2,1,5,10,20,30,40,45,50,55,60,100]}\n",
        "ridge_regressor = GridSearchCV(ridge, parameters, scoring='neg_mean_squared_error', cv=3)\n",
        "ridge_regressor.fit(X_train,y_train)"
      ],
      "execution_count": 83,
      "outputs": [
        {
          "output_type": "execute_result",
          "data": {
            "text/plain": [
              "GridSearchCV(cv=3, estimator=Ridge(),\n",
              "             param_grid={'alpha': [1e-15, 1e-10, 1e-08, 1e-05, 0.0001, 0.001,\n",
              "                                   0.01, 1, 5, 10, 20, 30, 40, 45, 50, 55, 60,\n",
              "                                   100]},\n",
              "             scoring='neg_mean_squared_error')"
            ],
            "text/html": [
              "<style>#sk-container-id-2 {color: black;background-color: white;}#sk-container-id-2 pre{padding: 0;}#sk-container-id-2 div.sk-toggleable {background-color: white;}#sk-container-id-2 label.sk-toggleable__label {cursor: pointer;display: block;width: 100%;margin-bottom: 0;padding: 0.3em;box-sizing: border-box;text-align: center;}#sk-container-id-2 label.sk-toggleable__label-arrow:before {content: \"▸\";float: left;margin-right: 0.25em;color: #696969;}#sk-container-id-2 label.sk-toggleable__label-arrow:hover:before {color: black;}#sk-container-id-2 div.sk-estimator:hover label.sk-toggleable__label-arrow:before {color: black;}#sk-container-id-2 div.sk-toggleable__content {max-height: 0;max-width: 0;overflow: hidden;text-align: left;background-color: #f0f8ff;}#sk-container-id-2 div.sk-toggleable__content pre {margin: 0.2em;color: black;border-radius: 0.25em;background-color: #f0f8ff;}#sk-container-id-2 input.sk-toggleable__control:checked~div.sk-toggleable__content {max-height: 200px;max-width: 100%;overflow: auto;}#sk-container-id-2 input.sk-toggleable__control:checked~label.sk-toggleable__label-arrow:before {content: \"▾\";}#sk-container-id-2 div.sk-estimator input.sk-toggleable__control:checked~label.sk-toggleable__label {background-color: #d4ebff;}#sk-container-id-2 div.sk-label input.sk-toggleable__control:checked~label.sk-toggleable__label {background-color: #d4ebff;}#sk-container-id-2 input.sk-hidden--visually {border: 0;clip: rect(1px 1px 1px 1px);clip: rect(1px, 1px, 1px, 1px);height: 1px;margin: -1px;overflow: hidden;padding: 0;position: absolute;width: 1px;}#sk-container-id-2 div.sk-estimator {font-family: monospace;background-color: #f0f8ff;border: 1px dotted black;border-radius: 0.25em;box-sizing: border-box;margin-bottom: 0.5em;}#sk-container-id-2 div.sk-estimator:hover {background-color: #d4ebff;}#sk-container-id-2 div.sk-parallel-item::after {content: \"\";width: 100%;border-bottom: 1px solid gray;flex-grow: 1;}#sk-container-id-2 div.sk-label:hover label.sk-toggleable__label {background-color: #d4ebff;}#sk-container-id-2 div.sk-serial::before {content: \"\";position: absolute;border-left: 1px solid gray;box-sizing: border-box;top: 0;bottom: 0;left: 50%;z-index: 0;}#sk-container-id-2 div.sk-serial {display: flex;flex-direction: column;align-items: center;background-color: white;padding-right: 0.2em;padding-left: 0.2em;position: relative;}#sk-container-id-2 div.sk-item {position: relative;z-index: 1;}#sk-container-id-2 div.sk-parallel {display: flex;align-items: stretch;justify-content: center;background-color: white;position: relative;}#sk-container-id-2 div.sk-item::before, #sk-container-id-2 div.sk-parallel-item::before {content: \"\";position: absolute;border-left: 1px solid gray;box-sizing: border-box;top: 0;bottom: 0;left: 50%;z-index: -1;}#sk-container-id-2 div.sk-parallel-item {display: flex;flex-direction: column;z-index: 1;position: relative;background-color: white;}#sk-container-id-2 div.sk-parallel-item:first-child::after {align-self: flex-end;width: 50%;}#sk-container-id-2 div.sk-parallel-item:last-child::after {align-self: flex-start;width: 50%;}#sk-container-id-2 div.sk-parallel-item:only-child::after {width: 0;}#sk-container-id-2 div.sk-dashed-wrapped {border: 1px dashed gray;margin: 0 0.4em 0.5em 0.4em;box-sizing: border-box;padding-bottom: 0.4em;background-color: white;}#sk-container-id-2 div.sk-label label {font-family: monospace;font-weight: bold;display: inline-block;line-height: 1.2em;}#sk-container-id-2 div.sk-label-container {text-align: center;}#sk-container-id-2 div.sk-container {/* jupyter's `normalize.less` sets `[hidden] { display: none; }` but bootstrap.min.css set `[hidden] { display: none !important; }` so we also need the `!important` here to be able to override the default hidden behavior on the sphinx rendered scikit-learn.org. See: https://github.com/scikit-learn/scikit-learn/issues/21755 */display: inline-block !important;position: relative;}#sk-container-id-2 div.sk-text-repr-fallback {display: none;}</style><div id=\"sk-container-id-2\" class=\"sk-top-container\"><div class=\"sk-text-repr-fallback\"><pre>GridSearchCV(cv=3, estimator=Ridge(),\n",
              "             param_grid={&#x27;alpha&#x27;: [1e-15, 1e-10, 1e-08, 1e-05, 0.0001, 0.001,\n",
              "                                   0.01, 1, 5, 10, 20, 30, 40, 45, 50, 55, 60,\n",
              "                                   100]},\n",
              "             scoring=&#x27;neg_mean_squared_error&#x27;)</pre><b>In a Jupyter environment, please rerun this cell to show the HTML representation or trust the notebook. <br />On GitHub, the HTML representation is unable to render, please try loading this page with nbviewer.org.</b></div><div class=\"sk-container\" hidden><div class=\"sk-item sk-dashed-wrapped\"><div class=\"sk-label-container\"><div class=\"sk-label sk-toggleable\"><input class=\"sk-toggleable__control sk-hidden--visually\" id=\"sk-estimator-id-2\" type=\"checkbox\" ><label for=\"sk-estimator-id-2\" class=\"sk-toggleable__label sk-toggleable__label-arrow\">GridSearchCV</label><div class=\"sk-toggleable__content\"><pre>GridSearchCV(cv=3, estimator=Ridge(),\n",
              "             param_grid={&#x27;alpha&#x27;: [1e-15, 1e-10, 1e-08, 1e-05, 0.0001, 0.001,\n",
              "                                   0.01, 1, 5, 10, 20, 30, 40, 45, 50, 55, 60,\n",
              "                                   100]},\n",
              "             scoring=&#x27;neg_mean_squared_error&#x27;)</pre></div></div></div><div class=\"sk-parallel\"><div class=\"sk-parallel-item\"><div class=\"sk-item\"><div class=\"sk-label-container\"><div class=\"sk-label sk-toggleable\"><input class=\"sk-toggleable__control sk-hidden--visually\" id=\"sk-estimator-id-3\" type=\"checkbox\" ><label for=\"sk-estimator-id-3\" class=\"sk-toggleable__label sk-toggleable__label-arrow\">estimator: Ridge</label><div class=\"sk-toggleable__content\"><pre>Ridge()</pre></div></div></div><div class=\"sk-serial\"><div class=\"sk-item\"><div class=\"sk-estimator sk-toggleable\"><input class=\"sk-toggleable__control sk-hidden--visually\" id=\"sk-estimator-id-4\" type=\"checkbox\" ><label for=\"sk-estimator-id-4\" class=\"sk-toggleable__label sk-toggleable__label-arrow\">Ridge</label><div class=\"sk-toggleable__content\"><pre>Ridge()</pre></div></div></div></div></div></div></div></div></div></div>"
            ]
          },
          "metadata": {},
          "execution_count": 83
        }
      ]
    },
    {
      "cell_type": "code",
      "metadata": {
        "colab": {
          "base_uri": "https://localhost:8080/"
        },
        "id": "PT1Q8B_udVer",
        "outputId": "37f49c23-dad3-48b5-eef3-c223684c492a"
      },
      "source": [
        "print(\"The best fit alpha value is found out to be :\" ,ridge_regressor.best_params_)\n",
        "print(\"\\nUsing \",ridge_regressor.best_params_, \" the negative mean squared error is: \", ridge_regressor.best_score_)"
      ],
      "execution_count": 84,
      "outputs": [
        {
          "output_type": "stream",
          "name": "stdout",
          "text": [
            "The best fit alpha value is found out to be : {'alpha': 1}\n",
            "\n",
            "Using  {'alpha': 1}  the negative mean squared error is:  -44.9744911386123\n"
          ]
        }
      ]
    },
    {
      "cell_type": "code",
      "metadata": {
        "colab": {
          "base_uri": "https://localhost:8080/"
        },
        "id": "NAZIjiYRdcHE",
        "outputId": "6b7ded98-8dd2-4960-a1cb-f96b65616078"
      },
      "source": [
        "#Model Prediction\n",
        "y_pred_ridge = ridge_regressor.predict(X_test)\n",
        "print(ridge_regressor.score(X_train,y_train))\n",
        "print(ridge_regressor.score(X_test,y_test))\n",
        "\n",
        "print_metrics(y_test, y_test_pred)\n",
        "\n",
        "r2 = r2_score(y_test, y_pred_ridge)\n",
        "print(\"R2 :\" ,r2)\n",
        "print(\"Adjusted R2 : \",1-(1-r2_score(y_test, y_pred_ridge))*((X_test.shape[0]-1)/(X_test.shape[0]-X_test.shape[1]-1)))"
      ],
      "execution_count": 85,
      "outputs": [
        {
          "output_type": "stream",
          "name": "stdout",
          "text": [
            "-43.020515870428724\n",
            "-48.380090631876364\n",
            "MSE is 53.01467781512418\n",
            "RMSE is 7.281117895977525\n",
            "RMSE is 0.2935994623494267\n",
            "MAE is 5.026477953821721\n",
            "MAPE is 174.90009278542436\n",
            "R2 : 0.35535358428244224\n",
            "Adjusted R2 :  0.3412908959871658\n"
          ]
        }
      ]
    },
    {
      "cell_type": "markdown",
      "metadata": {
        "id": "kjX8FqOwQDHI"
      },
      "source": [
        "### **Training Gradient Boosting Regressor**"
      ]
    },
    {
      "cell_type": "code",
      "metadata": {
        "id": "fVXf2DAepr8C",
        "colab": {
          "base_uri": "https://localhost:8080/"
        },
        "outputId": "3fca0788-b87c-429d-baf3-97c97d532c03"
      },
      "source": [
        "used_cols = ['day_of_year']\n",
        "prev_adjR2 = -0.01177282976168792\n",
        "for col in features:\n",
        "  used_cols.append(col)\n",
        "  dataset_pr = data[used_cols]\n",
        "  X= dataset_pr.copy()\n",
        "  y = data['number_of_ticket']\n",
        "  X_train, X_test, y_train, y_test = train_test_split(X,y,test_size=0.33, random_state=42)\n",
        "  reg = GradientBoostingRegressor(random_state=0)\n",
        "  reg.fit(X_train, y_train)\n",
        "  # Predicting \n",
        "  y_pred = reg.predict(X_test)\n",
        "  y_pred_train=reg.predict(X_train)\n",
        "  \n",
        "\n",
        "  # Find Adjusted R-squared value\n",
        "  adj_r2=1-(1-r2_score(y_test, y_pred))*((X_test.shape[0]-1)/(X_test.shape[0]-X_test.shape[1]-1))\n",
        "  if prev_adjR2<adj_r2:\n",
        "    prev_adjR2 = adj_r2\n",
        " #Find R-squared value\n",
        "    r2 = r2_score(y_test, y_pred)\n",
        "    r2_for_train= r2_score(y_train,y_pred_train)\n",
        "    train_score = reg.score(X_train, y_train)\n",
        "    test_score = reg.score(X_test,y_test)\n",
        "  else:\n",
        "    used_cols.pop()\n",
        "\n",
        "print(f'Adjust_r2: {prev_adjR2}')\n",
        "print(f'Train score: {train_score}')\n",
        "print(f'Test score: {test_score}')\n",
        "print(f'r2_Test score: {r2}')\n",
        "print(f'r2_train score: {r2_for_train}')\n",
        "print_metrics(y_test, y_pred)\n",
        "print('Important features are: \\n')\n",
        "used_cols"
      ],
      "execution_count": 86,
      "outputs": [
        {
          "output_type": "stream",
          "name": "stdout",
          "text": [
            "Adjust_r2: 0.604672199182078\n",
            "Train score: 0.6763311371872496\n",
            "Test score: 0.6085084709027759\n",
            "r2_Test score: 0.6085084709027759\n",
            "r2_train score: 0.6763311371872496\n",
            "MSE is 29.390451961425605\n",
            "RMSE is 5.421296151422241\n",
            "RMSE is 0.6083833398036512\n",
            "MAE is 3.540034943596906\n",
            "MAPE is 113.2971059848168\n",
            "Important features are: \n",
            "\n"
          ]
        },
        {
          "output_type": "execute_result",
          "data": {
            "text/plain": [
              "['day_of_year',\n",
              " 'car_type',\n",
              " 'day_of_week',\n",
              " 'hour',\n",
              " 'minute',\n",
              " 'hourly_travelers',\n",
              " 'daily_travelers',\n",
              " 'Time_gap_btw_0_1_next_bus',\n",
              " 'Time_gap_btw_0_1_previous_bus',\n",
              " 'Time_gap_btw_0_2_next_bus',\n",
              " 'Time_gap_btw_0_2_previous_bus',\n",
              " 'Time_gap_btw_0_3_previous_bus',\n",
              " 'Time_gap_btw_next_previous_bus',\n",
              " 'travel_from_distance',\n",
              " 'minute_arrived_date',\n",
              " 'travel_from_Awendo',\n",
              " 'travel_from_Keroka',\n",
              " 'travel_from_Kisii',\n",
              " 'travel_from_Migori',\n",
              " 'travel_from_Sirare']"
            ]
          },
          "metadata": {},
          "execution_count": 86
        }
      ]
    },
    {
      "cell_type": "code",
      "metadata": {
        "colab": {
          "base_uri": "https://localhost:8080/"
        },
        "id": "gvupTDZxn83o",
        "outputId": "d004daee-0e98-4ce7-ff47-1fc5bebe28db"
      },
      "source": [
        "r2"
      ],
      "execution_count": 87,
      "outputs": [
        {
          "output_type": "execute_result",
          "data": {
            "text/plain": [
              "0.6085084709027759"
            ]
          },
          "metadata": {},
          "execution_count": 87
        }
      ]
    },
    {
      "cell_type": "code",
      "metadata": {
        "colab": {
          "base_uri": "https://localhost:8080/"
        },
        "id": "w3LHSbGQoCA0",
        "outputId": "0666cd55-303e-418d-9c13-92dcbe7dbb01"
      },
      "source": [
        "adj_r2"
      ],
      "execution_count": 88,
      "outputs": [
        {
          "output_type": "execute_result",
          "data": {
            "text/plain": [
              "0.6043519918310418"
            ]
          },
          "metadata": {},
          "execution_count": 88
        }
      ]
    },
    {
      "cell_type": "markdown",
      "metadata": {
        "id": "2225bxx0RHFX"
      },
      "source": [
        "### **Training XGboost**"
      ]
    },
    {
      "cell_type": "code",
      "metadata": {
        "colab": {
          "base_uri": "https://localhost:8080/"
        },
        "id": "56iCH3mKItRf",
        "outputId": "da1c1bc0-8a0e-4a03-f6fd-a34dce006320"
      },
      "source": [
        "import xgboost as xgb\n",
        "# dataset_pr = data[]\n",
        "X = data[used_cols].copy()\n",
        "y = data['number_of_ticket'].copy()\n",
        "\n",
        "X_train, X_test, y_train, y_test = train_test_split(X,y,test_size=0.33, random_state=42)\n",
        "dreg= xgb.XGBRegressor(\n",
        "                        booster= 'gbtree',\n",
        "                        colsample_bylevel= 1,\n",
        "                        colsample_bynode= 1,\n",
        "                        colsample_bytree= 0.7,\n",
        "                        eta= 0.004,\n",
        "                        gamma= 0,\n",
        "                        importance_type= 'gain',\n",
        "                        learning_rate= 0.1,\n",
        "                        max_delta_step= 0,\n",
        "                        max_depth= 9,\n",
        "                        min_child_weight= 10,\n",
        "                        n_estimators= 100,\n",
        "                        n_jobs= 1,\n",
        "                        objective= 'reg:linear',\n",
        "                        random_state= 0,\n",
        "                        reg_alpha= 0,\n",
        "                        reg_lambda= 1,\n",
        "                        scale_pos_weight= 1,\n",
        "                        subsample= 1,\n",
        "                        verbosity= 1)\n",
        "dreg.fit(X_train, y_train)\n",
        "y_pred_train=dreg.predict(X_train)\n",
        "y_pred = dreg.predict(X_test)\n",
        "#Find R-squared value\n",
        "r2 = r2_score(y_test, y_pred)\n",
        "r2_train = r2_score(y_train, y_pred_train)\n",
        "# Find Adjusted R-squared value\n",
        "adj_r2=1-(1-r2_score(y_test, y_pred))*((X_test.shape[0]-1)/(X_test.shape[0]-X_test.shape[1]-1))\n",
        "train_score = dreg.score(X_train, y_train)\n",
        "test_score = dreg.score(X_test,y_test)\n",
        "print(f'Train score: {train_score}')\n",
        "print(f'Test score: {test_score}')\n",
        "adj_r2\n",
        "r2\n",
        "r2_train"
      ],
      "execution_count": 89,
      "outputs": [
        {
          "output_type": "stream",
          "name": "stdout",
          "text": [
            "[08:02:20] WARNING: ../src/objective/regression_obj.cu:213: reg:linear is now deprecated in favor of reg:squarederror.\n",
            "Train score: 0.8890665386338643\n",
            "Test score: 0.6660734667444423\n"
          ]
        },
        {
          "output_type": "execute_result",
          "data": {
            "text/plain": [
              "0.8890665386338643"
            ]
          },
          "metadata": {},
          "execution_count": 89
        }
      ]
    },
    {
      "cell_type": "code",
      "metadata": {
        "id": "kRkHolFwRU_t"
      },
      "source": [
        "from sklearn import decomposition\n",
        "from sklearn import tree\n",
        "from sklearn.pipeline import Pipeline\n",
        "from sklearn.model_selection import GridSearchCV\n",
        "from sklearn.preprocessing import StandardScaler\n",
        "from sklearn.tree import DecisionTreeRegressor\n",
        "from sklearn.ensemble import RandomForestRegressor"
      ],
      "execution_count": 90,
      "outputs": []
    },
    {
      "cell_type": "markdown",
      "metadata": {
        "id": "q11HOEQdeXJA"
      },
      "source": [
        "### **Random Forest Regressor**"
      ]
    },
    {
      "cell_type": "code",
      "metadata": {
        "id": "z3I-U7t9h4To"
      },
      "source": [
        "\n",
        "X = data[features].copy()\n",
        "y = data['number_of_ticket'].copy()\n",
        "\n",
        "X_train, X_test, y_train, y_test = train_test_split(X,y,test_size=0.33, random_state=42)"
      ],
      "execution_count": 91,
      "outputs": []
    },
    {
      "cell_type": "code",
      "metadata": {
        "id": "S9-gpQAxaHq5"
      },
      "source": [
        "dec_reg =RandomForestRegressor()"
      ],
      "execution_count": 92,
      "outputs": []
    },
    {
      "cell_type": "code",
      "metadata": {
        "colab": {
          "base_uri": "https://localhost:8080/",
          "height": 75
        },
        "id": "WTb-RiKzhBBL",
        "outputId": "e8a22b37-ffa2-481b-e85c-1f54b1003332"
      },
      "source": [
        "dec_reg.fit(X_train,y_train)"
      ],
      "execution_count": 93,
      "outputs": [
        {
          "output_type": "execute_result",
          "data": {
            "text/plain": [
              "RandomForestRegressor()"
            ],
            "text/html": [
              "<style>#sk-container-id-3 {color: black;background-color: white;}#sk-container-id-3 pre{padding: 0;}#sk-container-id-3 div.sk-toggleable {background-color: white;}#sk-container-id-3 label.sk-toggleable__label {cursor: pointer;display: block;width: 100%;margin-bottom: 0;padding: 0.3em;box-sizing: border-box;text-align: center;}#sk-container-id-3 label.sk-toggleable__label-arrow:before {content: \"▸\";float: left;margin-right: 0.25em;color: #696969;}#sk-container-id-3 label.sk-toggleable__label-arrow:hover:before {color: black;}#sk-container-id-3 div.sk-estimator:hover label.sk-toggleable__label-arrow:before {color: black;}#sk-container-id-3 div.sk-toggleable__content {max-height: 0;max-width: 0;overflow: hidden;text-align: left;background-color: #f0f8ff;}#sk-container-id-3 div.sk-toggleable__content pre {margin: 0.2em;color: black;border-radius: 0.25em;background-color: #f0f8ff;}#sk-container-id-3 input.sk-toggleable__control:checked~div.sk-toggleable__content {max-height: 200px;max-width: 100%;overflow: auto;}#sk-container-id-3 input.sk-toggleable__control:checked~label.sk-toggleable__label-arrow:before {content: \"▾\";}#sk-container-id-3 div.sk-estimator input.sk-toggleable__control:checked~label.sk-toggleable__label {background-color: #d4ebff;}#sk-container-id-3 div.sk-label input.sk-toggleable__control:checked~label.sk-toggleable__label {background-color: #d4ebff;}#sk-container-id-3 input.sk-hidden--visually {border: 0;clip: rect(1px 1px 1px 1px);clip: rect(1px, 1px, 1px, 1px);height: 1px;margin: -1px;overflow: hidden;padding: 0;position: absolute;width: 1px;}#sk-container-id-3 div.sk-estimator {font-family: monospace;background-color: #f0f8ff;border: 1px dotted black;border-radius: 0.25em;box-sizing: border-box;margin-bottom: 0.5em;}#sk-container-id-3 div.sk-estimator:hover {background-color: #d4ebff;}#sk-container-id-3 div.sk-parallel-item::after {content: \"\";width: 100%;border-bottom: 1px solid gray;flex-grow: 1;}#sk-container-id-3 div.sk-label:hover label.sk-toggleable__label {background-color: #d4ebff;}#sk-container-id-3 div.sk-serial::before {content: \"\";position: absolute;border-left: 1px solid gray;box-sizing: border-box;top: 0;bottom: 0;left: 50%;z-index: 0;}#sk-container-id-3 div.sk-serial {display: flex;flex-direction: column;align-items: center;background-color: white;padding-right: 0.2em;padding-left: 0.2em;position: relative;}#sk-container-id-3 div.sk-item {position: relative;z-index: 1;}#sk-container-id-3 div.sk-parallel {display: flex;align-items: stretch;justify-content: center;background-color: white;position: relative;}#sk-container-id-3 div.sk-item::before, #sk-container-id-3 div.sk-parallel-item::before {content: \"\";position: absolute;border-left: 1px solid gray;box-sizing: border-box;top: 0;bottom: 0;left: 50%;z-index: -1;}#sk-container-id-3 div.sk-parallel-item {display: flex;flex-direction: column;z-index: 1;position: relative;background-color: white;}#sk-container-id-3 div.sk-parallel-item:first-child::after {align-self: flex-end;width: 50%;}#sk-container-id-3 div.sk-parallel-item:last-child::after {align-self: flex-start;width: 50%;}#sk-container-id-3 div.sk-parallel-item:only-child::after {width: 0;}#sk-container-id-3 div.sk-dashed-wrapped {border: 1px dashed gray;margin: 0 0.4em 0.5em 0.4em;box-sizing: border-box;padding-bottom: 0.4em;background-color: white;}#sk-container-id-3 div.sk-label label {font-family: monospace;font-weight: bold;display: inline-block;line-height: 1.2em;}#sk-container-id-3 div.sk-label-container {text-align: center;}#sk-container-id-3 div.sk-container {/* jupyter's `normalize.less` sets `[hidden] { display: none; }` but bootstrap.min.css set `[hidden] { display: none !important; }` so we also need the `!important` here to be able to override the default hidden behavior on the sphinx rendered scikit-learn.org. See: https://github.com/scikit-learn/scikit-learn/issues/21755 */display: inline-block !important;position: relative;}#sk-container-id-3 div.sk-text-repr-fallback {display: none;}</style><div id=\"sk-container-id-3\" class=\"sk-top-container\"><div class=\"sk-text-repr-fallback\"><pre>RandomForestRegressor()</pre><b>In a Jupyter environment, please rerun this cell to show the HTML representation or trust the notebook. <br />On GitHub, the HTML representation is unable to render, please try loading this page with nbviewer.org.</b></div><div class=\"sk-container\" hidden><div class=\"sk-item\"><div class=\"sk-estimator sk-toggleable\"><input class=\"sk-toggleable__control sk-hidden--visually\" id=\"sk-estimator-id-5\" type=\"checkbox\" checked><label for=\"sk-estimator-id-5\" class=\"sk-toggleable__label sk-toggleable__label-arrow\">RandomForestRegressor</label><div class=\"sk-toggleable__content\"><pre>RandomForestRegressor()</pre></div></div></div></div></div>"
            ]
          },
          "metadata": {},
          "execution_count": 93
        }
      ]
    },
    {
      "cell_type": "code",
      "metadata": {
        "colab": {
          "base_uri": "https://localhost:8080/"
        },
        "id": "mftvqCzJhdDA",
        "outputId": "fc45962b-8f0e-44ad-de2c-bff6f614065c"
      },
      "source": [
        "dec_reg.score(X_train,y_train)"
      ],
      "execution_count": 94,
      "outputs": [
        {
          "output_type": "execute_result",
          "data": {
            "text/plain": [
              "0.9503791819288459"
            ]
          },
          "metadata": {},
          "execution_count": 94
        }
      ]
    },
    {
      "cell_type": "code",
      "metadata": {
        "colab": {
          "base_uri": "https://localhost:8080/"
        },
        "id": "Mb46kK98eomU",
        "outputId": "f6cad5d7-e4a2-4f79-fedd-ed3e67896cbc"
      },
      "source": [
        "dec_reg.score(X_test,y_test)"
      ],
      "execution_count": 95,
      "outputs": [
        {
          "output_type": "execute_result",
          "data": {
            "text/plain": [
              "0.6457170269851419"
            ]
          },
          "metadata": {},
          "execution_count": 95
        }
      ]
    },
    {
      "cell_type": "markdown",
      "metadata": {
        "id": "AsPkXN0bewOD"
      },
      "source": [
        "Model seems to be overfitted. \n"
      ]
    },
    {
      "cell_type": "markdown",
      "metadata": {
        "id": "Cn6w5XiMfMZx"
      },
      "source": [
        "### **Grid Search CV On Random forest**"
      ]
    },
    {
      "cell_type": "code",
      "metadata": {
        "id": "H39Oy8hnaP8H"
      },
      "source": [
        "parameters = {  'ccp_alpha':[0.01,0.1,1,10,100],\n",
        "              'max_depth': [4, 6, 8],\n",
        "            'min_samples_leaf': [40, 50],\n",
        "            'min_samples_split': [50, 100, 150]  \n",
        "}"
      ],
      "execution_count": 96,
      "outputs": []
    },
    {
      "cell_type": "code",
      "metadata": {
        "colab": {
          "base_uri": "https://localhost:8080/",
          "height": 135
        },
        "id": "fWBEYGCKfYbs",
        "outputId": "d5d838d7-9fcc-4f04-e4df-df8f0ef5622b"
      },
      "source": [
        "X = data[features].copy()\n",
        "y = data['number_of_ticket'].copy()\n",
        "dec_reg =RandomForestRegressor()\n",
        "rf_grid =GridSearchCV(dec_reg,param_grid=parameters, verbose=1,cv=2)\n",
        "rf_grid.fit(X, y)"
      ],
      "execution_count": 97,
      "outputs": [
        {
          "output_type": "stream",
          "name": "stdout",
          "text": [
            "Fitting 2 folds for each of 90 candidates, totalling 180 fits\n"
          ]
        },
        {
          "output_type": "execute_result",
          "data": {
            "text/plain": [
              "GridSearchCV(cv=2, estimator=RandomForestRegressor(),\n",
              "             param_grid={'ccp_alpha': [0.01, 0.1, 1, 10, 100],\n",
              "                         'max_depth': [4, 6, 8], 'min_samples_leaf': [40, 50],\n",
              "                         'min_samples_split': [50, 100, 150]},\n",
              "             verbose=1)"
            ],
            "text/html": [
              "<style>#sk-container-id-4 {color: black;background-color: white;}#sk-container-id-4 pre{padding: 0;}#sk-container-id-4 div.sk-toggleable {background-color: white;}#sk-container-id-4 label.sk-toggleable__label {cursor: pointer;display: block;width: 100%;margin-bottom: 0;padding: 0.3em;box-sizing: border-box;text-align: center;}#sk-container-id-4 label.sk-toggleable__label-arrow:before {content: \"▸\";float: left;margin-right: 0.25em;color: #696969;}#sk-container-id-4 label.sk-toggleable__label-arrow:hover:before {color: black;}#sk-container-id-4 div.sk-estimator:hover label.sk-toggleable__label-arrow:before {color: black;}#sk-container-id-4 div.sk-toggleable__content {max-height: 0;max-width: 0;overflow: hidden;text-align: left;background-color: #f0f8ff;}#sk-container-id-4 div.sk-toggleable__content pre {margin: 0.2em;color: black;border-radius: 0.25em;background-color: #f0f8ff;}#sk-container-id-4 input.sk-toggleable__control:checked~div.sk-toggleable__content {max-height: 200px;max-width: 100%;overflow: auto;}#sk-container-id-4 input.sk-toggleable__control:checked~label.sk-toggleable__label-arrow:before {content: \"▾\";}#sk-container-id-4 div.sk-estimator input.sk-toggleable__control:checked~label.sk-toggleable__label {background-color: #d4ebff;}#sk-container-id-4 div.sk-label input.sk-toggleable__control:checked~label.sk-toggleable__label {background-color: #d4ebff;}#sk-container-id-4 input.sk-hidden--visually {border: 0;clip: rect(1px 1px 1px 1px);clip: rect(1px, 1px, 1px, 1px);height: 1px;margin: -1px;overflow: hidden;padding: 0;position: absolute;width: 1px;}#sk-container-id-4 div.sk-estimator {font-family: monospace;background-color: #f0f8ff;border: 1px dotted black;border-radius: 0.25em;box-sizing: border-box;margin-bottom: 0.5em;}#sk-container-id-4 div.sk-estimator:hover {background-color: #d4ebff;}#sk-container-id-4 div.sk-parallel-item::after {content: \"\";width: 100%;border-bottom: 1px solid gray;flex-grow: 1;}#sk-container-id-4 div.sk-label:hover label.sk-toggleable__label {background-color: #d4ebff;}#sk-container-id-4 div.sk-serial::before {content: \"\";position: absolute;border-left: 1px solid gray;box-sizing: border-box;top: 0;bottom: 0;left: 50%;z-index: 0;}#sk-container-id-4 div.sk-serial {display: flex;flex-direction: column;align-items: center;background-color: white;padding-right: 0.2em;padding-left: 0.2em;position: relative;}#sk-container-id-4 div.sk-item {position: relative;z-index: 1;}#sk-container-id-4 div.sk-parallel {display: flex;align-items: stretch;justify-content: center;background-color: white;position: relative;}#sk-container-id-4 div.sk-item::before, #sk-container-id-4 div.sk-parallel-item::before {content: \"\";position: absolute;border-left: 1px solid gray;box-sizing: border-box;top: 0;bottom: 0;left: 50%;z-index: -1;}#sk-container-id-4 div.sk-parallel-item {display: flex;flex-direction: column;z-index: 1;position: relative;background-color: white;}#sk-container-id-4 div.sk-parallel-item:first-child::after {align-self: flex-end;width: 50%;}#sk-container-id-4 div.sk-parallel-item:last-child::after {align-self: flex-start;width: 50%;}#sk-container-id-4 div.sk-parallel-item:only-child::after {width: 0;}#sk-container-id-4 div.sk-dashed-wrapped {border: 1px dashed gray;margin: 0 0.4em 0.5em 0.4em;box-sizing: border-box;padding-bottom: 0.4em;background-color: white;}#sk-container-id-4 div.sk-label label {font-family: monospace;font-weight: bold;display: inline-block;line-height: 1.2em;}#sk-container-id-4 div.sk-label-container {text-align: center;}#sk-container-id-4 div.sk-container {/* jupyter's `normalize.less` sets `[hidden] { display: none; }` but bootstrap.min.css set `[hidden] { display: none !important; }` so we also need the `!important` here to be able to override the default hidden behavior on the sphinx rendered scikit-learn.org. See: https://github.com/scikit-learn/scikit-learn/issues/21755 */display: inline-block !important;position: relative;}#sk-container-id-4 div.sk-text-repr-fallback {display: none;}</style><div id=\"sk-container-id-4\" class=\"sk-top-container\"><div class=\"sk-text-repr-fallback\"><pre>GridSearchCV(cv=2, estimator=RandomForestRegressor(),\n",
              "             param_grid={&#x27;ccp_alpha&#x27;: [0.01, 0.1, 1, 10, 100],\n",
              "                         &#x27;max_depth&#x27;: [4, 6, 8], &#x27;min_samples_leaf&#x27;: [40, 50],\n",
              "                         &#x27;min_samples_split&#x27;: [50, 100, 150]},\n",
              "             verbose=1)</pre><b>In a Jupyter environment, please rerun this cell to show the HTML representation or trust the notebook. <br />On GitHub, the HTML representation is unable to render, please try loading this page with nbviewer.org.</b></div><div class=\"sk-container\" hidden><div class=\"sk-item sk-dashed-wrapped\"><div class=\"sk-label-container\"><div class=\"sk-label sk-toggleable\"><input class=\"sk-toggleable__control sk-hidden--visually\" id=\"sk-estimator-id-6\" type=\"checkbox\" ><label for=\"sk-estimator-id-6\" class=\"sk-toggleable__label sk-toggleable__label-arrow\">GridSearchCV</label><div class=\"sk-toggleable__content\"><pre>GridSearchCV(cv=2, estimator=RandomForestRegressor(),\n",
              "             param_grid={&#x27;ccp_alpha&#x27;: [0.01, 0.1, 1, 10, 100],\n",
              "                         &#x27;max_depth&#x27;: [4, 6, 8], &#x27;min_samples_leaf&#x27;: [40, 50],\n",
              "                         &#x27;min_samples_split&#x27;: [50, 100, 150]},\n",
              "             verbose=1)</pre></div></div></div><div class=\"sk-parallel\"><div class=\"sk-parallel-item\"><div class=\"sk-item\"><div class=\"sk-label-container\"><div class=\"sk-label sk-toggleable\"><input class=\"sk-toggleable__control sk-hidden--visually\" id=\"sk-estimator-id-7\" type=\"checkbox\" ><label for=\"sk-estimator-id-7\" class=\"sk-toggleable__label sk-toggleable__label-arrow\">estimator: RandomForestRegressor</label><div class=\"sk-toggleable__content\"><pre>RandomForestRegressor()</pre></div></div></div><div class=\"sk-serial\"><div class=\"sk-item\"><div class=\"sk-estimator sk-toggleable\"><input class=\"sk-toggleable__control sk-hidden--visually\" id=\"sk-estimator-id-8\" type=\"checkbox\" ><label for=\"sk-estimator-id-8\" class=\"sk-toggleable__label sk-toggleable__label-arrow\">RandomForestRegressor</label><div class=\"sk-toggleable__content\"><pre>RandomForestRegressor()</pre></div></div></div></div></div></div></div></div></div></div>"
            ]
          },
          "metadata": {},
          "execution_count": 97
        }
      ]
    },
    {
      "cell_type": "code",
      "metadata": {
        "colab": {
          "base_uri": "https://localhost:8080/"
        },
        "id": "ujSH5-Mkfop6",
        "outputId": "7cb921cf-efec-440e-85c9-1c7e9f2f23a9"
      },
      "source": [
        "rf_grid.best_estimator_.get_params()"
      ],
      "execution_count": 98,
      "outputs": [
        {
          "output_type": "execute_result",
          "data": {
            "text/plain": [
              "{'bootstrap': True,\n",
              " 'ccp_alpha': 0.01,\n",
              " 'criterion': 'squared_error',\n",
              " 'max_depth': 8,\n",
              " 'max_features': 1.0,\n",
              " 'max_leaf_nodes': None,\n",
              " 'max_samples': None,\n",
              " 'min_impurity_decrease': 0.0,\n",
              " 'min_samples_leaf': 40,\n",
              " 'min_samples_split': 50,\n",
              " 'min_weight_fraction_leaf': 0.0,\n",
              " 'n_estimators': 100,\n",
              " 'n_jobs': None,\n",
              " 'oob_score': False,\n",
              " 'random_state': None,\n",
              " 'verbose': 0,\n",
              " 'warm_start': False}"
            ]
          },
          "metadata": {},
          "execution_count": 98
        }
      ]
    },
    {
      "cell_type": "code",
      "metadata": {
        "colab": {
          "base_uri": "https://localhost:8080/"
        },
        "id": "93zPs8UsfrTS",
        "outputId": "76a96d2a-500f-459f-aa39-825c794048cd"
      },
      "source": [
        "rf_optimal_model =rf_grid.best_estimator_\n",
        "rf_train_preds = rf_optimal_model.predict(X_train)\n",
        "rf_test_preds = rf_optimal_model.predict(X_test)\n",
        "train_score= rf_optimal_model.score(X_train,y_train)\n",
        "test_score = rf_optimal_model.score(X_test,y_test)\n",
        "\n",
        "\n",
        "\n",
        "#Find R-squared value\n",
        "r2 = r2_score(y_test, rf_test_preds)\n",
        "r2_train = r2_score(y_train, rf_train_preds)\n",
        "# Find Adjusted R-squared value\n",
        "adj_r2=1-(1-r2_score(y_test,rf_test_preds))*((X_test.shape[0]-1)/(X_test.shape[0]-X_test.shape[1]-1))\n",
        "\n",
        "print('Train Score: ',train_score)\n",
        "print('Test Score: ',test_score)\n",
        "print('Mean Squared Error (MSE): ',mean_squared_error(y_test, rf_test_preds))\n",
        "print('Mean Absolute Error (MAE): ',mean_absolute_error(y_test, rf_test_preds))\n",
        "print('Root Mean Squared Error (MSE): ',np.sqrt(mean_squared_error(y_test, rf_test_preds)))\n",
        "print('R2 Score: ',r2)\n",
        "print('R2_train Score: ',r2_train)\n",
        "print('Adjusted R2 Score: ',adj_r2)"
      ],
      "execution_count": 99,
      "outputs": [
        {
          "output_type": "stream",
          "name": "stdout",
          "text": [
            "Train Score:  0.6336173373805861\n",
            "Test Score:  0.6302685694065474\n",
            "Mean Squared Error (MSE):  27.747986625588783\n",
            "Mean Absolute Error (MAE):  3.3563615944595573\n",
            "Root Mean Squared Error (MSE):  5.267635771917871\n",
            "R2 Score:  0.6302685694065474\n",
            "R2_train Score:  0.6336173373805861\n",
            "Adjusted R2 Score:  0.6222030349761498\n"
          ]
        }
      ]
    },
    {
      "cell_type": "code",
      "metadata": {
        "id": "JOCgkLbBqKyL"
      },
      "source": [
        "import warnings\n",
        "warnings.filterwarnings('ignore')"
      ],
      "execution_count": 100,
      "outputs": []
    },
    {
      "cell_type": "markdown",
      "metadata": {
        "id": "Lg9wEkL-N8qJ"
      },
      "source": [
        "### **Grid Search CV On XGboost algorithm**"
      ]
    },
    {
      "cell_type": "code",
      "metadata": {
        "id": "idfBg83Vkn4O"
      },
      "source": [
        "import xgboost as xgb\n",
        "\n",
        "xgb = xgb.XGBRegressor()"
      ],
      "execution_count": 101,
      "outputs": []
    },
    {
      "cell_type": "code",
      "metadata": {
        "id": "d2sqoWzQlXFR"
      },
      "source": [
        "params = {\"min_child_weight\":[10,20], \n",
        "            'eta': [0.004,0.04,4,40], \n",
        "            'colsample_bytree':[0.7], \n",
        "            'max_depth': [7,9,11],\n",
        "          \n",
        "          }"
      ],
      "execution_count": 102,
      "outputs": []
    },
    {
      "cell_type": "code",
      "metadata": {
        "colab": {
          "base_uri": "https://localhost:8080/",
          "height": 135
        },
        "id": "0oeDC0OEk2Ac",
        "outputId": "8c9b0161-a9ac-43a1-8caa-10227b199922"
      },
      "source": [
        "X = data[features].copy()\n",
        "y = data['number_of_ticket'].copy()\n",
        "\n",
        "# X_train, X_test, y_train, y_test = train_test_split(X,y,test_size=0.33, random_state=42)\n",
        "reg_gs = GridSearchCV(xgb,param_grid=params, verbose=1,cv=3)\n",
        "reg_gs.fit(X, y)"
      ],
      "execution_count": 103,
      "outputs": [
        {
          "output_type": "stream",
          "name": "stdout",
          "text": [
            "Fitting 3 folds for each of 24 candidates, totalling 72 fits\n"
          ]
        },
        {
          "output_type": "execute_result",
          "data": {
            "text/plain": [
              "GridSearchCV(cv=3,\n",
              "             estimator=XGBRegressor(base_score=None, booster=None,\n",
              "                                    callbacks=None, colsample_bylevel=None,\n",
              "                                    colsample_bynode=None,\n",
              "                                    colsample_bytree=None,\n",
              "                                    early_stopping_rounds=None,\n",
              "                                    enable_categorical=False, eval_metric=None,\n",
              "                                    feature_types=None, gamma=None, gpu_id=None,\n",
              "                                    grow_policy=None, importance_type=None,\n",
              "                                    interaction_constraints=None,\n",
              "                                    learning_rate=None, m...\n",
              "                                    max_cat_threshold=None,\n",
              "                                    max_cat_to_onehot=None, max_delta_step=None,\n",
              "                                    max_depth=None, max_leaves=None,\n",
              "                                    min_child_weight=None, missing=nan,\n",
              "                                    monotone_constraints=None, n_estimators=100,\n",
              "                                    n_jobs=None, num_parallel_tree=None,\n",
              "                                    predictor=None, random_state=None, ...),\n",
              "             param_grid={'colsample_bytree': [0.7], 'eta': [0.004, 0.04, 4, 40],\n",
              "                         'max_depth': [7, 9, 11],\n",
              "                         'min_child_weight': [10, 20]},\n",
              "             verbose=1)"
            ],
            "text/html": [
              "<style>#sk-container-id-5 {color: black;background-color: white;}#sk-container-id-5 pre{padding: 0;}#sk-container-id-5 div.sk-toggleable {background-color: white;}#sk-container-id-5 label.sk-toggleable__label {cursor: pointer;display: block;width: 100%;margin-bottom: 0;padding: 0.3em;box-sizing: border-box;text-align: center;}#sk-container-id-5 label.sk-toggleable__label-arrow:before {content: \"▸\";float: left;margin-right: 0.25em;color: #696969;}#sk-container-id-5 label.sk-toggleable__label-arrow:hover:before {color: black;}#sk-container-id-5 div.sk-estimator:hover label.sk-toggleable__label-arrow:before {color: black;}#sk-container-id-5 div.sk-toggleable__content {max-height: 0;max-width: 0;overflow: hidden;text-align: left;background-color: #f0f8ff;}#sk-container-id-5 div.sk-toggleable__content pre {margin: 0.2em;color: black;border-radius: 0.25em;background-color: #f0f8ff;}#sk-container-id-5 input.sk-toggleable__control:checked~div.sk-toggleable__content {max-height: 200px;max-width: 100%;overflow: auto;}#sk-container-id-5 input.sk-toggleable__control:checked~label.sk-toggleable__label-arrow:before {content: \"▾\";}#sk-container-id-5 div.sk-estimator input.sk-toggleable__control:checked~label.sk-toggleable__label {background-color: #d4ebff;}#sk-container-id-5 div.sk-label input.sk-toggleable__control:checked~label.sk-toggleable__label {background-color: #d4ebff;}#sk-container-id-5 input.sk-hidden--visually {border: 0;clip: rect(1px 1px 1px 1px);clip: rect(1px, 1px, 1px, 1px);height: 1px;margin: -1px;overflow: hidden;padding: 0;position: absolute;width: 1px;}#sk-container-id-5 div.sk-estimator {font-family: monospace;background-color: #f0f8ff;border: 1px dotted black;border-radius: 0.25em;box-sizing: border-box;margin-bottom: 0.5em;}#sk-container-id-5 div.sk-estimator:hover {background-color: #d4ebff;}#sk-container-id-5 div.sk-parallel-item::after {content: \"\";width: 100%;border-bottom: 1px solid gray;flex-grow: 1;}#sk-container-id-5 div.sk-label:hover label.sk-toggleable__label {background-color: #d4ebff;}#sk-container-id-5 div.sk-serial::before {content: \"\";position: absolute;border-left: 1px solid gray;box-sizing: border-box;top: 0;bottom: 0;left: 50%;z-index: 0;}#sk-container-id-5 div.sk-serial {display: flex;flex-direction: column;align-items: center;background-color: white;padding-right: 0.2em;padding-left: 0.2em;position: relative;}#sk-container-id-5 div.sk-item {position: relative;z-index: 1;}#sk-container-id-5 div.sk-parallel {display: flex;align-items: stretch;justify-content: center;background-color: white;position: relative;}#sk-container-id-5 div.sk-item::before, #sk-container-id-5 div.sk-parallel-item::before {content: \"\";position: absolute;border-left: 1px solid gray;box-sizing: border-box;top: 0;bottom: 0;left: 50%;z-index: -1;}#sk-container-id-5 div.sk-parallel-item {display: flex;flex-direction: column;z-index: 1;position: relative;background-color: white;}#sk-container-id-5 div.sk-parallel-item:first-child::after {align-self: flex-end;width: 50%;}#sk-container-id-5 div.sk-parallel-item:last-child::after {align-self: flex-start;width: 50%;}#sk-container-id-5 div.sk-parallel-item:only-child::after {width: 0;}#sk-container-id-5 div.sk-dashed-wrapped {border: 1px dashed gray;margin: 0 0.4em 0.5em 0.4em;box-sizing: border-box;padding-bottom: 0.4em;background-color: white;}#sk-container-id-5 div.sk-label label {font-family: monospace;font-weight: bold;display: inline-block;line-height: 1.2em;}#sk-container-id-5 div.sk-label-container {text-align: center;}#sk-container-id-5 div.sk-container {/* jupyter's `normalize.less` sets `[hidden] { display: none; }` but bootstrap.min.css set `[hidden] { display: none !important; }` so we also need the `!important` here to be able to override the default hidden behavior on the sphinx rendered scikit-learn.org. See: https://github.com/scikit-learn/scikit-learn/issues/21755 */display: inline-block !important;position: relative;}#sk-container-id-5 div.sk-text-repr-fallback {display: none;}</style><div id=\"sk-container-id-5\" class=\"sk-top-container\"><div class=\"sk-text-repr-fallback\"><pre>GridSearchCV(cv=3,\n",
              "             estimator=XGBRegressor(base_score=None, booster=None,\n",
              "                                    callbacks=None, colsample_bylevel=None,\n",
              "                                    colsample_bynode=None,\n",
              "                                    colsample_bytree=None,\n",
              "                                    early_stopping_rounds=None,\n",
              "                                    enable_categorical=False, eval_metric=None,\n",
              "                                    feature_types=None, gamma=None, gpu_id=None,\n",
              "                                    grow_policy=None, importance_type=None,\n",
              "                                    interaction_constraints=None,\n",
              "                                    learning_rate=None, m...\n",
              "                                    max_cat_threshold=None,\n",
              "                                    max_cat_to_onehot=None, max_delta_step=None,\n",
              "                                    max_depth=None, max_leaves=None,\n",
              "                                    min_child_weight=None, missing=nan,\n",
              "                                    monotone_constraints=None, n_estimators=100,\n",
              "                                    n_jobs=None, num_parallel_tree=None,\n",
              "                                    predictor=None, random_state=None, ...),\n",
              "             param_grid={&#x27;colsample_bytree&#x27;: [0.7], &#x27;eta&#x27;: [0.004, 0.04, 4, 40],\n",
              "                         &#x27;max_depth&#x27;: [7, 9, 11],\n",
              "                         &#x27;min_child_weight&#x27;: [10, 20]},\n",
              "             verbose=1)</pre><b>In a Jupyter environment, please rerun this cell to show the HTML representation or trust the notebook. <br />On GitHub, the HTML representation is unable to render, please try loading this page with nbviewer.org.</b></div><div class=\"sk-container\" hidden><div class=\"sk-item sk-dashed-wrapped\"><div class=\"sk-label-container\"><div class=\"sk-label sk-toggleable\"><input class=\"sk-toggleable__control sk-hidden--visually\" id=\"sk-estimator-id-9\" type=\"checkbox\" ><label for=\"sk-estimator-id-9\" class=\"sk-toggleable__label sk-toggleable__label-arrow\">GridSearchCV</label><div class=\"sk-toggleable__content\"><pre>GridSearchCV(cv=3,\n",
              "             estimator=XGBRegressor(base_score=None, booster=None,\n",
              "                                    callbacks=None, colsample_bylevel=None,\n",
              "                                    colsample_bynode=None,\n",
              "                                    colsample_bytree=None,\n",
              "                                    early_stopping_rounds=None,\n",
              "                                    enable_categorical=False, eval_metric=None,\n",
              "                                    feature_types=None, gamma=None, gpu_id=None,\n",
              "                                    grow_policy=None, importance_type=None,\n",
              "                                    interaction_constraints=None,\n",
              "                                    learning_rate=None, m...\n",
              "                                    max_cat_threshold=None,\n",
              "                                    max_cat_to_onehot=None, max_delta_step=None,\n",
              "                                    max_depth=None, max_leaves=None,\n",
              "                                    min_child_weight=None, missing=nan,\n",
              "                                    monotone_constraints=None, n_estimators=100,\n",
              "                                    n_jobs=None, num_parallel_tree=None,\n",
              "                                    predictor=None, random_state=None, ...),\n",
              "             param_grid={&#x27;colsample_bytree&#x27;: [0.7], &#x27;eta&#x27;: [0.004, 0.04, 4, 40],\n",
              "                         &#x27;max_depth&#x27;: [7, 9, 11],\n",
              "                         &#x27;min_child_weight&#x27;: [10, 20]},\n",
              "             verbose=1)</pre></div></div></div><div class=\"sk-parallel\"><div class=\"sk-parallel-item\"><div class=\"sk-item\"><div class=\"sk-label-container\"><div class=\"sk-label sk-toggleable\"><input class=\"sk-toggleable__control sk-hidden--visually\" id=\"sk-estimator-id-10\" type=\"checkbox\" ><label for=\"sk-estimator-id-10\" class=\"sk-toggleable__label sk-toggleable__label-arrow\">estimator: XGBRegressor</label><div class=\"sk-toggleable__content\"><pre>XGBRegressor(base_score=None, booster=None, callbacks=None,\n",
              "             colsample_bylevel=None, colsample_bynode=None,\n",
              "             colsample_bytree=None, early_stopping_rounds=None,\n",
              "             enable_categorical=False, eval_metric=None, feature_types=None,\n",
              "             gamma=None, gpu_id=None, grow_policy=None, importance_type=None,\n",
              "             interaction_constraints=None, learning_rate=None, max_bin=None,\n",
              "             max_cat_threshold=None, max_cat_to_onehot=None,\n",
              "             max_delta_step=None, max_depth=None, max_leaves=None,\n",
              "             min_child_weight=None, missing=nan, monotone_constraints=None,\n",
              "             n_estimators=100, n_jobs=None, num_parallel_tree=None,\n",
              "             predictor=None, random_state=None, ...)</pre></div></div></div><div class=\"sk-serial\"><div class=\"sk-item\"><div class=\"sk-estimator sk-toggleable\"><input class=\"sk-toggleable__control sk-hidden--visually\" id=\"sk-estimator-id-11\" type=\"checkbox\" ><label for=\"sk-estimator-id-11\" class=\"sk-toggleable__label sk-toggleable__label-arrow\">XGBRegressor</label><div class=\"sk-toggleable__content\"><pre>XGBRegressor(base_score=None, booster=None, callbacks=None,\n",
              "             colsample_bylevel=None, colsample_bynode=None,\n",
              "             colsample_bytree=None, early_stopping_rounds=None,\n",
              "             enable_categorical=False, eval_metric=None, feature_types=None,\n",
              "             gamma=None, gpu_id=None, grow_policy=None, importance_type=None,\n",
              "             interaction_constraints=None, learning_rate=None, max_bin=None,\n",
              "             max_cat_threshold=None, max_cat_to_onehot=None,\n",
              "             max_delta_step=None, max_depth=None, max_leaves=None,\n",
              "             min_child_weight=None, missing=nan, monotone_constraints=None,\n",
              "             n_estimators=100, n_jobs=None, num_parallel_tree=None,\n",
              "             predictor=None, random_state=None, ...)</pre></div></div></div></div></div></div></div></div></div></div>"
            ]
          },
          "metadata": {},
          "execution_count": 103
        }
      ]
    },
    {
      "cell_type": "code",
      "metadata": {
        "colab": {
          "base_uri": "https://localhost:8080/"
        },
        "id": "ymm6nUAUbsOO",
        "outputId": "93b4427f-612b-4066-9f75-e89bdef125cb"
      },
      "source": [
        "reg_gs.best_estimator_.get_params()"
      ],
      "execution_count": 104,
      "outputs": [
        {
          "output_type": "execute_result",
          "data": {
            "text/plain": [
              "{'objective': 'reg:squarederror',\n",
              " 'base_score': None,\n",
              " 'booster': None,\n",
              " 'callbacks': None,\n",
              " 'colsample_bylevel': None,\n",
              " 'colsample_bynode': None,\n",
              " 'colsample_bytree': 0.7,\n",
              " 'early_stopping_rounds': None,\n",
              " 'enable_categorical': False,\n",
              " 'eval_metric': None,\n",
              " 'feature_types': None,\n",
              " 'gamma': None,\n",
              " 'gpu_id': None,\n",
              " 'grow_policy': None,\n",
              " 'importance_type': None,\n",
              " 'interaction_constraints': None,\n",
              " 'learning_rate': None,\n",
              " 'max_bin': None,\n",
              " 'max_cat_threshold': None,\n",
              " 'max_cat_to_onehot': None,\n",
              " 'max_delta_step': None,\n",
              " 'max_depth': 9,\n",
              " 'max_leaves': None,\n",
              " 'min_child_weight': 10,\n",
              " 'missing': nan,\n",
              " 'monotone_constraints': None,\n",
              " 'n_estimators': 100,\n",
              " 'n_jobs': None,\n",
              " 'num_parallel_tree': None,\n",
              " 'predictor': None,\n",
              " 'random_state': None,\n",
              " 'reg_alpha': None,\n",
              " 'reg_lambda': None,\n",
              " 'sampling_method': None,\n",
              " 'scale_pos_weight': None,\n",
              " 'subsample': None,\n",
              " 'tree_method': None,\n",
              " 'validate_parameters': None,\n",
              " 'verbosity': None,\n",
              " 'eta': 0.04}"
            ]
          },
          "metadata": {},
          "execution_count": 104
        }
      ]
    },
    {
      "cell_type": "code",
      "metadata": {
        "id": "adOZUNOzdEsr"
      },
      "source": [
        "reg_optimal_model =reg_gs.best_estimator_"
      ],
      "execution_count": 105,
      "outputs": []
    },
    {
      "cell_type": "code",
      "metadata": {
        "id": "-LbVbYM4dQqG"
      },
      "source": [
        "train_preds = reg_optimal_model.predict(X_train)\n",
        "test_preds = reg_optimal_model.predict(X_test)"
      ],
      "execution_count": 106,
      "outputs": []
    },
    {
      "cell_type": "code",
      "metadata": {
        "colab": {
          "base_uri": "https://localhost:8080/"
        },
        "id": "29d-8km7hYW2",
        "outputId": "7e1ebcd6-4564-4958-f3da-2cf87b3b1930"
      },
      "source": [
        "reg_optimal_model.score(X_train,y_train)"
      ],
      "execution_count": 107,
      "outputs": [
        {
          "output_type": "execute_result",
          "data": {
            "text/plain": [
              "0.8440185003823177"
            ]
          },
          "metadata": {},
          "execution_count": 107
        }
      ]
    },
    {
      "cell_type": "code",
      "metadata": {
        "colab": {
          "base_uri": "https://localhost:8080/"
        },
        "id": "LjAnTXDZn14G",
        "outputId": "d261ea74-2012-4566-a260-f28dc052503d"
      },
      "source": [
        "reg_optimal_model.score(X_test,y_test)"
      ],
      "execution_count": 108,
      "outputs": [
        {
          "output_type": "execute_result",
          "data": {
            "text/plain": [
              "0.8405406646754021"
            ]
          },
          "metadata": {},
          "execution_count": 108
        }
      ]
    },
    {
      "cell_type": "code",
      "metadata": {
        "id": "Cu83LIgR6wrs"
      },
      "source": [
        "\n",
        "#Find R-squared value\n",
        "r2_test = r2_score(y_test, test_preds)\n",
        "# Find Adjusted R-squared value\n",
        "adj_r2=1-(1-r2_score(y_test, test_preds))*((X_test.shape[0]-1)/(X_test.shape[0]-X_test.shape[1]-1))"
      ],
      "execution_count": 109,
      "outputs": []
    },
    {
      "cell_type": "code",
      "metadata": {
        "colab": {
          "base_uri": "https://localhost:8080/"
        },
        "id": "-qJjDlLVuSqu",
        "outputId": "e7a0a182-3337-45d0-9fef-43eaa5862e25"
      },
      "source": [
        "adj_r2"
      ],
      "execution_count": 110,
      "outputs": [
        {
          "output_type": "execute_result",
          "data": {
            "text/plain": [
              "0.8370621268696102"
            ]
          },
          "metadata": {},
          "execution_count": 110
        }
      ]
    },
    {
      "cell_type": "code",
      "metadata": {
        "colab": {
          "base_uri": "https://localhost:8080/",
          "height": 447
        },
        "id": "pQ6EYUz_awW7",
        "outputId": "e614d1dc-95d3-44b7-dec0-5ec6b7d72336"
      },
      "source": [
        "plt.scatter(y_test,test_preds)"
      ],
      "execution_count": 111,
      "outputs": [
        {
          "output_type": "execute_result",
          "data": {
            "text/plain": [
              "<matplotlib.collections.PathCollection at 0x7fdf7fdeb580>"
            ]
          },
          "metadata": {},
          "execution_count": 111
        },
        {
          "output_type": "display_data",
          "data": {
            "text/plain": [
              "<Figure size 640x480 with 1 Axes>"
            ],
            "image/png": "[encoded data removed]"
          },
          "metadata": {}
        }
      ]
    },
    {
      "cell_type": "code",
      "metadata": {
        "id": "tF6OvvPSdh0n"
      },
      "source": [
        "importances = reg_optimal_model.feature_importances_"
      ],
      "execution_count": 112,
      "outputs": []
    },
    {
      "cell_type": "code",
      "metadata": {
        "id": "Zncnadi6dpEa"
      },
      "source": [
        "importance_dict = {'Feature' : list(X_train.columns),\n",
        "                   'Feature Importance' : importances}"
      ],
      "execution_count": 113,
      "outputs": []
    },
    {
      "cell_type": "code",
      "metadata": {
        "id": "xMZKUz8Mdtyi"
      },
      "source": [
        "importance_df = pd.DataFrame(importance_dict)"
      ],
      "execution_count": 114,
      "outputs": []
    },
    {
      "cell_type": "code",
      "metadata": {
        "id": "5LExJLhzdzb2"
      },
      "source": [
        "important_features=importance_df.sort_values(by=['Feature Importance'],ascending=False).head(20)"
      ],
      "execution_count": 115,
      "outputs": []
    },
    {
      "cell_type": "code",
      "metadata": {
        "id": "l91CJZkHs-3M"
      },
      "source": [
        "imp_features = important_features['Feature'].tolist()"
      ],
      "execution_count": 116,
      "outputs": []
    },
    {
      "cell_type": "code",
      "metadata": {
        "id": "Qyi6bP4Xd4tU",
        "colab": {
          "base_uri": "https://localhost:8080/",
          "height": 487
        },
        "outputId": "26526338-9f1e-4af9-a98d-fdf9c8476f82"
      },
      "source": [
        "plt.figure(figsize=(10,5))\n",
        "sns.barplot(y = important_features['Feature'], x = important_features['Feature Importance'] )\n",
        "plt.title('10 Most Important features')\n",
        "plt.show()"
      ],
      "execution_count": 117,
      "outputs": [
        {
          "output_type": "display_data",
          "data": {
            "text/plain": [
              "<Figure size 1000x500 with 1 Axes>"
            ],
            "image/png": "[encoded data removed]"
          },
          "metadata": {}
        }
      ]
    },
    {
      "cell_type": "markdown",
      "metadata": {
        "id": "afeQTJppQZXS"
      },
      "source": [
        "#  **EVALUATING THE MODEL**"
      ]
    },
    {
      "cell_type": "code",
      "metadata": {
        "id": "NO6jmSGFwf1C",
        "colab": {
          "base_uri": "https://localhost:8080/"
        },
        "outputId": "56312980-7b7c-4db8-88d4-10db01c3b77f"
      },
      "source": [
        "print('Mean Squared Error (MSE): ',mean_squared_error(y_test, test_preds))\n",
        "print('Mean Absolute Error (MAE): ',mean_absolute_error(y_test, test_preds))\n",
        "print('Root Mean Squared Error (MSE): ',np.sqrt(mean_squared_error(y_test, test_preds)))\n",
        "print('R2 Score: ',r2_test)\n",
        "print('Adjusted R2 Score: ',adj_r2)\n"
      ],
      "execution_count": 118,
      "outputs": [
        {
          "output_type": "stream",
          "name": "stdout",
          "text": [
            "Mean Squared Error (MSE):  11.967269043938767\n",
            "Mean Absolute Error (MAE):  2.2471472935608356\n",
            "Root Mean Squared Error (MSE):  3.4593740826829884\n",
            "R2 Score:  0.8405406646754021\n",
            "Adjusted R2 Score:  0.8370621268696102\n"
          ]
        }
      ]
    },
    {
      "cell_type": "code",
      "metadata": {
        "id": "rOWFQd1J1ugL"
      },
      "source": [
        "# Function to make a dataframe of evaluation matrics for a model\n",
        "def make_dataFrame(model, df,Model_name,X_train=X_train,X_test=X_test,y_train=y_train,y_test=y_train):\n",
        "  \n",
        "  '''This function takes arugment as model name and training and testing\n",
        "    data and a datafram and returns a dataframe after appending the entries of\n",
        "    evaluation matrics for a model  \n",
        "  '''\n",
        "  df = pd.DataFrame(columns=['Model Name','Train Score','test_score','R2 Score','Adjusted R2 Score','MSE','MAE'])\n",
        "  model_train_preds = model.predict(X_train)\n",
        "  model_test_preds = model.predict(X_test)\n",
        "\n",
        "\n",
        "\n",
        "  train_score = model.score(y_train,model_train_preds)\n",
        "  test_score = model.score(y_test,model_test_preds)\n",
        "  r2 = r2_score(y_test,model_trainProb_preds)\n",
        "  adjusted_r2 = 1-(1-r2_score(y_test, model_test_preds))*((X_test.shape[0]-1)/(X_test.shape[0]-X_test.shape[1]-1))\n",
        "  mse =  mean_squared_error(y_test, model_train_preds)\n",
        "  mae = mean_absolute_error(y_test, model_train_preds)\n",
        "  metrix_dict = {'model_name':Model_name,\n",
        "                 'Train Score':train_score,\n",
        "                 'Test Score':test_score,\n",
        "                 'R2 Score':r2, \n",
        "                 'Adjusted R2 Score':adjusted_r2,\n",
        "                 'MSE':mse,\n",
        "                 'MAE':mae,\n",
        "               }\n",
        "  df = df.append(metrix_dict,ignore_index = True)\n",
        "  return df\n",
        "\n"
      ],
      "execution_count": 119,
      "outputs": []
    },
    {
      "cell_type": "code",
      "metadata": {
        "id": "gZ4fWRnC7DT9"
      },
      "source": [
        "# Create a dictionary of instances of all the models with model name as value\n",
        "models = {reg:\"Linear Regression\",lasso:\"Lasso Regression\",ridge_regressor: \"Ridge Regression\",rf_optimal_model: \"Random Forest Regressor\",}\n"
      ],
      "execution_count": 124,
      "outputs": []
    },
    {
      "cell_type": "code",
      "source": [
        "models"
      ],
      "metadata": {
        "colab": {
          "base_uri": "https://localhost:8080/"
        },
        "id": "qVihqR_3V81D",
        "outputId": "d486d886-86f2-4c49-d276-260f8588dfd4"
      },
      "execution_count": 125,
      "outputs": [
        {
          "output_type": "execute_result",
          "data": {
            "text/plain": [
              "{GradientBoostingRegressor(random_state=0): 'Linear Regression',\n",
              " Lasso(alpha=0.01, max_iter=3000): 'Lasso Regression',\n",
              " GridSearchCV(cv=3, estimator=Ridge(),\n",
              "              param_grid={'alpha': [1e-15, 1e-10, 1e-08, 1e-05, 0.0001, 0.001,\n",
              "                                    0.01, 1, 5, 10, 20, 30, 40, 45, 50, 55, 60,\n",
              "                                    100]},\n",
              "              scoring='neg_mean_squared_error'): 'Ridge Regression',\n",
              " RandomForestRegressor(ccp_alpha=0.01, max_depth=8, min_samples_leaf=40,\n",
              "                       min_samples_split=50): 'Random Forest Regressor'}"
            ]
          },
          "metadata": {},
          "execution_count": 125
        }
      ]
    },
    {
      "cell_type": "markdown",
      "source": [
        "#  **CONCLUSSION**"
      ],
      "metadata": {
        "id": "nJ_GD0qR6MHz"
      }
    },
    {
      "cell_type": "markdown",
      "metadata": {
        "id": "UaNpfJgdQ-8w"
      },
      "source": [
        "\n",
        "\n",
        "**We used diffent type of regression algorithms to train our model like, Linear Regression, Regularized linear regression (Ridge and Lasso), GBM,Random Forest Regressor, XGboost regresssor. and Also we tuned the parameters of Random forest regressor and XGboost regressor and also found the important features for training the model. Out of them XGboost with tuned hyperparameters gave the best result.**"
      ]
    }
  ]
}